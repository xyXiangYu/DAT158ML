{
 "cells": [
  {
   "cell_type": "markdown",
   "metadata": {},
   "source": [
    "Alexander S. Lundervold, September 18th, 2018"
   ]
  },
  {
   "cell_type": "markdown",
   "metadata": {},
   "source": [
    "# Introduction"
   ]
  },
  {
   "cell_type": "markdown",
   "metadata": {},
   "source": [
    "In this part of the course we start digging into some details about how machine learning models work. How some of the main models are constructed, and how they are trained on data. \n",
    "\n",
    "We'll cover the following topics in this notebook:\n",
    "- **Linear regression**. A very basic model, but frequently used in both industry and academia. You've likely seen it before in your maths classes. This model is so simple that you actually don't have to train it to make it produce something optimal, we can essentially \"solve it\" to find the exact optimal solution. However, we'll see how the model can be trained using **gradient descent**.\n",
    "\n",
    "\n",
    "- **Gradient descent**. This is one of the most important training algorithms in modern machine learning! It's most famously used in neural networks and deep learning, but it's actually a simple(!) optimization approach that can be used for many other models. "
   ]
  },
  {
   "cell_type": "markdown",
   "metadata": {},
   "source": [
    "See also Geron's notebook here: https://github.com/ageron/handson-ml/blob/master/04_training_linear_models.ipynb"
   ]
  },
  {
   "cell_type": "markdown",
   "metadata": {},
   "source": [
    "# Setup"
   ]
  },
  {
   "cell_type": "markdown",
   "metadata": {},
   "source": [
    "We set up our standard environment below."
   ]
  },
  {
   "cell_type": "code",
   "execution_count": 1,
   "metadata": {},
   "outputs": [],
   "source": [
    "# To automatically reload modules defined in external files.\n",
    "%reload_ext autoreload\n",
    "%autoreload 2\n",
    "\n",
    "# To display plots directly in the notebook:\n",
    "%matplotlib inline"
   ]
  },
  {
   "cell_type": "code",
   "execution_count": 2,
   "metadata": {},
   "outputs": [],
   "source": [
    "import numpy as np\n",
    "import pandas as pd\n",
    "import matplotlib.pyplot as plt\n",
    "import matplotlib\n",
    "import sklearn"
   ]
  },
  {
   "cell_type": "code",
   "execution_count": 3,
   "metadata": {},
   "outputs": [],
   "source": [
    "# To make the notebook reproducible\n",
    "seed = 42\n",
    "np.random.seed(seed)"
   ]
  },
  {
   "cell_type": "markdown",
   "metadata": {},
   "source": [
    "# Linear regression"
   ]
  },
  {
   "cell_type": "markdown",
   "metadata": {},
   "source": [
    "You've probably seen linear regression before: it's a simple way to fit a straight line through a set of data points. In fact, you looked at it already in \"videregående skole\" (high school):"
   ]
  },
  {
   "cell_type": "markdown",
   "metadata": {},
   "source": [
    "<img src=\"assets/linreg_book.png\"><br>\n",
    "                <span><center><small>Image from <a href=\"http://sinus-1t.cappelendamm.no/elevreal/videosamling.html?tid=1965498&sec_tid=1363315\">Sinus 1T</a></small></center></span>"
   ]
  },
  {
   "cell_type": "markdown",
   "metadata": {},
   "source": [
    "Remember that the equation for a straight line in two dimensions is \n",
    "$$y = ax + b.$$ \n",
    "\n",
    "We will have use for stratight lines in any dimensional space and will change the notation a bit. We'll write"
   ]
  },
  {
   "cell_type": "markdown",
   "metadata": {},
   "source": [
    "$$y = \\theta_0 + \\theta_1 x_1 + \\theta_2 x_2 + \\cdots + \\theta_n x_n$$"
   ]
  },
  {
   "cell_type": "markdown",
   "metadata": {},
   "source": [
    "where the $\\theta_i$ are numbers (the **model parameters**) and the $x_i$ are variables (the **feature values**)."
   ]
  },
  {
   "cell_type": "markdown",
   "metadata": {},
   "source": [
    "## "
   ]
  },
  {
   "cell_type": "markdown",
   "metadata": {},
   "source": [
    "If you remember your linear algebra, you'll notice that if we collect all the parameters in a **parameter vector** $\\theta = [\\theta_0, \\theta_1, \\dots, \\theta_n]$ and the features in a **feature vector** $\\mathbf{x} = [x_0, x_1, \\dots, x_n]$, where $x_0 = 1$, then we can write"
   ]
  },
  {
   "cell_type": "markdown",
   "metadata": {},
   "source": [
    "$$y = \\theta \\cdot \\mathbf{x},$$"
   ]
  },
  {
   "cell_type": "markdown",
   "metadata": {},
   "source": [
    "where $\\cdot$ is the dot product (also called the scalar product or the inner product). See [Khan Academy: Vector dot product and vector length](https://nb.khanacademy.org/math/linear-algebra/vectors-and-spaces/dot-cross-products/v/vector-dot-product-and-vector-length) if you want a refresher."
   ]
  },
  {
   "cell_type": "markdown",
   "metadata": {},
   "source": [
    "## "
   ]
  },
  {
   "cell_type": "markdown",
   "metadata": {},
   "source": [
    "Let's try it out in code. First we need some data. We'll generate a bunch of points from a linear function, but add some noise to the points to make them deviate from a straight line."
   ]
  },
  {
   "cell_type": "code",
   "execution_count": 4,
   "metadata": {},
   "outputs": [],
   "source": [
    "np.random.seed(seed)\n",
    "m = 100\n",
    "X = 2 * np.random.rand(m, 1) # m random numbers between 0 and 2\n",
    "y = 4 + 3 * X + np.random.randn(m, 1) \n",
    "# y-value generated by the function with theta_0 = 4, theta_1 = 3, and some noise"
   ]
  },
  {
   "cell_type": "markdown",
   "metadata": {},
   "source": [
    "Here they are:"
   ]
  },
  {
   "cell_type": "code",
   "execution_count": 5,
   "metadata": {},
   "outputs": [
    {
     "data": {
      "image/png": "[encoded data removed]",
      "text/plain": [
       "<Figure size 576x432 with 1 Axes>"
      ]
     },
     "metadata": {},
     "output_type": "display_data"
    }
   ],
   "source": [
    "plt.figure(figsize=(8,6))\n",
    "plt.plot(X,y, 'b.')\n",
    "plt.axis([0, 2, 0, 15])\n",
    "plt.show()"
   ]
  },
  {
   "cell_type": "markdown",
   "metadata": {},
   "source": [
    "> Our goal is to find the \"best\" straight line that goes through all the points."
   ]
  },
  {
   "cell_type": "markdown",
   "metadata": {},
   "source": [
    "### "
   ]
  },
  {
   "cell_type": "markdown",
   "metadata": {},
   "source": [
    "This is the result we're after:"
   ]
  },
  {
   "cell_type": "markdown",
   "metadata": {},
   "source": [
    "<img src=\"assets/regression_line.png\">"
   ]
  },
  {
   "cell_type": "code",
   "execution_count": 6,
   "metadata": {},
   "outputs": [],
   "source": [
    "# %load regline # Uncomment this to get the scikit-learn code used to generate the above plot"
   ]
  },
  {
   "cell_type": "markdown",
   "metadata": {},
   "source": [
    "### "
   ]
  },
  {
   "cell_type": "markdown",
   "metadata": {},
   "source": [
    "Let's write \n",
    "$$\\hat{y}(x) = \\theta_0x_0 + \\theta_1 x_1 = \\theta \\cdot \\mathbf{x}, \\qquad \\mbox{where} \\quad x_0 = 1$$\n",
    "for the straight line we'll try to fit to the data."
   ]
  },
  {
   "cell_type": "markdown",
   "metadata": {},
   "source": [
    "First we need to define what we mean by *best*. A sensible measure for how well a line fits the data is the sum of the distance from the line and the data, calculated using the euclidean metric $|x_n - \\hat{y}(x_n)|$. Note that other ways to measure distances (i.e. metrics) are possible."
   ]
  },
  {
   "cell_type": "markdown",
   "metadata": {},
   "source": [
    "It turns out to be convenient to minimize the so-called **mean square error** (MSE):"
   ]
  },
  {
   "cell_type": "markdown",
   "metadata": {},
   "source": [
    "$$\\begin{align}\\mbox{MSE}(\\theta) &= \\frac1m \\sum_{i=1}^m \\big(\\theta \\cdot \\mathbf{x}^{(i)} - y^{(i)} \\big)^2\\\\\n",
    "\\end{align}$$"
   ]
  },
  {
   "cell_type": "markdown",
   "metadata": {},
   "source": [
    "(and, sometimes, the **root mean square error** (RMSE), which is simply $\\sqrt{\\mbox{MSE}(\\theta)}$.) Here $\\mathbf{x}^{(i)}$ and $y^{(i)}$ represent the i-th data point."
   ]
  },
  {
   "cell_type": "markdown",
   "metadata": {},
   "source": [
    "In code:"
   ]
  },
  {
   "cell_type": "code",
   "execution_count": 7,
   "metadata": {},
   "outputs": [],
   "source": [
    "def MSE(theta0, theta1):\n",
    "    \"\"\"\n",
    "    Mean square error for linear regression\n",
    "    \"\"\"\n",
    "    error = 0\n",
    "    for xi, yi in zip(X,y):\n",
    "        yhat = theta0 + theta1*xi\n",
    "        error += (yhat - yi)**2\n",
    "    return error/len(X)"
   ]
  },
  {
   "cell_type": "markdown",
   "metadata": {},
   "source": [
    "###"
   ]
  },
  {
   "cell_type": "markdown",
   "metadata": {},
   "source": [
    "Here's the mean squared error when using the line $\\hat{y} = 1 + 12x$ to fit our data:"
   ]
  },
  {
   "cell_type": "code",
   "execution_count": 8,
   "metadata": {},
   "outputs": [
    {
     "data": {
      "text/plain": [
       "array([60.521481])"
      ]
     },
     "execution_count": 8,
     "metadata": {},
     "output_type": "execute_result"
    }
   ],
   "source": [
    "MSE(1,12)"
   ]
  },
  {
   "cell_type": "markdown",
   "metadata": {},
   "source": [
    "Here it is for $\\hat{y} = 3 + 5x$:"
   ]
  },
  {
   "cell_type": "code",
   "execution_count": 9,
   "metadata": {},
   "outputs": [
    {
     "data": {
      "text/plain": [
       "array([3.326786])"
      ]
     },
     "execution_count": 9,
     "metadata": {},
     "output_type": "execute_result"
    }
   ],
   "source": [
    "MSE(3,5)"
   ]
  },
  {
   "cell_type": "markdown",
   "metadata": {},
   "source": [
    "You can play around with selecting values for $\\theta_0$ and $\\theta_1$ below. What combination of $\\theta_1$ and $\\theta_2$ do you expect will give the best result?"
   ]
  },
  {
   "cell_type": "code",
   "execution_count": 10,
   "metadata": {},
   "outputs": [
    {
     "data": {
      "application/vnd.jupyter.widget-view+json": {
       "model_id": "5daa42384eb142278a90fd999fa73716",
       "version_major": 2,
       "version_minor": 0
      },
      "text/plain": [
       "interactive(children=(IntSlider(value=0, description='theta0', max=5, min=-5), IntSlider(value=0, description=…"
      ]
     },
     "metadata": {},
     "output_type": "display_data"
    }
   ],
   "source": [
    "from ipywidgets import interact\n",
    "\n",
    "_ = interact(MSE, theta0=(-5,5), theta1=(-5,5))"
   ]
  },
  {
   "cell_type": "markdown",
   "metadata": {},
   "source": [
    "> **Your turn!**\n",
    "Try to calculate the MSE by hand if you use the line $\\frac12 + \\frac14 x$ as a model for the three data points \n",
    "\n",
    "$$\\mathbf{x}^{(1)} = (1,1) \\qquad \\mathbf{x}^{(2)} = (2,1) \\qquad \\mathbf{x}^{(3)} = (4,2)$$"
   ]
  },
  {
   "cell_type": "markdown",
   "metadata": {},
   "source": [
    "###"
   ]
  },
  {
   "cell_type": "markdown",
   "metadata": {},
   "source": [
    "In machine learning, the functions we're trying to minimize when training models are called **error functions**, **cost functions**, **objective function** or **loss functions**."
   ]
  },
  {
   "cell_type": "markdown",
   "metadata": {},
   "source": [
    "In fact, you can compute this result _exactly_ by using MAT108 techniques: differentiate the MSE function with respect to $\\theta$, and solve for $\\theta$ when setting the derivative to zero. The solution, called the **normal equation**, gives the exact values for $\\theta$ that are best."
   ]
  },
  {
   "cell_type": "markdown",
   "metadata": {},
   "source": [
    "But let's try to get there using **gradient descent**, a hugely powerful (but very simple) algorithm that can be used to optimize any function, way beyond simple linear regression. "
   ]
  },
  {
   "cell_type": "markdown",
   "metadata": {},
   "source": [
    "> In general, **optimization** refers to the task of finding the minimum or maximum of a function $f(\\mathbf{x})$ by altering the variable $\\mathbf{x}$. In our case, we want to find the minimum of $MSE(\\theta)$ by altering $\\theta$."
   ]
  },
  {
   "cell_type": "markdown",
   "metadata": {},
   "source": [
    "> One can in principle find the minimum of any differentiable function by finding all the points that have derivative equal zero, but in practice this is not a good way to do it! (For example, in artificial neural networks there are typically thousands, and in deep learning often millions of parameters, and we would have to solve million-degree equations). "
   ]
  },
  {
   "cell_type": "markdown",
   "metadata": {},
   "source": [
    "# Gradient descent"
   ]
  },
  {
   "cell_type": "markdown",
   "metadata": {},
   "source": [
    "To train a machine learning model means to find the model parameters that best describe the training data, where \"best\" refers to minimizing the cost function. \n",
    "\n",
    "One very general algorithm that achieves this is **gradient descent**, an iterative optimization algorithm that seeks to find the model parameters that minimize a given cost function."
   ]
  },
  {
   "cell_type": "markdown",
   "metadata": {},
   "source": [
    "Remember (from MAT108 or from high school) that the derivative of a function can tell you where it is increasing and decreasing. Think of the following example, where we have a function of one variable:"
   ]
  },
  {
   "cell_type": "markdown",
   "metadata": {},
   "source": [
    "<img src=\"assets/tangent.gif\">"
   ]
  },
  {
   "cell_type": "markdown",
   "metadata": {},
   "source": [
    "###"
   ]
  },
  {
   "cell_type": "markdown",
   "metadata": {},
   "source": [
    "For functions of more than one variable the so-called **gradient**, written as $\\nabla f$, plays the role of the derivative (you need something more than the standard derivative when you have more than just one variable $x$ in $y=f(x)$, because there are several \"x's\" to differentiate with respect to). "
   ]
  },
  {
   "cell_type": "markdown",
   "metadata": {},
   "source": [
    "> Importantly, **the gradient $\\nabla$ of $f$ always points in the direction where $f$ increases the most**. This is true in *any* dimension."
   ]
  },
  {
   "cell_type": "markdown",
   "metadata": {},
   "source": [
    "##"
   ]
  },
  {
   "cell_type": "markdown",
   "metadata": {},
   "source": [
    "<img src=\"assets/gradient.gif\">"
   ]
  },
  {
   "cell_type": "markdown",
   "metadata": {},
   "source": [
    "## "
   ]
  },
  {
   "cell_type": "markdown",
   "metadata": {},
   "source": [
    "This gives us a simple way to find the minimum of a cost function: start with some random parameters $\\theta$. Calculate the gradient of the cost function at $\\theta$. Take a small step in the direction *opposite* of the gradient. Repeat this. This is called **gradient descent**, and dates back to the work of the mathematician Louis Augustin Cauchy in 1847 (motivated by calculations in astronomy)."
   ]
  },
  {
   "cell_type": "markdown",
   "metadata": {},
   "source": [
    "###"
   ]
  },
  {
   "cell_type": "markdown",
   "metadata": {},
   "source": [
    "<img src=\"assets/graddesc-mountain.png\">"
   ]
  },
  {
   "cell_type": "markdown",
   "metadata": {},
   "source": [
    "###"
   ]
  },
  {
   "cell_type": "markdown",
   "metadata": {},
   "source": [
    "Visually, what we're doing when using gradient descent for linear regression is the following (only in higher dimensions):"
   ]
  },
  {
   "cell_type": "markdown",
   "metadata": {},
   "source": [
    "<img src=\"assets/graddesc.png\"><br><small><center>Image from A. Géron</center></small>"
   ]
  },
  {
   "cell_type": "markdown",
   "metadata": {},
   "source": [
    "<img src=\"assets/gradient_descent.gif\"> <br><small><center>Image from <a href=\"https://alykhantejani.github.io/a-brief-introduction-to-gradient-descent/\">Alykhan Tejani</a></center></small>"
   ]
  },
  {
   "cell_type": "markdown",
   "metadata": {},
   "source": [
    "### "
   ]
  },
  {
   "cell_type": "markdown",
   "metadata": {},
   "source": [
    "Algorithmically, we're doing"
   ]
  },
  {
   "cell_type": "markdown",
   "metadata": {},
   "source": [
    "$$\\theta = \\theta - \\eta \\nabla \\mbox{MSE}(\\theta),$$"
   ]
  },
  {
   "cell_type": "markdown",
   "metadata": {},
   "source": [
    "where $\\eta$ (greek letter \"eta\") is our step-size, also called the **learning rate**."
   ]
  },
  {
   "cell_type": "markdown",
   "metadata": {},
   "source": [
    "To implement this algorithm we need a way to calculate (or estimate) the gradient of the cost function with respect to the parameters $\\theta$. \n",
    "\n",
    "Luckily, mean square error is such an easy function and calculating the gradient directly is not hard. It involves a bit of vector calculus which may be unfamiliar to you, but, believe me, if you reformulate MSE as\n",
    "\n",
    "$$\\mbox{MSE}(\\theta) =\\frac 1m (\\mathbf{X} \\theta - y)^T (\\mathbf{X} \\theta - y)$$\n",
    "\n",
    "where $\\mathbf{X}$ is the so-called **design matrix** containing all the training examples\n",
    "$$\\mathbf{X} =  \\left(\\begin{array}{l} \\mathbf{x}^{(1)} \\\\ \\mathbf{x}^{(1)} \\\\ \\vdots \\\\ \\mathbf{x}^{(m)}\\end{array}\\right),$$ then a small calulation results in "
   ]
  },
  {
   "cell_type": "markdown",
   "metadata": {},
   "source": [
    "$$ \\nabla \\mbox{MSE}(\\theta) = \\frac2m \\mathbf{X}^T (\\mathbf{X} \\cdot \\theta - \\mathbf{y})$$"
   ]
  },
  {
   "cell_type": "markdown",
   "metadata": {},
   "source": [
    "Let's try it out!"
   ]
  },
  {
   "cell_type": "markdown",
   "metadata": {},
   "source": [
    "## Gradient descent example"
   ]
  },
  {
   "cell_type": "markdown",
   "metadata": {},
   "source": [
    "Since we want to use the formula $\\hat{y} = \\theta \\cdot \\mathbf{x}$ as above, we need to add the $x_0 = 1$ to our previous $X$:"
   ]
  },
  {
   "cell_type": "code",
   "execution_count": 11,
   "metadata": {},
   "outputs": [],
   "source": [
    "X_b = np.c_[np.ones((m,1)), X]"
   ]
  },
  {
   "cell_type": "code",
   "execution_count": 12,
   "metadata": {},
   "outputs": [],
   "source": [
    "eta = 0.01\n",
    "n_epochs = 500 # We'll go through the training data many times. One pass through is called an epoch."
   ]
  },
  {
   "cell_type": "code",
   "execution_count": 13,
   "metadata": {},
   "outputs": [],
   "source": [
    "np.random.seed(seed)\n",
    "theta = np.random.randn(2,1) # We start with some random parameters"
   ]
  },
  {
   "cell_type": "code",
   "execution_count": 14,
   "metadata": {},
   "outputs": [
    {
     "data": {
      "text/plain": [
       "array([[ 0.49671415],\n",
       "       [-0.1382643 ]])"
      ]
     },
     "execution_count": 14,
     "metadata": {},
     "output_type": "execute_result"
    }
   ],
   "source": [
    "theta"
   ]
  },
  {
   "cell_type": "code",
   "execution_count": 15,
   "metadata": {},
   "outputs": [],
   "source": [
    "for epoch in range(n_epochs):\n",
    "    gradients = 2/m * X_b.T.dot(X_b.dot(theta) - y)\n",
    "    theta = theta - eta*gradients"
   ]
  },
  {
   "cell_type": "code",
   "execution_count": 16,
   "metadata": {},
   "outputs": [
    {
     "data": {
      "text/plain": [
       "array([[4.09699856],\n",
       "       [2.87438714]])"
      ]
     },
     "execution_count": 16,
     "metadata": {},
     "output_type": "execute_result"
    }
   ],
   "source": [
    "theta"
   ]
  },
  {
   "cell_type": "markdown",
   "metadata": {},
   "source": [
    "We've now trained our model on the training set $X$ using gradient descent. After training, the model thinks that $\\theta_1=4.1$ and $\\theta_1 = 2.87$ are good parameter choices.\n",
    "\n",
    "We can use it to make predictions on a new test data set:"
   ]
  },
  {
   "cell_type": "code",
   "execution_count": 17,
   "metadata": {},
   "outputs": [],
   "source": [
    "X_new = np.array([[0], [2]]) # We choose two x-values\n",
    "X_new_b = np.c_[np.ones((2,1)), X_new] # Again, we need to add x0 = 1"
   ]
  },
  {
   "cell_type": "code",
   "execution_count": 18,
   "metadata": {},
   "outputs": [
    {
     "data": {
      "text/plain": [
       "array([[4.09699856],\n",
       "       [9.84577284]])"
      ]
     },
     "execution_count": 18,
     "metadata": {},
     "output_type": "execute_result"
    }
   ],
   "source": [
    "y_predict = X_new_b.dot(theta) # We predict the corresponding y-values using the theta found during training\n",
    "y_predict"
   ]
  },
  {
   "cell_type": "code",
   "execution_count": 19,
   "metadata": {},
   "outputs": [
    {
     "data": {
      "image/png": "[encoded data removed]",
      "text/plain": [
       "<Figure size 432x288 with 1 Axes>"
      ]
     },
     "metadata": {},
     "output_type": "display_data"
    }
   ],
   "source": [
    "plt.plot(X_new, y_predict, 'r')\n",
    "plt.plot(X, y, 'b.')\n",
    "plt.show()"
   ]
  },
  {
   "cell_type": "markdown",
   "metadata": {},
   "source": [
    "Not bad!"
   ]
  },
  {
   "cell_type": "markdown",
   "metadata": {},
   "source": [
    "###"
   ]
  },
  {
   "cell_type": "markdown",
   "metadata": {},
   "source": [
    "Let's animate the model during training, step for step. Note: it's not necessary to study the code used to create the animation."
   ]
  },
  {
   "cell_type": "code",
   "execution_count": 20,
   "metadata": {},
   "outputs": [],
   "source": [
    "from matplotlib import animation, rc\n",
    "from IPython.display import HTML\n",
    "\n",
    "def animatePred(eta=0.01, n_epochs = 500): \n",
    "    # Calculate predictions\n",
    "    np.random.seed(seed)\n",
    "    theta = np.random.randn(2,1)  # Random initialization\n",
    "    thetas = [theta, ]\n",
    "\n",
    "    for epoch in range(n_epochs):\n",
    "        gradients = 2/m * X_b.T.dot(X_b.dot(theta) - y)\n",
    "        theta = theta - eta*gradients\n",
    "        thetas.append(theta)   \n",
    "        \n",
    "    # Plot results\n",
    "    fig, ax = plt.subplots(figsize=(12,8))\n",
    "    plt.plot(X, y, \"b.\")  \n",
    "    y_predict_grad = X_new_b.dot(thetas[0])\n",
    "    line, = ax.plot(X_new, y_predict_grad)\n",
    "    text = ax.text(0.5, 0.5, '')\n",
    "    def animate(i):\n",
    "        y_predict_grad = X_new_b.dot(thetas[i])\n",
    "        line.set_ydata(y_predict_grad)  # update the data\n",
    "        text.set_text('theta0 = %.2f\\n theta1 = %.2f' % (thetas[i][0], thetas[i][1]))\n",
    "        return line,\n",
    "    \n",
    "    #Init only required for blitting to give a clean slate.\n",
    "    def init():\n",
    "        line.set_ydata(np.ma.array(X_new, mask=True))\n",
    "        return line,\n",
    "    \n",
    "    ani = animation.FuncAnimation(fig, animate, init_func=init,\n",
    "        interval=30, blit=True)\n",
    "    \n",
    "    HTML(ani.to_html5_video())\n",
    "    rc('animation', html='html5')\n",
    "    return ani"
   ]
  },
  {
   "cell_type": "code",
   "execution_count": 21,
   "metadata": {},
   "outputs": [],
   "source": [
    "%%capture\n",
    "anim = animatePred()"
   ]
  },
  {
   "cell_type": "code",
   "execution_count": 22,
   "metadata": {},
   "outputs": [],
   "source": [
    "anim.save('gradDescent_anim_1.mp4')"
   ]
  },
  {
   "cell_type": "code",
   "execution_count": 23,
   "metadata": {},
   "outputs": [
    {
     "data": {
      "text/html": [
       "<video width=100% controls autoplay loop>\n",
       "    <source src=\"./gradDescent_anim_1.mp4\" type=\"video/mp4\">\n",
       "</video>"
      ],
      "text/plain": [
       "<IPython.core.display.HTML object>"
      ]
     },
     "metadata": {},
     "output_type": "display_data"
    }
   ],
   "source": [
    "%%HTML\n",
    "<video width=100% controls autoplay loop>\n",
    "    <source src=\"./gradDescent_anim_1.mp4\" type=\"video/mp4\">\n",
    "</video>"
   ]
  },
  {
   "cell_type": "markdown",
   "metadata": {},
   "source": [
    "## What can go wrong?"
   ]
  },
  {
   "cell_type": "markdown",
   "metadata": {},
   "source": [
    "Note that in the above gradient descent implementation we chose two things: the learning rate and the number of iterations. Both of these can lead to trouble if not chosen carefully, especially in more complex models (like neural networks, for example). "
   ]
  },
  {
   "cell_type": "markdown",
   "metadata": {},
   "source": [
    "### Effect of choosing learning rates and number of epochs"
   ]
  },
  {
   "cell_type": "markdown",
   "metadata": {},
   "source": [
    "We can experiment with this using an interactive visualization of gradient descent for the data generated above:"
   ]
  },
  {
   "cell_type": "code",
   "execution_count": 24,
   "metadata": {},
   "outputs": [],
   "source": [
    "from ipywidgets import interact, interactive, FloatSlider, IntSlider"
   ]
  },
  {
   "cell_type": "code",
   "execution_count": 32,
   "metadata": {},
   "outputs": [
    {
     "data": {
      "application/vnd.jupyter.widget-view+json": {
       "model_id": "968bbf8ee19241098f52d9d51e1c969f",
       "version_major": 2,
       "version_minor": 0
      },
      "text/plain": [
       "interactive(children=(FloatSlider(value=0.1, description='eta', max=1.0, min=0.001, step=0.005), IntSlider(val…"
      ]
     },
     "metadata": {},
     "output_type": "display_data"
    }
   ],
   "source": [
    "def generate_plot_gradient_descent(eta, n_epochs):\n",
    "    np.random.seed(seed)\n",
    "    theta = np.random.randn(2,1)\n",
    "    plt.figure(1, figsize=(8,6))\n",
    "    for epoch in range(n_epochs):\n",
    "        gradients = 2/m * X_b.T.dot(X_b.dot(theta) - y)\n",
    "        theta = theta - eta*gradients\n",
    "    \n",
    "    y_predict = X_new_b.dot(theta)\n",
    "    plt.plot(X_new, y_predict, 'r')\n",
    "    plt.plot(X, y, 'b.')\n",
    "    plt.show()\n",
    "    \n",
    "interactive_plot = interactive(generate_plot_gradient_descent, \n",
    "                               eta = FloatSlider(min=0.001, max=1.0, step=0.005, value=0.1), \n",
    "                               n_epochs=IntSlider(min=2, max=50, step=10, value=20))\n",
    "output = interactive_plot.children[-1]\n",
    "interactive_plot"
   ]
  },
  {
   "cell_type": "markdown",
   "metadata": {},
   "source": [
    "####"
   ]
  },
  {
   "cell_type": "markdown",
   "metadata": {},
   "source": [
    "Here are some animations to help you see what's going on:"
   ]
  },
  {
   "cell_type": "code",
   "execution_count": 26,
   "metadata": {},
   "outputs": [],
   "source": [
    "%%capture\n",
    "ani_001 = animatePred(eta=0.01, n_epochs=500)\n",
    "ani_002 = animatePred(eta=0.02, n_epochs=500)\n",
    "ani_01 = animatePred(eta=0.1, n_epochs=500)\n",
    "ani_05 = animatePred(eta=0.5, n_epochs=500)"
   ]
  },
  {
   "cell_type": "code",
   "execution_count": 27,
   "metadata": {},
   "outputs": [],
   "source": [
    "ani_001.save('ani_001.mp4')\n",
    "ani_002.save('ani_002.mp4')\n",
    "ani_01.save('ani_01.mp4')\n",
    "ani_05.save('ani_05.mp4')"
   ]
  },
  {
   "cell_type": "code",
   "execution_count": 28,
   "metadata": {},
   "outputs": [
    {
     "data": {
      "text/html": [
       "<video width=100% controls autoplay loop>\n",
       "    <source src='ani_001.mp4' type=\"video/mp4\">  # Change file\n",
       "</video>"
      ],
      "text/plain": [
       "<IPython.core.display.HTML object>"
      ]
     },
     "metadata": {},
     "output_type": "display_data"
    }
   ],
   "source": [
    "%%HTML\n",
    "<video width=100% controls autoplay loop>\n",
    "    <source src='ani_001.mp4' type=\"video/mp4\">  # Change file\n",
    "</video>"
   ]
  },
  {
   "cell_type": "code",
   "execution_count": 29,
   "metadata": {},
   "outputs": [],
   "source": [
    "#ani_001 # Uncomment to display animation"
   ]
  },
  {
   "cell_type": "code",
   "execution_count": 30,
   "metadata": {},
   "outputs": [],
   "source": [
    "#ani_01"
   ]
  },
  {
   "cell_type": "code",
   "execution_count": 31,
   "metadata": {},
   "outputs": [],
   "source": [
    "#ani_05"
   ]
  },
  {
   "cell_type": "markdown",
   "metadata": {},
   "source": [
    "We notice that, unsurprisingly, very low learning rates lead to very slow convergence. Also, very high learning rates leads to something that doesn't converge at all! Why is that?"
   ]
  },
  {
   "cell_type": "markdown",
   "metadata": {},
   "source": [
    "<img src=\"assets/smalllr.png\"> <img src=\"assets/biglr.png\">"
   ]
  },
  {
   "cell_type": "markdown",
   "metadata": {},
   "source": [
    "> **Your turn!**\n",
    "- Use **grid search** to find a good learning rate for a fixed number of epochs. Set `n_epochs=100` and search through a set of learning rates for the one that results in the lowest cost for that number of epochs."
   ]
  },
  {
   "cell_type": "markdown",
   "metadata": {},
   "source": [
    "### What if there are several local minimums?"
   ]
  },
  {
   "cell_type": "markdown",
   "metadata": {},
   "source": [
    "For linear regression, the mean square error function is *convex*, which means that there is one, and only one minimum. This is not the case in general. Very few functions are convex, most have several local minimas. "
   ]
  },
  {
   "cell_type": "markdown",
   "metadata": {},
   "source": [
    "<img src=\"assets/localoptimum.png\">"
   ]
  },
  {
   "cell_type": "markdown",
   "metadata": {},
   "source": [
    "In fact, this is one of the main reasons why artificial neural networks are so tricky to train: their cost functions are convex functions of the parameters. However, it has recently turned out that minor variations of gradient descent still works great, even for deep neural networks (i.e. deep learning), as long as you have enough computing power (i.e. powerful GPUs or TPUs). \n",
    "\n",
    "We'll discuss these variants of gradient descent next."
   ]
  },
  {
   "cell_type": "markdown",
   "metadata": {},
   "source": [
    "# Variants of gradient descent"
   ]
  },
  {
   "cell_type": "markdown",
   "metadata": {},
   "source": [
    "These are three main ways of doing gradient descent, each with some advantages and disadvantages:\n",
    "\n",
    "- In **batch gradient descent** the entire training data set is fed to the algorithm each time the gradient is calculated. Each step is therefore carefully chosen, but we have to be able to store the entire training data set in memory. Which is often way beyond what's possible, as we often can have millions of data points. \n",
    "\n",
    "\n",
    "- **Stochastic gradient descent** is the opposite extreme: the update of the parameter $\\theta$ is done based on calculating the gradient for *one single data point* each time, chosen at random. This results in pretty random updates, but has the advantage of being online: we can train the model on the fly as new data arrives. In addition, the randomness in stochastic gradient descent can allow us to escape local minimas, because a point where the cost function has derivative zero with respect to the entire data set will typically not have derivative zero when considering one point at a time.\n",
    "\n",
    "\n",
    "- **Mini-batch gradient descent** is a compromise between these extremes. The updates are made based on a few examples, called a batch. This is the approach taken when training artificial neural networks, where the batch size is typically set as high as the GPU memory can handle. This allows for more parallelization, something GPUs excel at. <img width=30% src=\"assets/gpu.png\">"
   ]
  },
  {
   "cell_type": "markdown",
   "metadata": {},
   "source": [
    "Note that people often say stochastic gradient descent when they are referring to mini-batch gradient descent. \n",
    "\n",
    "There are other slightly more advanced variations of gradient descent out there, that takes into account previous gradients when computing the next update (search for RMSProp, Adagrad or Adam optimizer if you're curious). We'll use these when we get to the deep learning part of the course."
   ]
  },
  {
   "cell_type": "markdown",
   "metadata": {},
   "source": [
    "Let's try out the three main versions of gradient descent for our linear regression problem."
   ]
  },
  {
   "cell_type": "markdown",
   "metadata": {
    "heading_collapsed": true
   },
   "source": [
    "## In psuedocode"
   ]
  },
  {
   "cell_type": "markdown",
   "metadata": {
    "hidden": true
   },
   "source": [
    "```\n",
    "for epoch in range(num_epochs): \n",
    "  gradient = evaluate_gradient(loss_function, data, params)\n",
    "  params = params - learning_rate * gradient\n",
    "  \n",
    "  \n",
    "for epoch in range(num_epochs):\n",
    "  for i in range(len(data)):\n",
    "    example = random.choice(data)\n",
    "    gradient = evaluate_gradient(loss_function, example, params)\n",
    "    params = params - learning_rate * gradient\n",
    "    \n",
    "    \n",
    "for epoch in range(num_epochs):\n",
    "  for batch in get_random_batches(data):\n",
    "    gradient = evaluate_gradient(loss_function, batch, params)\n",
    "    params = params - learning_rate * gradient\n",
    "```"
   ]
  },
  {
   "cell_type": "markdown",
   "metadata": {
    "heading_collapsed": true
   },
   "source": [
    "## `evaluate_gradient`"
   ]
  },
  {
   "cell_type": "markdown",
   "metadata": {
    "hidden": true
   },
   "source": [
    "We've already calculated the gradient of MSE with respect to the parameters $\\theta$ in linear regression, and can use it to create the `evaluate_gradient` function:"
   ]
  },
  {
   "cell_type": "code",
   "execution_count": null,
   "metadata": {
    "hidden": true
   },
   "outputs": [],
   "source": [
    "def evaluate_gradient(x, theta, y):\n",
    "    m = len(X)\n",
    "    return 2/m * x.T.dot(x.dot(theta) - y)"
   ]
  },
  {
   "cell_type": "markdown",
   "metadata": {
    "hidden": true
   },
   "source": [
    "For convenience, we create a function to plot the regression line on top of our data:"
   ]
  },
  {
   "cell_type": "code",
   "execution_count": null,
   "metadata": {
    "hidden": true
   },
   "outputs": [],
   "source": [
    "def plot_result(theta):\n",
    "    y_predict = X_new_b.dot(theta)\n",
    "    plt.plot(X_new, y_predict, 'r')\n",
    "    plt.plot(X, y, 'b.')\n",
    "    plt.show()"
   ]
  },
  {
   "cell_type": "markdown",
   "metadata": {
    "heading_collapsed": true
   },
   "source": [
    "## Batch gradient descent"
   ]
  },
  {
   "cell_type": "markdown",
   "metadata": {
    "hidden": true
   },
   "source": [
    "This is what we did earlier:"
   ]
  },
  {
   "cell_type": "code",
   "execution_count": null,
   "metadata": {
    "hidden": true
   },
   "outputs": [],
   "source": [
    "eta = 0.001 # learnng rate\n",
    "n_epochs = 1000\n",
    "\n",
    "theta = np.random.randn(2,1) # Random initalization of the parameters\n",
    "\n",
    "for epoch in range(n_epochs):\n",
    "    gradients = evaluate_gradient(X_b, theta, y)\n",
    "    theta = theta - eta*gradients\n",
    "    \n",
    "print(theta)"
   ]
  },
  {
   "cell_type": "code",
   "execution_count": null,
   "metadata": {
    "hidden": true
   },
   "outputs": [],
   "source": [
    "plot_result(theta)"
   ]
  },
  {
   "cell_type": "markdown",
   "metadata": {
    "heading_collapsed": true
   },
   "source": [
    "## Stochastic gradient descent"
   ]
  },
  {
   "cell_type": "code",
   "execution_count": null,
   "metadata": {
    "hidden": true
   },
   "outputs": [],
   "source": [
    "eta = 0.001\n",
    "n_epochs = 1000\n",
    "\n",
    "theta = np.random.randn(2,1)\n",
    "\n",
    "for epoch in range(n_epochs):\n",
    "    for i in range(len(X_b)):\n",
    "        random_index = np.random.randint(len(X_b)) # Need this to fetch both an x and corresponding y\n",
    "        xi = X_b[random_index:random_index+1]\n",
    "        yi = y[random_index]\n",
    "        gradients = evaluate_gradient(xi, theta, yi)\n",
    "        theta = theta - eta*gradients\n",
    "    \n",
    "print(theta)"
   ]
  },
  {
   "cell_type": "code",
   "execution_count": null,
   "metadata": {
    "hidden": true
   },
   "outputs": [],
   "source": [
    "plot_result(theta)"
   ]
  },
  {
   "cell_type": "markdown",
   "metadata": {
    "hidden": true
   },
   "source": [
    "Since stochastic gradient descent is very erratic one usually use some form of learning rate decay to stop it from jumping out of good minima. The idea is that as the cost approaches a minimum, the steps should get shorter and shorter to make the algorithm settle at the minimum.\n",
    "\n",
    "We can do this by creating a simple learning rate schedule. Say we want to start the learning rate at 0.01, and gradually decay it towards zero as we go through the training data. \n",
    "\n",
    "Here's one way to do it:"
   ]
  },
  {
   "cell_type": "code",
   "execution_count": null,
   "metadata": {
    "hidden": true
   },
   "outputs": [],
   "source": [
    "def lr_schedule(alpha, iteration):\n",
    "    \"\"\"\n",
    "    Decays an initial learning rate for each iteration\n",
    "    \"\"\"\n",
    "    \n",
    "    return 1./ (alpha * (iteration + 100))"
   ]
  },
  {
   "cell_type": "code",
   "execution_count": null,
   "metadata": {
    "hidden": true
   },
   "outputs": [],
   "source": [
    "t = np.arange(0.0, 200.0)\n",
    "plt.plot(lr_schedule(0.1, t))\n",
    "plt.title(\"Learning rate schedule\")\n",
    "plt.ylabel(\"Learning rate\")\n",
    "plt.show()"
   ]
  },
  {
   "cell_type": "markdown",
   "metadata": {
    "hidden": true
   },
   "source": [
    "**Note that this gives us another hyperparameter to tune** when training our models (the alpha)."
   ]
  },
  {
   "cell_type": "code",
   "execution_count": null,
   "metadata": {
    "hidden": true
   },
   "outputs": [],
   "source": [
    "eta = 0.001\n",
    "n_epochs = 500\n",
    "alpha = 0.1\n",
    "decay = 0.1\n",
    "\n",
    "theta = np.random.randn(2,1)\n",
    "\n",
    "for epoch in range(n_epochs):\n",
    "    for i in range(len(X_b)):\n",
    "        random_index = np.random.randint(len(X_b)) # Need this to fetch both an x and corresponding y\n",
    "        xi = X_b[random_index:random_index+1]\n",
    "        yi = y[random_index]\n",
    "        eta = lr_schedule(alpha, i)\n",
    "        gradients = evaluate_gradient(xi, theta, yi)\n",
    "        theta = theta - eta*gradients\n",
    "    \n",
    "print(theta)"
   ]
  },
  {
   "cell_type": "code",
   "execution_count": null,
   "metadata": {
    "hidden": true
   },
   "outputs": [],
   "source": [
    "plot_result(theta)"
   ]
  },
  {
   "cell_type": "markdown",
   "metadata": {
    "heading_collapsed": true
   },
   "source": [
    "## Mini-batch gradient descent"
   ]
  },
  {
   "cell_type": "code",
   "execution_count": null,
   "metadata": {
    "hidden": true
   },
   "outputs": [],
   "source": [
    "n_epochs = 500\n",
    "minibatch_size = 20\n",
    "alpha = 0.01\n",
    "\n",
    "theta = np.random.randn(2,1)  # random initialization\n",
    "\n",
    "\n",
    "for epoch in range(n_epochs):\n",
    "    shuffled_indices = np.random.permutation(len(X_b))\n",
    "    X_b_shuffled = X_b[shuffled_indices]\n",
    "    y_shuffled = y[shuffled_indices]\n",
    "    for i in range(0, len(X_b), minibatch_size):\n",
    "        xi = X_b_shuffled[i:i+minibatch_size]\n",
    "        yi = y_shuffled[i:i+minibatch_size]\n",
    "        gradients = evaluate_gradient(xi, theta, yi)\n",
    "        eta = lr_schedule(alpha, i)\n",
    "        theta = theta - eta * gradients"
   ]
  },
  {
   "cell_type": "code",
   "execution_count": null,
   "metadata": {
    "hidden": true
   },
   "outputs": [],
   "source": [
    "theta"
   ]
  },
  {
   "cell_type": "code",
   "execution_count": null,
   "metadata": {
    "hidden": true
   },
   "outputs": [],
   "source": [
    "plot_result(theta)"
   ]
  },
  {
   "cell_type": "markdown",
   "metadata": {
    "heading_collapsed": true
   },
   "source": [
    "## Comparison"
   ]
  },
  {
   "cell_type": "markdown",
   "metadata": {
    "hidden": true
   },
   "source": [
    "<img src=\"assets/grad_descent_comparisons.png\">"
   ]
  },
  {
   "cell_type": "markdown",
   "metadata": {
    "hidden": true
   },
   "source": [
    "*The above image is created by a slight modification of code in the book. See the file `grad_descent_comparison.py` for the code.*"
   ]
  },
  {
   "cell_type": "code",
   "execution_count": null,
   "metadata": {
    "hidden": true
   },
   "outputs": [],
   "source": [
    "# %load grad_descent_comparison.py"
   ]
  },
  {
   "cell_type": "markdown",
   "metadata": {
    "heading_collapsed": true
   },
   "source": [
    "# Linear regression and gradient descent in scikit-learn"
   ]
  },
  {
   "cell_type": "markdown",
   "metadata": {
    "hidden": true
   },
   "source": [
    "Of course, in practice you wouldn't implement linear regression and gradient descent by hand as we did above. You'll use highly efficient and robust implementations from a well-established library, like scikit-learn. "
   ]
  },
  {
   "cell_type": "markdown",
   "metadata": {
    "heading_collapsed": true,
    "hidden": true
   },
   "source": [
    "## Linear regression"
   ]
  },
  {
   "cell_type": "code",
   "execution_count": null,
   "metadata": {
    "hidden": true
   },
   "outputs": [],
   "source": [
    "from sklearn.linear_model import LinearRegression\n",
    "lin_reg = LinearRegression()\n",
    "lin_reg.fit(X, y)"
   ]
  },
  {
   "cell_type": "code",
   "execution_count": null,
   "metadata": {
    "hidden": true
   },
   "outputs": [],
   "source": [
    "theta = [lin_reg.intercept_, lin_reg.coef_]"
   ]
  },
  {
   "cell_type": "code",
   "execution_count": null,
   "metadata": {
    "hidden": true,
    "scrolled": true
   },
   "outputs": [],
   "source": [
    "theta"
   ]
  },
  {
   "cell_type": "code",
   "execution_count": null,
   "metadata": {
    "hidden": true
   },
   "outputs": [],
   "source": [
    "plot_result(theta)"
   ]
  },
  {
   "cell_type": "markdown",
   "metadata": {
    "hidden": true
   },
   "source": [
    "Note that we used `X` instead of `X_b` in `lin_reg.fit`. The bias term is taken care of automatically."
   ]
  },
  {
   "cell_type": "markdown",
   "metadata": {
    "heading_collapsed": true,
    "hidden": true
   },
   "source": [
    "## Gradient descent"
   ]
  },
  {
   "cell_type": "markdown",
   "metadata": {
    "hidden": true
   },
   "source": [
    "The <a href=\"http://scikit-learn.org/stable/modules/generated/sklearn.linear_model.SGDRegressor.html#sklearn.linear_model.SGDRegressor\">SGDRegressor</a> in scikit-learn implements stochastic gradient descent."
   ]
  },
  {
   "cell_type": "code",
   "execution_count": null,
   "metadata": {
    "hidden": true
   },
   "outputs": [],
   "source": [
    "from sklearn.linear_model import SGDRegressor\n",
    "\n",
    "sgd_reg = SGDRegressor(loss='squared_loss', penalty='none', alpha=0.1, \n",
    "                       learning_rate='optimal', max_iter=1000)\n",
    "\n",
    "sgd_reg.fit(X, y.ravel())"
   ]
  },
  {
   "cell_type": "markdown",
   "metadata": {
    "hidden": true
   },
   "source": [
    "> I chose the above parameters for `SGDRegressor` to make it fit better with what we did manually above (MSE loss, the fact that we did no regularization, and our learning rate scheduler)."
   ]
  },
  {
   "cell_type": "code",
   "execution_count": null,
   "metadata": {
    "hidden": true
   },
   "outputs": [],
   "source": [
    "theta = [sgd_reg.intercept_, sgd_reg.coef_]"
   ]
  },
  {
   "cell_type": "code",
   "execution_count": null,
   "metadata": {
    "hidden": true
   },
   "outputs": [],
   "source": [
    "plot_result(theta)"
   ]
  }
 ],
 "metadata": {
  "kernelspec": {
   "display_name": "DAT158",
   "language": "python",
   "name": "dat158"
  },
  "language_info": {
   "codemirror_mode": {
    "name": "ipython",
    "version": 3
   },
   "file_extension": ".py",
   "mimetype": "text/x-python",
   "name": "python",
   "nbconvert_exporter": "python",
   "pygments_lexer": "ipython3",
   "version": "3.6.6"
  },
  "toc": {
   "base_numbering": 1,
   "nav_menu": {},
   "number_sections": true,
   "sideBar": true,
   "skip_h1_title": false,
   "title_cell": "Table of Contents",
   "title_sidebar": "Contents",
   "toc_cell": false,
   "toc_position": {},
   "toc_section_display": true,
   "toc_window_display": false
  },
  "widgets": {
   "application/vnd.jupyter.widget-state+json": {
    "state": {
     "02da3e75af1a470eb6417995bab410bb": {
      "model_module": "@jupyter-widgets/controls",
      "model_module_version": "1.4.0",
      "model_name": "VBoxModel",
      "state": {
       "_dom_classes": [
        "widget-interact"
       ],
       "layout": "IPY_MODEL_e78bcc69beda4fbbbb6424328eb14b94"
      }
     },
     "06cd87e87b4b45fe91c48cee4472310f": {
      "model_module": "@jupyter-widgets/output",
      "model_module_version": "1.0.0",
      "model_name": "OutputModel",
      "state": {
       "layout": "IPY_MODEL_99bcbe214b784762b3f474f21668efe1",
       "outputs": [
        {
         "data": {
          "image/png": "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\n",
          "text/plain": "<Figure size 576x432 with 1 Axes>"
         },
         "metadata": {},
         "output_type": "display_data"
        }
       ]
      }
     },
     "08bc4d28bec3492aa04baf011cfb4390": {
      "model_module": "@jupyter-widgets/output",
      "model_module_version": "1.0.0",
      "model_name": "OutputModel",
      "state": {
       "layout": "IPY_MODEL_5b992f76d39b4f80be3f075a8ce1e07d",
       "outputs": [
        {
         "data": {
          "text/plain": "array([50.00830364])"
         },
         "metadata": {},
         "output_type": "display_data"
        }
       ]
      }
     },
     "0a616fca7a6b416c9c800cadb1fbe2b2": {
      "model_module": "@jupyter-widgets/output",
      "model_module_version": "1.0.0",
      "model_name": "OutputModel",
      "state": {
       "layout": "IPY_MODEL_a4984cf6840f42f29d735ebc82700d0b",
       "outputs": [
        {
         "data": {
          "text/plain": "array([50.00830364])"
         },
         "metadata": {},
         "output_type": "display_data"
        }
       ]
      }
     },
     "0f2ca8fa48c246cca2508f4260767898": {
      "model_module": "@jupyter-widgets/base",
      "model_module_version": "1.1.0",
      "model_name": "LayoutModel",
      "state": {}
     },
     "1016709b54a046c2b44bc9f1d03bf2a3": {
      "model_module": "@jupyter-widgets/controls",
      "model_module_version": "1.4.0",
      "model_name": "IntSliderModel",
      "state": {
       "description": "theta1",
       "layout": "IPY_MODEL_22da5d375abf4a27a4bc99e9bb700597",
       "max": 5,
       "min": -5,
       "style": "IPY_MODEL_a896e4dddc8a48e1aad157cd870f7649"
      }
     },
     "12690adb2c8245d2a484a0390ca84073": {
      "model_module": "@jupyter-widgets/base",
      "model_module_version": "1.1.0",
      "model_name": "LayoutModel",
      "state": {}
     },
     "158c37418928433c80d278ae11a99ab2": {
      "model_module": "@jupyter-widgets/controls",
      "model_module_version": "1.4.0",
      "model_name": "SliderStyleModel",
      "state": {
       "description_width": ""
      }
     },
     "1c6d181f95834b5e9199da69a32bb414": {
      "model_module": "@jupyter-widgets/controls",
      "model_module_version": "1.4.0",
      "model_name": "SliderStyleModel",
      "state": {
       "description_width": ""
      }
     },
     "1d326049aca34c8ca9d4ed8eaaeb28be": {
      "model_module": "@jupyter-widgets/controls",
      "model_module_version": "1.4.0",
      "model_name": "VBoxModel",
      "state": {
       "_dom_classes": [
        "widget-interact"
       ],
       "children": [
        "IPY_MODEL_688e2a80592242eaa6c7d2ff6efe18b9",
        "IPY_MODEL_6603b3a28e9343ecb6e98360f7a21869",
        "IPY_MODEL_d6a2b625c91a4e5484d020c86b59ff9a"
       ],
       "layout": "IPY_MODEL_654d43108d89485cb2415634c30c7980"
      }
     },
     "1e2e16b4bd06494cb2deb7243483754b": {
      "model_module": "@jupyter-widgets/base",
      "model_module_version": "1.1.0",
      "model_name": "LayoutModel",
      "state": {}
     },
     "1eaa390d4ec44dd6993870b38e32d7fc": {
      "model_module": "@jupyter-widgets/controls",
      "model_module_version": "1.4.0",
      "model_name": "IntSliderModel",
      "state": {
       "layout": "IPY_MODEL_42125ecf42d6440ab528165cbacd8fe7",
       "max": 50,
       "min": 2,
       "step": 10,
       "style": "IPY_MODEL_1c6d181f95834b5e9199da69a32bb414",
       "value": 20
      }
     },
     "202b9c4f07aa4b88bfde56aa58405648": {
      "model_module": "@jupyter-widgets/controls",
      "model_module_version": "1.4.0",
      "model_name": "VBoxModel",
      "state": {
       "_dom_classes": [
        "widget-interact"
       ],
       "children": [
        "IPY_MODEL_613088d6fe3b465a916f301a4db73e17",
        "IPY_MODEL_57be03e12e354399bfc6fb7379332515",
        "IPY_MODEL_06cd87e87b4b45fe91c48cee4472310f"
       ],
       "layout": "IPY_MODEL_3eb657cedb1c4c89a2d1fa61b71fb329"
      }
     },
     "22da5d375abf4a27a4bc99e9bb700597": {
      "model_module": "@jupyter-widgets/base",
      "model_module_version": "1.1.0",
      "model_name": "LayoutModel",
      "state": {}
     },
     "22fcd4fbc06e4ec282b982e42f7a8329": {
      "model_module": "@jupyter-widgets/base",
      "model_module_version": "1.1.0",
      "model_name": "LayoutModel",
      "state": {
       "height": "550px"
      }
     },
     "2312bd1efe21413db6a7bf677ca6ca6d": {
      "model_module": "@jupyter-widgets/controls",
      "model_module_version": "1.4.0",
      "model_name": "SliderStyleModel",
      "state": {
       "description_width": ""
      }
     },
     "2904435fe118400b93f3c7b04d49cb91": {
      "model_module": "@jupyter-widgets/controls",
      "model_module_version": "1.4.0",
      "model_name": "SliderStyleModel",
      "state": {
       "description_width": ""
      }
     },
     "2c33a6766f2a49cf93354ed1f8a9714b": {
      "model_module": "@jupyter-widgets/controls",
      "model_module_version": "1.4.0",
      "model_name": "SliderStyleModel",
      "state": {
       "description_width": ""
      }
     },
     "327511a2c68f4abeaf676c21a58d4050": {
      "model_module": "@jupyter-widgets/controls",
      "model_module_version": "1.4.0",
      "model_name": "SliderStyleModel",
      "state": {
       "description_width": ""
      }
     },
     "32e4ab8e49b7483bb4993569c32dfbed": {
      "model_module": "@jupyter-widgets/controls",
      "model_module_version": "1.4.0",
      "model_name": "IntSliderModel",
      "state": {
       "description": "theta0",
       "layout": "IPY_MODEL_12690adb2c8245d2a484a0390ca84073",
       "max": 5,
       "min": -5,
       "style": "IPY_MODEL_962dc609764748d490a0b1e43b754fc4"
      }
     },
     "33ffbd16792740d09c3254226999f877": {
      "model_module": "@jupyter-widgets/output",
      "model_module_version": "1.0.0",
      "model_name": "OutputModel",
      "state": {
       "layout": "IPY_MODEL_dc8539467afd4f45975756651b174c2b",
       "outputs": [
        {
         "data": {
          "image/png": "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\n",
          "text/plain": "<Figure size 576x432 with 1 Axes>"
         },
         "metadata": {},
         "output_type": "display_data"
        }
       ]
      }
     },
     "3dd8b15404ac43a19f05ccc1496236d4": {
      "model_module": "@jupyter-widgets/base",
      "model_module_version": "1.1.0",
      "model_name": "LayoutModel",
      "state": {}
     },
     "3e7a0c5abea14c029365277c556cff7f": {
      "model_module": "@jupyter-widgets/base",
      "model_module_version": "1.1.0",
      "model_name": "LayoutModel",
      "state": {}
     },
     "3eb657cedb1c4c89a2d1fa61b71fb329": {
      "model_module": "@jupyter-widgets/base",
      "model_module_version": "1.1.0",
      "model_name": "LayoutModel",
      "state": {}
     },
     "42125ecf42d6440ab528165cbacd8fe7": {
      "model_module": "@jupyter-widgets/base",
      "model_module_version": "1.1.0",
      "model_name": "LayoutModel",
      "state": {}
     },
     "450136b313004f098c4903105a96136a": {
      "model_module": "@jupyter-widgets/base",
      "model_module_version": "1.1.0",
      "model_name": "LayoutModel",
      "state": {}
     },
     "4a615f08f19c412d9a97dc37e2ef496a": {
      "model_module": "@jupyter-widgets/controls",
      "model_module_version": "1.4.0",
      "model_name": "SliderStyleModel",
      "state": {
       "description_width": ""
      }
     },
     "4cabd3b51aca46b4a51e0dd34fdfd953": {
      "model_module": "@jupyter-widgets/controls",
      "model_module_version": "1.4.0",
      "model_name": "VBoxModel",
      "state": {
       "_dom_classes": [
        "widget-interact"
       ],
       "children": [
        "IPY_MODEL_8acae2df4a294bec965fd7d407ebb5d4",
        "IPY_MODEL_5cd98c1ccc924273b5f532f092052ebe",
        "IPY_MODEL_8a142eb9d1d348a88aad6145eb295c99"
       ],
       "layout": "IPY_MODEL_62c2ebedbdf749c0ae7de3ed9fb3ce90"
      }
     },
     "4f76bee32d8b459198f02aa7ac0eba2a": {
      "model_module": "@jupyter-widgets/output",
      "model_module_version": "1.0.0",
      "model_name": "OutputModel",
      "state": {
       "layout": "IPY_MODEL_abd199238cee4854accb0e48a066929c",
       "outputs": [
        {
         "data": {
          "text/plain": "array([50.00830364])"
         },
         "metadata": {},
         "output_type": "display_data"
        }
       ]
      }
     },
     "504e680f43e3407aae257639aa2e25b5": {
      "model_module": "@jupyter-widgets/base",
      "model_module_version": "1.1.0",
      "model_name": "LayoutModel",
      "state": {}
     },
     "50d6aa6d8334479ab41783cf40596e20": {
      "model_module": "@jupyter-widgets/base",
      "model_module_version": "1.1.0",
      "model_name": "LayoutModel",
      "state": {}
     },
     "5324432bacd543f1889e5b45a0cf8ceb": {
      "model_module": "@jupyter-widgets/controls",
      "model_module_version": "1.4.0",
      "model_name": "SliderStyleModel",
      "state": {
       "description_width": ""
      }
     },
     "57be03e12e354399bfc6fb7379332515": {
      "model_module": "@jupyter-widgets/controls",
      "model_module_version": "1.4.0",
      "model_name": "IntSliderModel",
      "state": {
       "description": "n_epochs",
       "layout": "IPY_MODEL_ad3aa62695884ed197ac4ca9de4fed76",
       "max": 50,
       "min": 2,
       "step": 10,
       "style": "IPY_MODEL_5b12fed1c6324b759b4a4116140ae821",
       "value": 20
      }
     },
     "57e36cd74d75412384a6d8b2e4c9f24e": {
      "model_module": "@jupyter-widgets/base",
      "model_module_version": "1.1.0",
      "model_name": "LayoutModel",
      "state": {}
     },
     "5b12fed1c6324b759b4a4116140ae821": {
      "model_module": "@jupyter-widgets/controls",
      "model_module_version": "1.4.0",
      "model_name": "SliderStyleModel",
      "state": {
       "description_width": ""
      }
     },
     "5b1713703f644345b88ad4e705a2799f": {
      "model_module": "@jupyter-widgets/controls",
      "model_module_version": "1.4.0",
      "model_name": "VBoxModel",
      "state": {
       "_dom_classes": [
        "widget-interact"
       ],
       "children": [
        "IPY_MODEL_809473ce0486428bb264493a5c2a2a2a",
        "IPY_MODEL_772ffda074f443cfb52227113714e15d",
        "IPY_MODEL_33ffbd16792740d09c3254226999f877"
       ],
       "layout": "IPY_MODEL_9469d26f8447497ca4645322f5609af5"
      }
     },
     "5b992f76d39b4f80be3f075a8ce1e07d": {
      "model_module": "@jupyter-widgets/base",
      "model_module_version": "1.1.0",
      "model_name": "LayoutModel",
      "state": {}
     },
     "5c96948a917b4f51a7541767195e536a": {
      "model_module": "@jupyter-widgets/output",
      "model_module_version": "1.0.0",
      "model_name": "OutputModel",
      "state": {
       "layout": "IPY_MODEL_cc8929941d40470c98430b71bcbfcfd2",
       "outputs": [
        {
         "data": {
          "image/png": "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\n",
          "text/plain": "<Figure size 576x432 with 1 Axes>"
         },
         "metadata": {},
         "output_type": "display_data"
        }
       ]
      }
     },
     "5cd98c1ccc924273b5f532f092052ebe": {
      "model_module": "@jupyter-widgets/controls",
      "model_module_version": "1.4.0",
      "model_name": "IntSliderModel",
      "state": {
       "description": "n_epochs",
       "layout": "IPY_MODEL_ca3a0de68f88411aa21f04cfabed501f",
       "max": 50,
       "min": 2,
       "step": 10,
       "style": "IPY_MODEL_aa0c9f04a49244b0835199532898422d",
       "value": 20
      }
     },
     "5daa42384eb142278a90fd999fa73716": {
      "model_module": "@jupyter-widgets/controls",
      "model_module_version": "1.4.0",
      "model_name": "VBoxModel",
      "state": {
       "_dom_classes": [
        "widget-interact"
       ],
       "children": [
        "IPY_MODEL_32e4ab8e49b7483bb4993569c32dfbed",
        "IPY_MODEL_1016709b54a046c2b44bc9f1d03bf2a3",
        "IPY_MODEL_08bc4d28bec3492aa04baf011cfb4390"
       ],
       "layout": "IPY_MODEL_f47d577cd34e44f99569cd33b8c7bca8"
      }
     },
     "60ce3f88f51043ee9a53fe1c05344847": {
      "model_module": "@jupyter-widgets/controls",
      "model_module_version": "1.4.0",
      "model_name": "VBoxModel",
      "state": {
       "_dom_classes": [
        "widget-interact"
       ],
       "children": [
        "IPY_MODEL_95a58d92f90741cfb89da87345ff3889",
        "IPY_MODEL_83ab6e99249b47bfb132ff006da58181",
        "IPY_MODEL_d79c7ccf830d44a29123be7cbc0789e9"
       ],
       "layout": "IPY_MODEL_89f56ee9122a488db74e795fbbd34a0b"
      }
     },
     "613088d6fe3b465a916f301a4db73e17": {
      "model_module": "@jupyter-widgets/controls",
      "model_module_version": "1.4.0",
      "model_name": "FloatSliderModel",
      "state": {
       "description": "eta",
       "layout": "IPY_MODEL_f4a81f6514ef42deb6477c3b4b81cce6",
       "max": 1,
       "min": 0.001,
       "step": 0.005,
       "style": "IPY_MODEL_158c37418928433c80d278ae11a99ab2",
       "value": 0.1
      }
     },
     "62c2ebedbdf749c0ae7de3ed9fb3ce90": {
      "model_module": "@jupyter-widgets/base",
      "model_module_version": "1.1.0",
      "model_name": "LayoutModel",
      "state": {}
     },
     "654d43108d89485cb2415634c30c7980": {
      "model_module": "@jupyter-widgets/base",
      "model_module_version": "1.1.0",
      "model_name": "LayoutModel",
      "state": {}
     },
     "6603b3a28e9343ecb6e98360f7a21869": {
      "model_module": "@jupyter-widgets/controls",
      "model_module_version": "1.4.0",
      "model_name": "IntSliderModel",
      "state": {
       "description": "n_epochs",
       "layout": "IPY_MODEL_b3a07d07154c4af7b2f8b7fd24f3f8a8",
       "max": 50,
       "min": 2,
       "step": 10,
       "style": "IPY_MODEL_5324432bacd543f1889e5b45a0cf8ceb",
       "value": 20
      }
     },
     "6703a5d60ac54ff5ba87dadce91e10bd": {
      "model_module": "@jupyter-widgets/controls",
      "model_module_version": "1.4.0",
      "model_name": "SliderStyleModel",
      "state": {
       "description_width": ""
      }
     },
     "688e2a80592242eaa6c7d2ff6efe18b9": {
      "model_module": "@jupyter-widgets/controls",
      "model_module_version": "1.4.0",
      "model_name": "FloatSliderModel",
      "state": {
       "description": "eta",
       "layout": "IPY_MODEL_3dd8b15404ac43a19f05ccc1496236d4",
       "max": 1,
       "min": 0.001,
       "step": 0.005,
       "style": "IPY_MODEL_6703a5d60ac54ff5ba87dadce91e10bd",
       "value": 0.1
      }
     },
     "69288e2682c94f4c903c0e83d0a9245e": {
      "model_module": "@jupyter-widgets/controls",
      "model_module_version": "1.4.0",
      "model_name": "FloatSliderModel",
      "state": {
       "description": "eta",
       "layout": "IPY_MODEL_450136b313004f098c4903105a96136a",
       "max": 1,
       "min": 0.001,
       "step": 0.005,
       "style": "IPY_MODEL_af3ac57e141349dcade178d3f2038672",
       "value": 0.1
      }
     },
     "6c8976a7562f4a92b3467388e034fc73": {
      "model_module": "@jupyter-widgets/base",
      "model_module_version": "1.1.0",
      "model_name": "LayoutModel",
      "state": {}
     },
     "6cacbafabda64958a7ba22aa45372559": {
      "model_module": "@jupyter-widgets/base",
      "model_module_version": "1.1.0",
      "model_name": "LayoutModel",
      "state": {}
     },
     "6cebef6f48c84cbf8f43e6b02bbe251e": {
      "model_module": "@jupyter-widgets/base",
      "model_module_version": "1.1.0",
      "model_name": "LayoutModel",
      "state": {}
     },
     "6dd29ad45bc347e5806680749a395890": {
      "model_module": "@jupyter-widgets/controls",
      "model_module_version": "1.4.0",
      "model_name": "VBoxModel",
      "state": {
       "_dom_classes": [
        "widget-interact"
       ],
       "children": [
        "IPY_MODEL_b78635357cd341918e7994c6857aa757",
        "IPY_MODEL_e1b76acc7d494484bd1990deca3b5a15",
        "IPY_MODEL_4f76bee32d8b459198f02aa7ac0eba2a"
       ],
       "layout": "IPY_MODEL_50d6aa6d8334479ab41783cf40596e20"
      }
     },
     "6e102d0774804cbc97455a224cd19ebf": {
      "model_module": "@jupyter-widgets/controls",
      "model_module_version": "1.4.0",
      "model_name": "SliderStyleModel",
      "state": {
       "description_width": ""
      }
     },
     "6e380e48aa7a4c2fa86cbfadee5dfa10": {
      "model_module": "@jupyter-widgets/base",
      "model_module_version": "1.1.0",
      "model_name": "LayoutModel",
      "state": {}
     },
     "6ee635c68cc64de6a69528db7d34d134": {
      "model_module": "@jupyter-widgets/controls",
      "model_module_version": "1.4.0",
      "model_name": "SliderStyleModel",
      "state": {
       "description_width": ""
      }
     },
     "7142bd399ba74c8aad3f1bacd5832530": {
      "model_module": "@jupyter-widgets/output",
      "model_module_version": "1.0.0",
      "model_name": "OutputModel",
      "state": {
       "layout": "IPY_MODEL_7dd832c294e94826af4bae2a27a6219e",
       "outputs": [
        {
         "data": {
          "image/png": "iVBORw0KGgoAAAANSUhEUgAAAeQAAAFpCAYAAABNgFv/AAAABHNCSVQICAgIfAhkiAAAAAlwSFlzAAALEgAACxIB0t1+/AAAADl0RVh0U29mdHdhcmUAbWF0cGxvdGxpYiB2ZXJzaW9uIDIuMi4yLCBodHRwOi8vbWF0cGxvdGxpYi5vcmcvhp/UCwAAIABJREFUeJzt3Xl8VNX5x/HPQxCpVq1ItFaluCAuWLdIG239odZq0ar4a913W7R1+ymyixsqori1rmjdqiLuWooLRVK3qAVFFhVU3BdAURFlDef3x5lIjAmZzNy599w73/frlVeSmZuZc3Mzeeac85znmHMOERERSVabpBsgIiIiCsgiIiJBUEAWEREJgAKyiIhIABSQRUREAqCALCIiEgAFZBERkQAoIIuIiARAAVlERCQACsgiIiIBaBvnk3Xs2NF17tw5zqcUERFJzKRJkz51zlXmc2ysAblz585MnDgxzqcUERFJjJm9m++xGrIWEREJgAKyiIhIABSQRUREAqCALCIiEgAFZBERkQAoIIuIiARAAVlERCQACsgiIiIBUEAWEREJgAKyiIhIAFoMyGZ2s5nNMbNpDW77g5lNN7PlZlZV2iaKiEgoamth2DD/WaKVTy3rW4Grgdsb3DYNOBC4oQRtEhGRANXWwh57wJIl0K4djB8P1dVJtyo7WuwhO+eeAuY1uu0159yMkrVKRESCU1Pjg3Fdnf9cU5N0i7JFc8giIpKXHj18z7iiwn/u0SPpFmVLybdfNLPeQG+ATp06lfrpRESkRKqr/TB1TY0PxhqujlbJA7JzbiQwEqCqqsqV+vlERKR0qqsViEtFQ9YiIiIByGfZ0yigFuhqZh+Y2fFm1svMPgCqgX+Z2eOlbqiIiEiWtThk7Zw7tJm7Hoy4LSIiImVLQ9YiIiIBUEAWEREJgAKyiIhIABSQRUREAqCALCIiZSfETTJKXhhEREQkJKFukqEesoiIlJVQN8lQQBYRkbIS6iYZGrIWEZGyEuomGQrIIiJSdkLcJEND1iIiIgFQQBYREQmAArKIiEgAFJBFREQCoIAsIiISAAVkERGRACggi4iIBEABWUREJAAKyCIiIgFQQBYREQmAArKIiEQqxL2G00C1rEVEJDKh7jWcBuohi4hIZELdazgNFJBFRCQy+e41rGHt79OQtYhIgWprw9tTN2n57DWsYe2mKSCLiBRAQaV5Le013NSwtn53GrIWESmI5koLl++wdrHSNiyuHrKISAHqg0p9D7lUQSWL8hnWLlYaRzAUkEVEChBHUMmyloa1i5XGYfEWA7KZ3QzsC8xxznXL3dYBGA10Bt4BDnLOfV66ZoqIhKfUQUUKl8YRjHzmkG8F9m502wBgvHOuCzA+972IiEgQ6kcwhg5Nx3A15NFDds49ZWadG928P9Aj9/VtQA3QP8J2iYiIFCVtIxiFZlmv55z7GCD3ed3omiQiIlJ+Sr7sycx6m9lEM5s4d+7cUj+diIhIYZYvhwTjVKEBebaZrQ+Q+zynuQOdcyOdc1XOuarKysoCn05ERKSEnnoKuneH/fYD5xJpQqEB+RHg6NzXRwMPR9McERGRGL35Jhx4IPzP/8Ds2XDSSeEGZDMbBdQCXc3sAzM7HrgY2NPM3gD2zH0vIiKSDp9/DmecAVttBU884dOxZ8yAI46ANskUscwny/rQZu7aI+K2iIiIlNbSpXDddXDeeT4oH3ecD8brr590y1TLWkREyoBz8Mgj0K0bnHYabL89vPwy3HRTEMEYFJBFRMpS2jZeKMrLL/vC1vvvD2YwZgyMGwfbbpt0y75DtaxFRMpMGjdeKMhHH8FZZ8Gtt0KHDnD11dC7N6yyStIta5J6yCIiZSatW0fm3av/+ms4/3zo0gXuuAP69PHZ1CedFGwwBvWQRUTKTho3XsirV798uQ/AgwbBhx/C738PF18Mm26aSJtbSz1kEZEyk8aNF1rs1f/nP7DTTnD00fCTn8DTT8O996YmGIN6yCIiZSltGy8026t/4w3o1w8eegg23ND3kA89NLG1xMVQQBYRkeDV9+pranwwru46D04f6hO1Vl0VLrgATj8dVlst6aYWTAFZRESCUFvbIOA20XuvrobqHZfAdddRu9dYahbsSI99z6d65LHw4x/H3dzIKSCLiEjiWkzaqi/s0bcvtW+swx5tJrDEVqXdv43xb0N1+uOxkrpERCR5K03aeukl2H13OOAAqKig5uhbWWKrUrfcUrVsqyUKyCISlCxUkMrCOcStPmmroqJB0taHH8Kxx0JVFUybBtdcA1Om0OOErrRrZ989NgM0ZC0iwchCBaksnEMSvpO09fOFVD8+HC69FJYtgzPP9GuLf/Sj7x/bIzu/XwVkEQlGU8OWaftnm4VzSEr1z5dTPeN2OHKwL3v5hz/4wh6bbPL9Y1O2bCsfGrIWkWA0OWyZMlk4h0TU1Pih6WOP9euJn3kG7rmnyWCcVeohi0gwsjAUmYVziNXMmb6wx8MPw0YbwZ13wiGHpLKwR7HMORfbk1VVVbmJEyfG9nwiIhKoefP8BhDXXAPt28PAgb6wxw9+kPdDtLRuOQRmNsk5V5XPseohi4hIfJYsgWuv9cH4yy/hj3+E885rdWGPLCbPld+YgIiIxM85X2966619T7iqCiZPhhtuKKjKVlq3kFwZBWQRESmtl16C3XaDXr38fsRjx8Ljj8M22xT8kFlMntOQtYiIlMaHH8LgwXD77bDOOn6o+k9/grbFh54sJs8pIIuISLQWLPBFPS691I8p9+3rC3ustVakT5O1tcgKyCIiEo26Ot8bHjwYPv4YDjrIF/bYeOOkW5YKmkMWEZHiTZjgE7WOOw46dYJnn4XRoxWMW0EBWUQkw0q+0cWMGbD//n43pnnzYNQo/2Q771yiJ8wuDVmLiGRUSdfqfvaZX0t87bW+mMewYXDaaa0q7CHfpR6yiEhGlWSt7pIlcMUVsNlmcPXVcPzx8MYbMGCAgnGRFJBFRDIq0rW6zsGDD/rCHmecAd27wyuvwPXXw3rrRdTi8qYhaxGRjIpsre6kST4IP/UUbLUVPPoo7L13hC0VKDIgm9lpwJ8AA250zl0ZSatERCQSRa3V/eCDFYU9Kivhuut87ekICnvI9xX8WzWzbvhg3B1YAjxmZv9yzr0RVeNERCQBCxbAJZfAiBF+Arp/f78bU8SFPeS7iplD3hJ43jn3jXNuGfAfoFc0zRIRkdYqeolTXR3cfDN06QJDh8J++8Hrr/viHgrGJVfMuMM04EIzWwdYCPQEtNmxiEgCil7i9OSTfp74lVfgF7+ABx7IVl3KFCi4h+ycew0YDowDHgNeAZY1Ps7MepvZRDObOHfu3IIbKiIizSt4idOMGb4nvMce8MUXcPfd8NxzCsYJKGrZk3Pu7865HZxzuwLzgO/NHzvnRjrnqpxzVZWVlcU8nYiINKPVS5w++wxOPRW6dfPR++KL/fD0wQeDWekbLN9TbJb1us65OWbWCTgQ0FsqEZEE5L3EafFiuOYaP0c8fz707g3nnQfrrhtja6Upxeau35+bQ14KnOSc+zyCNomISAFWusTJOT8v3L8/vPWWX0c8YoQv9FFCtbXZ2rO4lIoKyM65X0XVEBERKZH//tcnbD3zjA/AMRX2KGkt7QxS6UwRkYz5dvnTQ7PhyCN9mcsZM3yZy8mTY6uyVZJa2q1Q8p2uIqZyKyIiGeJ7pY4li5bTzq3B+FXeo3rAAF/YY801Y21LfaJZfQ+5qFrarZTG3rkCsohIVtTVUTPiJZYs3J462rLEVqXm/x6ietjaiTQnslraBWiqd66ALCIipTd+PJxxBj2mrEa7NhNYQgXtVq2gR69kgnG9omppFyHJ3nmhFJBFRCIWa2bx669D374wZgx07kz16MGM33BVav5jZZ3ZnGTvvFAKyCIiEYpt7vLTT/364euug9VXh+HDfaGP9u2pBqp3LsFz5qRlKVNSvfNCKSCLiESo5HOXixfD1Vf7wh5ffQUnnADnnhtbYY80JkulhZY9iYhEqNUlLPPlHNx3H2y1FZx5Juy8M0yZAtdeG2uVraSXMmWZesgiIhEqydzliy/6wh7PPutrTz/2GOy1VwQP3HppTJZKCwVkEZGIRTZ3+d57MGgQ3Hmn7wWPHAnHHgttk/vXncZkqbRQQBaRFqUliSczvvrKJ2lddpkfqh40yNegjrmwR3PSliyVFgrIIrJSSuKJUV0d3HILnHUWzJ4Nhx0GF10EP/1p0i2TGCipS0RWSkk831Wy+sjjxsH228Of/gSbbgrPP++HqhWMy4Z6yCKyUkriWaE1owV5D/O/9prPmh47Fjp3hnvugd//HsyiP4FC2yixUEAWkZVSEs8K+a4xzitwz53rC3tcf70v7HHJJXDKKdC+fQxnoqmIECkgi0iLlMTj5TtasNLAvXgx/PWvcMEF8PXXKwp7VFbGcQr5tVESoYAsIpKnfEcLmgzc9YU9+veHt9+Gnj3h0kt9oY8EaCoiPArIIiKtkM9owfcCd8WL8MvT4bnnYJtt4IknYM8942hu/m1U7zhxCsgiIiVQXQ3VG7wHAwfCXXfBeuvBjTf6wh4VFUk3D9BURGgUkEVEovbVV3DxxXD55f77wYP9UPUaazT7I8p4FgVkEZGo1NXBzTf7wh5z5sDhh/vCHp06rfTHSrKcSlJHAVlEJApPPOHXE0+dCrvsAv/8J3TvntePRrqcSlJLlbpERIrx6qs+Y3qvvWDBArj3Xnj66byDMeS/ZaOqpmWbesgikgrBDdXOnQvnnON3YPrhD/0SplNOgVVXbfVDFbWcSjJDAVlEghfUUO2iRb6wx4UX+sIef/6zD8wdOxb1sAUtpwrhjYlERgFZRIIXRFUp5/xwdP/+8M47sM8+vle85ZaxNkNLlbJLc8giErx851hL5oUXfKLWwQf7PYnHjYMxY2IPxpJt6iGLSPASG6p9911f2GPUKF/Y46ab4JhjginsIdmigCwiqRDrUO38+SsKe5j5dcX9+q20sEepBJfMJiVTVEA2s9OBPwIOmAoc65xbFEXDRERit2yZL+wxZIgv7HHEEb6wx0YbJdKcoJLZpOQKnkM2sw2AU4Eq51w3oAI4JKqGiYjE6vHHYbvt/HaIm28OL74I//hHYsEYtO643BSb1NUW+IGZtQVWAz4qvkkiIjGaPh1++1vYe29YuNBvkfjUU7DTTkm3LPlkNolVwUPWzrkPzWwE8B6wEHjCOfdEZC0TkbJW8rnTOXNWFPZYYw0YMQJOPrmgwh6lonXH5aXggGxmawP7AxsDXwD3mtkRzrk7Gh3XG+gN0KmFAusiIlDiudNFi+Cqq3xhj2++gZNOgrPPLrqwR9QaviEZODDp1kgcihmy/jXwtnNurnNuKfAAsHPjg5xzI51zVc65qsrKyiKeTkTKRUnmTp2D0aNhiy1gwAAf6aZN81W3csG4thaGDfOfk1T/hmTIEP856fZIPIrJsn4P+IWZrYYfst4DmBhJq0SkrEVes/n55+H00/3nbbeFv//dR7oGQspoDqIymcSu4B6yc+4F4D7gJfySpzbAyIjaJSIBiqsHWT93OnRokYHxnXfg0EP9A7zzjg/EkyZ9LxhDWBnNSuYqTigjHa1V1Dpk59w5wDkRtUVEAhZ3D7KoQiDz5/v1w1deCW3a+LHffv38rkzNCGknJSVzFS6kkY7WUqUuEclLKoZRly3zveAhQ/z2iEce6ZO38lhLHFoQ1CYShUnF32kzFJBFJC8h9SCb9Nhj0KcPvPoq/OpXMHYsVFW16iEUBNMv+L/TlVBAFpG8hNaD/Na0aXDmmb7S1qabwv33Q69evga1lJ1g/07zYM652J6sqqrKTZyoRGwRicDs2b6wx403+i0Rhwzxa4pjKOwRx4YP2lQiG8xsknMur6Ea9ZBFJF0WLfLJWhdd5EtdnnyyL+yxzjqxPH0cSUNpTkySwhVby1pEJB7Owd13+8IeAwfCbrv54eqrrootGEM8y6NCWoIl8VFAFpHw1dbCzjv7NcVrr+27jA8/DF27xt6UONYIax1yedKQtYiE6+23fW949GhYf32/V/FRR/lIlZA4kobSnJgkhVNSl4iE58svVxT2qKiAvn39x0oKe4iESEldIpJOy5b5rOmzz4ZPP/W94QsvhA03TLplIiWnOWQRSZ5z8OijfuOHv/wFttoKJk6E225TMJayoYAsIsmaOhX23ht69oTFi+GBB/zk6Y47Jt0ykVgpIEsmpHV3l7I2ezaccAJstx28+CJccYUve6kqW1KmNIcsqaciCimzcOGKwh6LFsEpp/gqWzGuJRYJkXrIknoqopASzsGoUb6wx6BB/l3U9Ok+OCsYiyggS/qpiEIKPPecH7Y47DDo0AGefBIeegg23zzplokEQ0PWknoqohCwWbNgwAC4915f2OOWW/wexRUV2jwhD/odlRcFZMkE7WMbmC+/9OuHr7oK2rb1uzL17Qurrw5o3j8f+h2VHw1Zi0h0li2Da6+FzTaDESP8EPXMmXDuud8GY9C8fz70Oyo/CsgiUjznYOxY+NnP/J7EW2/tC3vccgtssMH3Dte8f8v0Oyo/GrIuA5qHkpKaOhX69IFx46BLF5+std9+K11LrHn/lul3VH60uUTGZXEeSm8wAvHJJ77m9N//Dmut5eeJ//xn/4cmIoA2l5AGmpqHSnMQy+IbjEIk+qZk4UJfVWvYMF/Y49RTfWGPDh1ibohItiggZ1z9PFR9AEv7PFTW3mAUIrE3JcuX+8IeAwfC++/DAQfA8OFaSywSESV1ZVz9PNTQodnoTSrRJaHs22ef9X88RxwBHTvChAnw4IMKxiIRUg+5DGRpja4SXWIe9Zg1C/r3h/vug5/8BG691Rf2aKP38iJRU0CW1MnSG4xCxPKm5IsvfGGPv/7VF/Y491w488zvrCUWkWgpIIukUMnelCxdCiNH+ozpefPgmGPgggt871hESkrjTiLiC3v861++sMfJJ8M228CkSXDzzQrGIjEpOCCbWVczm9zgY76Z/V+UjUuz2lq/KqS2NumWiLRgyhRqu5/GsH2foXbBNvDww343pu23T7plkdJrUkJX8JC1c24GsB2AmVUAHwIPRtSuVNNaWUmFTz6BIUOovWk6e/Bvllh72n1mjK80qpsvspVKek1KGkQ1ZL0H8JZz7t2IHi/VVBRegvbNN35eeLPN4LbbqNllMEsqfkCda8OSJZa6v9d8er56TUoaRJXUdQgwKqLHSr2sFeOQjFi+HO66yxf2+OAD6NULhg+nx6ddaLdHOv9e8+356jUpaVB0QDazdsB+wMBm7u8N9Abo1KlTsU+XClorK60RSxnMp5+GM87wOzDtuCPceSfsuisA1V3S+/eab+U2vSYlDYreXMLM9gdOcs79pqVjtbmEyHeVfG7zrbd8YY/77/fbIA4bBocfnpnCHpobltC1ZnOJKF6Vh6LhapG8NJ7vLNnc5hdf+EIeW24Jjz4K558PM2dmrspW1krDSnkrasjazFYD9gROiKY5ItnVVG8u8rnNpUvhhht8Za158+DYY320yvBa4nKv3CbZUVRAds59A6wTUVtEMq2p3vDAgRHNbdYX9jjzTJgxA3bbDS6/HLbbLrL2i0hpqXSmSEya6w0X3cN75RXo08dH9s03h0cegX33BWvdYuJE91gWEQVkkbhEnun78ccwZIgvb7n22n4jiBNPhFVWafVDJZ0cpTcDIgrIIrGKZL7zm2/gsstg+HAfQU8/Hc46ywflAuW7fKgUkn4zIBKK7KRbSlkrizrFy5fDP/7hh6XPPhv22gtefdUH5yKCMawYTq+oiL9whqpoiXjqIUvqlUUP66mnfGGPSZOgqgpGjYJf/Sqyh0+ycIaqaIl4CsiSekkOt5bcm2/6wh4PPAAbbuh7yIcdVpK1xEktH1IVLRFPAVlSL5M9rM8/9xtA/O1v/qSGDvU95NVWS7plJaG1xCIKyJIBmephLV0K11/vC3t8/jkcd5wPxuuvn3TLRKTEFJAlE1Lfw3IO/vlP6NvXl7jcfXdf2GPbbZNuWV60bEmkeArIIkmbPNkPR0+YAF27+sC8zz6tLuyRlLJIqhOJgZY9iSTlo4/g+ONhhx1gyhQ/Xzx1akFVtpKkZUsi0VAPWSRuX3+9orDH0qW+dzx4cNFriZOSyaQ6kQQoIIvEZflyuOMOGDQIPvwQfv97uPhi2HTTpFtWlEwl1YkkSAFZJA7/+Y/vCb/0ki/scffd8MtfJt2qyKQ+qU4kAJpDlrJW8pKbb7wBBx7ou45z5vge8gsvZCoYi0g01EOWslXS7ODPP/frh6++2j/4BRf4TSAyWthDRIqnHrKUrZJkBy9d6rdB3GwzuPJKOPpoX/5y8GAFYxFZKQVkKVuR7nDkHDz8MHTrBqedBttvDy+/DDfeCD/+cUQtFpEs05C1lEzo1ZtWlh3cqra//LJP2KqpgS22gDFjoGfPVK0lFpHkKSBLSaSlelNT2cF5t/2jj/xQ9G23QYcOcM018Kc/wSqrxNJ2EckWDVlLSaS5elOLbf/6azjvPOjSBe66C848088T/+UvqQrGJc8wF5FWUQ9ZSiLN1Zuabfvy5X4/4kGDfO/4D3/whT022STB1hYmLSMYIuVEAVlKIs3Vm5pse00N9OnjC3vstBPccw/sskuyDS1CU6MAabpGIlmkgCwlk+bqTd+2/Y03oFc/eOgh2GgjuPNOOOQQaFPcbE/SCW9pHsEQySoFZJGmzJu3orBH+/Zw4YW+sMcPflD0Q4cwXJzmEQyRrFJAFmloyRK47jqftPXll357xPPPj3QtcVzDxS31wtM8giGSRQrIIrCisEffvj5jes89/RaJ22wT+VPFMVwcQi9cRFpHy55EXnoJdtsNevXyy5bGjoXHHy9JMIYVw8VDh5YuUKZ52ZlIuVIPuQwknUAUrA8/9IU9br8d1lkHrr3WF/ZoW/qXRamHi5W0JZI+Rf3nMbMfATcB3QAHHOecU5mBgGjosglffw2XXuo/li3zw9SDBsFaayXdssgoaUskfYrtClwFPOac+72ZtQO0nU1gtN60geXLfW940CD4+GM46CBf2GPjjZNuWUmkJWlLIzgiXsEB2czWBHYFjgFwzi0BlkTTLImKhi5zJkzwhT1efhm6d4f77oOdd066VWVPIzgiKxST1LUJMBe4xcxeNrObzGz1iNolEYkjgShoM2fCAQfA7rvDZ5/52tO1tU0GY9V2jp+Sz0RWKGbIui2wA3CKc+4FM7sKGAAMaXiQmfUGegN06tSpiKeTQqVl6DJSn33m1w9fe60v5jFsmN+nuJnCHuqpJUMjOCIrFNND/gD4wDn3Qu77+/AB+juccyOdc1XOuarKysoink6yKPJe6ZIlcOWVfiemq6+G447z5S8HDFhplS311JJR9iM4Ig0U3EN2zn1iZu+bWVfn3AxgD+DV6JomWdeaXmmLiT/O+XrT/fr5wh6/+Y0v7NGtW15tUU8tOWU5giPShGKzrE8B7sxlWM8Cji2+SVIu8s0AbzFwT5oEZ5wBTz0FW20Fjz4Ke+/dqrZomZCIJK2ogOycmwxURdQWKTP59kqbDdwffLCisEdlpa9B/cc/FlzYQz01EUmSKnU1Q2sjSy/fXun3Anf3b+Cc4b6wR10d9O8PAwdmqrCHiJQfBeQmlHPGbdxvRPLplX4buJ9cTo9vxlJ9ZG9f2OPgg31GWEYLexRLbypF0kUBuQnlWt0qlDciTQWS6oVPUn1fH5g8GX7+c7j//vK4KAUK5VqKSP4UkJtQrhm3IbwR+V4gufldqkedCo88Aj/9KYwa5XvGZvE2LGVCuJYi0joKyE0o14zbEN6IfCeQLKqj5vCRVK8+wdecPu00aN8+/kalUGuupYa2RcKggNyMcsy4DeGNSI9dltKuDSypg3ZuKT32XwtueBPWXTf+xqRYvtdSQ9si4VBALlPN9YoSeyPiHDz4INX9+jF+aSU1XXrT4+xdqT6iXwKNyYZ8rqWGtkXCoYBchoLrFU2c6At7PP00bL011Y+eQ3UrC3tIYUKYphARr5ha1pJSwdRtfv99OOoo2GkneP11uP56n0WtYBybEGpJa5ctEU895DKUeK9owQK45BIYMQKWL/cbPwwcCGuuGXNDBJLNlwhutEYkQQrIZSix5K26OrjtNl/u8pNP4JBDfNeoc+eYGlA8ZSRHS3PYIisoICcoyX/usfeKxo/388RTpsAvfgEPPJC6/7zqzUUv8dEakYAoICekbP65v/469O0LY8b4nvDdd8NBB6WysId6c9ELYamdSCgUkGPSuDec+X/un34K553nd2BabTUYPhxOPTXVhT3UmyuNclzzL9IUBeQYNNUbzuw/98WL4eqrfdruV1/BCSfAuedmorCHenMiUkoKyDFoqjc8cGDG/rk75+eF+/WDWbPgt7/12yNuvXXSLYuUenMiUioKyDForjecmX/u//2vT9h65hkfgB97DPbaK+lWiYikigJyDDI71Pn++zBoENxxhx+SvuEGOO44aKs/KxGR1iq7/5xJLTXKTG8Y/Nzw8OFw2WV+qHrgQF/cQ4U9REQKVlYBuWyWGpVKXR3ccgucdRbMng2HHQYXXeT3Kc6TCmvkT78rkfJSVgE5S0uNYv9n/e9/Q58+vrBHdTU89JAv8NEKekOUP/2uRMpPWW0uUZ9cVVGR7qVG9f+shwzxn0talP+112DffWHPPWH+fBg9Gp59ttXBGALa1CIF9LsSKT9lFZBD2NkmCrH8s/70Uzj5ZNhmG78t4iWX+OBcRJWtrLwhioN+VyLlp6yGrCEbyVUlLSqyeDH87W9wwQV+V6b6wh6VlUU/dGazzUtAvyuR8mPOudierKqqyk2cODG258uypuaQ872tSc7B/ff7wh5vvw09e/rCHlttVcKzEBHJNjOb5JyryufYsushZ0Xjnn5TSUCQZ2LQiy/6wh7PPgvdusHjj8NvfhPLeYiIiFdWc8hZ1tS8cotzze+9B4cfDj//Obz5JowcCZMnBxmMa2v91sklTWATEUmQesgBa83SpubmlZuca/7qK7j4Yrj8cv/94MHQvz+ssUYpTqNoWgIkIuVAATlQrQ1CzSUBfee27nVw481+vdR36hquAAAPNUlEQVTs2b53fNFF0KlT6U+oCFlaPy4i0pyiArKZvQN8BdQBy/KduJaWFRKEmsog//a2ceNg+z4wdSrssgs88gh0716i1kcrs1tViog0EEUPeTfn3KcRPE7koqhmlVT5wsiC0KuvQt++MHYsbLwx3Hsv/O//FryWOAlaAiQi5SCzQ9ZRzDsmOXdZdBCaO9evH77hBlh9db+E6ZRTYNVVo29sDLKwflxEZGWKDcgOeMLMHHCDc25kBG2KRBTzjknPXRYUhBYtWlHY4+uv4cQT4ZxzIinsISIipVNsQN7FOfeRma0LjDOz151zTzU8wMx6A70BOsWYPBTFkG+q5i6dg/vu89nSb78N++zje8Vbbpl0y0REJA+RVeoys3OBBc65Ec0dE3elrjTPIbfKCy/4wh7PPedrT192md8MQlYqFddWRFItlkpdZrY60MY591Xu698A5xf6eKUQxbxj0HOX774LAwfCqFGw3npw441w7LF+R4KMiiqIam2ziISmmCHr9YAHzWfrtgXucs49FkmrZOXmz19R2MMMzjrL16AOtLBHVKIMoknnB4iINFZwQHbOzQK2jbAt0pJly+DmXGGPOXPgiCN8YY+NNiro4dI2ZBtlEE1VfoCIlIXMLnvKnCeegD59YNo0+OUvYcwY2Gmngh8ujUO2UQZRrW0WkdAoIIfu1VfhzDPh0Udhk018JvWBBxZd2CONQ7b5BtF8e/5B5weISNlRQA7VnDm+sMfIkfDDH8KIEXDyyZEV9kjrkG1LQTSNPX8REVBADs+iRXDVVX5u+Ouv4c9/9oU9OnaM9GmyOmSbxp6/iAgoILdayRKhnIN77vGFPd59F373O7jkEthii5K1I4tDtmnt+YuIKCCTf3CrrfXHLF0Kq6wSTe+rthZqbn+PHs9cQPW0G+FnP4N//9uPu67kZzQs27Ss9vxFJPvKPiDnE9zqA/aLL/rjwH++/fYii1M88DF7HNSBJXU/oR1XMX7g76ge2rPFwh4all25LPb8RST7yj4gtxTcGgbsyMyfD8OGUXNpW5bUnUMdbVlSUUHNGr+jOo8iWxqWFRHJnjZJNyBp9cGtoqLp4NYwYDvnjzPzyc5HHdXKJ1u2zG+HuNlmcPHF9NhzFdq1b5N7bss7sNYPyw4dquFqEZGsKPsecktzjo17o1deCZ99VsD85OOP+8Ie06fDr34FY8dSXVXF+AKTszQsKyKSLZHt9pSPUuz2FEf5x6KeY/p0X9jjscdg00195nSvXkUX9hARkfDFsttTCOLKNi6oNzpnjl8/PHKk3/ThssvgpJMiK+whIiLZkuo55KYSshK3aJHfiWmzzeCmm3wQfvNNv1+xgrGIiDQj1T3koLKNnYPRo2HAAF/YY7/9/PB0164JNkpERNIi1QE5mCIQtbW+B/z887Dttn6LxN13T6gxIiKSRqkOyJDf/G7JEr/eecf3iEePhvXX94H4qKNaLOwhIiLSWOoDcktKkvj15ZcwbJhfA9WmDZx9NvTt63dlEhERKUCqk7ryEWni17JlcP310KULDB8OBx8MM2fCeecpGIuISFEy30OOLPHrscd8YY9XX4Vdd4WxY6Eqr6VlIiIiLcp8QC468WvaNF/Y4/HHfWGPBx6AAw5QYQ8REYlU5gMyFFjYY/ZsX9jjxhthzTXh8sv9muJ27UrSRvHiqLwmIhKisgjIrbJwoU/WGjbMf33KKTBkCKyzTtItyzzt8ywi5SzzSV15cw5GjYIttoBBg/w64unTfXBWMI5FkJXXRERiooAM8Nxzvit22GHQoQM8+SQ89BBsvnnSLSsrLW2FKSKSZeU9ZP32276wxz33+MIet9wCRx6pwh4JCabymohIAsozIH/5JVx0kR+OrqjwyVt9+8LqqyfdsrKnfZ5FpFyVV0BetsxnTZ99Nnz6KRx9NFx4IWywQdItExGRMlcec8jO+UIeP/sZ/OUvsPXWMHEi3HqrgrGIiAQh+wF56lTYay/YZx9YutQna02YADvumHTLREREvlV0QDazCjN72czGRNGgyHzyCfTuDdtt53vDV17plzHtv7+qbImISHCimEM+DXgNWDOCxyrewoVwxRW+sMeiRXDqqb6wR4cOSbdMRESkWUX1kM1sQ2Af4KZomlOE5cvhrruga1cYPBh+/WvfI77iCgVjEREJXrFD1lcC/YDlEbSlcM8+69fKHH44dOzo54gffDDYwh61tb4DX1ubdEtERCQUBQ9Zm9m+wBzn3CQz67GS43oDvQE6depU6NM1bdYsX9jj3nvhJz/xWdNHHgltws1VU71mERFpSjGRaxdgPzN7B7gb2N3M7mh8kHNupHOuyjlXVVlZWcTTNfLXv8KWW8K//gXnngszZ/p1xQEHY1C9ZhERaVrB0cs5N9A5t6FzrjNwCPCkc+6IyFrWks0287WnZ870lbZSUmVL9ZpFRKQp6a3U1bOn/0iZkOo1a+9hEZFwRBKQnXM1QE0Uj1UOQqjXrLlsEZGwhD3hKiWjuWwRkbAoIJcpzWWLiIQlvXPIUpSQ5rJFREQBuayFMJctIiKehqxFREQCoIAsIiISAAVkERGRACggi4iIBEABWUREJAAKyCIiIgFQQBYREQmAArKIiEgAFJBFREQCoIAckdpaGDbMfxYREWktlc6MgLYyFBGRYqmHHAFtZSgiIsVSQI6AtjIUEZFiacg6AtrKUEREiqWAjJ8DLjaYaitDEREpRtkHZCVkiYhICMp+DlkJWSIiEoKyD8hKyBIRkRCU/ZB1yAlZUcxti4hIOpR9QIYwE7I0ty0iUl7Kfsg6VJrbFhEpLwrIgdLctohIedGQdaBCntsWEZHoKSAHLMS5bRERKQ0NWYuIiASg4IBsZu3N7EUze8XMppvZeVE2TEREpJwUM2S9GNjdObfAzFYBnjGzR51zz0fUNhERkbJRcEB2zjlgQe7bVXIfLopGiYiIlJui5pDNrMLMJgNzgHHOuReiaZaIiEh5KSogO+fqnHPbARsC3c2sW+NjzKy3mU00s4lz584t5ulEREQyK5Isa+fcF0ANsHcT9410zlU556oqKyujeDoREZHMKSbLutLMfpT7+gfAr4HXo2qYiIhIOSkmy3p94DYzq8AH9nucc2OiaZaIiEh5KSbLegqwfYRtERERKVuq1CUiIhIA88uJY3oys7nAuxE+ZEfg0wgfL0k6l/Bk5TxA5xKqrJxLVs4Doj+Xnzrn8spojjUgR83MJjrnqpJuRxR0LuHJynmAziVUWTmXrJwHJHsuGrIWEREJgAKyiIhIANIekEcm3YAI6VzCk5XzAJ1LqLJyLlk5D0jwXFI9hywiIpIVae8hi4iIZEKwAdnM9jazGWb2ppkNaOL+Vc1sdO7+F8ysc4P7BuZun2Fme8XZ7sbyOI8zzOxVM5tiZuPN7KcN7qszs8m5j0fibfn35XEux5jZ3AZt/mOD+442szdyH0fH2/Lvy+NcrmhwHjPN7IsG9wVzXczsZjObY2bTmrnfzOyvufOcYmY7NLgvtGvS0rkcnjuHKWb2nJlt2+C+d8xsau6aTIyv1U3L41x6mNmXDf6Ozm5w30r/NuOUx3n0bXAO03KvjQ65+0K7JhuZ2QQze83MppvZaU0ck+zrxTkX3AdQAbwFbAK0A14Btmp0zF+A63NfHwKMzn29Ve74VYGNc49TEfB57Aaslvv6z/Xnkft+QdLXopXncgxwdRM/2wGYlfu8du7rtUM+l0bHnwLcHOh12RXYAZjWzP09gUcBA34BvBDiNcnzXHaubyPw2/pzyX3/DtAx6evRinPpAYxp4vZW/W0mfR6Njv0d8GTA12R9YIfc12sAM5v4H5bo6yXUHnJ34E3n3Czn3BLgbmD/RsfsD9yW+/o+YA8zs9ztdzvnFjvn3gbezD1eElo8D+fcBOfcN7lvn8dvZRmifK5Jc/bC75c9zzn3OTCOJnYGi1Frz+VQYFQsLWsl59xTwLyVHLI/cLvzngd+ZGbrE941afFcnHPP5doKYb9W8rkuzSnmdRa5Vp5HsK8TAOfcx865l3JffwW8BmzQ6LBEXy+hBuQNgPcbfP8B3//FfXuMc24Z8CWwTp4/G5fWtuV4/Luzeu3N7yX9vJkdUIoGtkK+5/K/uaGe+8xso1b+bFzybk9uCmFj4MkGN4d0XVrS3LmGdk1aq/FrxQFPmNkkM+udUJtaq9rMXjGzR81s69xtqbwuZrYaPkDd3+DmYK+J+SnO7YEXGt2V6OulmN2eSsmauK1xOnhzx+Tzs3HJuy1mdgRQBfxPg5s7Oec+MrNNgCfNbKpz7q0StDMf+ZzLP4FRzrnFZnYifgRj9zx/Nk6tac8hwH3OuboGt4V0XVqShtdJq5jZbviA/MsGN++SuybrAuPM7PVc7y5UL+FLKi4ws57AQ0AX0ntdfgc865xr2JsO8pqY2Q/xbxz+zzk3v/HdTfxIbK+XUHvIHwAbNfh+Q+Cj5o4xs7bAWvihlXx+Ni55tcXMfg0MBvZzzi2uv90591Hu8yyghmR312rxXJxznzVo/43Ajvn+bMxa055DaDQMF9h1aUlz5xraNcmLmf0MuAnY3zn3Wf3tDa7JHOBBkpumyotzbr5zbkHu67HAKmbWkZReF1b+OgnmmpjZKvhgfKdz7oEmDkn29ZL0RHtTH/ie+yz8UGF9YsPWjY45ie8mdd2T+3prvpvUNYvkkrryOY/t8UkcXRrdvjawau7rjsAbJJvckc+5rN/g617A87mvOwBv585p7dzXHUI+l9xxXfGJKRbqdcm1ozPNJw/tw3eTVF4M8ZrkeS6d8DkhOze6fXVgjQZfPwfsHfi5/Lj+7wofqN7LXaO8/jZDOY/c/fWdodVDvia53+/twJUrOSbR10uif7At/PJ64rPg3gIG5247H9+LBGgP3Jt7gb4IbNLgZwfnfm4G8NvAz+PfwGxgcu7jkdztOwNTcy/IqcDxKbgmw4DpuTZPALZo8LPH5a7Vm8CxoZ9L7vtzgYsb/VxQ1wXfK/kYWIp/F388cCJwYu5+A67JnedUoCrga9LSudwEfN7gtTIxd/smuevxSu7vb3AKzuXkBq+V52nwJqOpv81QzyN3zDH4RNqGPxfiNfklfph5SoO/oZ4hvV5UqUtERCQAoc4hi4iIlBUFZBERkQAoIIuIiARAAVlERCQACsgiIiIBUEAWEREJgAKyiIhIABSQRUREAvD/iVYNUwqaYuAAAAAASUVORK5CYII=\n",
          "text/plain": "<Figure size 576x432 with 1 Axes>"
         },
         "metadata": {},
         "output_type": "display_data"
        }
       ]
      }
     },
     "75013be6a6b54938afba88b05f54eabd": {
      "model_module": "@jupyter-widgets/base",
      "model_module_version": "1.1.0",
      "model_name": "LayoutModel",
      "state": {}
     },
     "75096e8c060e4b14b65bdeae05470c56": {
      "model_module": "@jupyter-widgets/base",
      "model_module_version": "1.1.0",
      "model_name": "LayoutModel",
      "state": {}
     },
     "772ffda074f443cfb52227113714e15d": {
      "model_module": "@jupyter-widgets/controls",
      "model_module_version": "1.4.0",
      "model_name": "IntSliderModel",
      "state": {
       "description": "n_epochs",
       "layout": "IPY_MODEL_75096e8c060e4b14b65bdeae05470c56",
       "max": 50,
       "min": 2,
       "step": 10,
       "style": "IPY_MODEL_2312bd1efe21413db6a7bf677ca6ca6d",
       "value": 20
      }
     },
     "7a79221c24d44c62871346d715753fe2": {
      "model_module": "@jupyter-widgets/controls",
      "model_module_version": "1.4.0",
      "model_name": "SliderStyleModel",
      "state": {
       "description_width": ""
      }
     },
     "7b2ad91f6860446fa403891574a93383": {
      "model_module": "@jupyter-widgets/base",
      "model_module_version": "1.1.0",
      "model_name": "LayoutModel",
      "state": {
       "height": "550px"
      }
     },
     "7b833d4e76c44b5bbdf425a19c05aa62": {
      "model_module": "@jupyter-widgets/controls",
      "model_module_version": "1.4.0",
      "model_name": "VBoxModel",
      "state": {
       "_dom_classes": [
        "widget-interact"
       ],
       "children": [
        "IPY_MODEL_e4fb15ceaf3b476cb1478b2267cd04fa",
        "IPY_MODEL_ff189d0047f64b6fa6cdd9f48eb50675",
        "IPY_MODEL_97bafc9556904c1ea12c650b3e439dc9"
       ],
       "layout": "IPY_MODEL_94291b4195f94a0fb9ac1c22628551e7"
      }
     },
     "7d3c0eb0af91491bb908249b15b1545f": {
      "model_module": "@jupyter-widgets/base",
      "model_module_version": "1.1.0",
      "model_name": "LayoutModel",
      "state": {}
     },
     "7dd832c294e94826af4bae2a27a6219e": {
      "model_module": "@jupyter-widgets/base",
      "model_module_version": "1.1.0",
      "model_name": "LayoutModel",
      "state": {
       "height": "550px"
      }
     },
     "7e403a0501e646f1a0e80c4a15ba798c": {
      "model_module": "@jupyter-widgets/controls",
      "model_module_version": "1.4.0",
      "model_name": "SliderStyleModel",
      "state": {
       "description_width": ""
      }
     },
     "809473ce0486428bb264493a5c2a2a2a": {
      "model_module": "@jupyter-widgets/controls",
      "model_module_version": "1.4.0",
      "model_name": "FloatSliderModel",
      "state": {
       "description": "eta",
       "layout": "IPY_MODEL_6cebef6f48c84cbf8f43e6b02bbe251e",
       "max": 1,
       "min": 0.001,
       "step": 0.005,
       "style": "IPY_MODEL_f2a1c0ea3ef44f6e959ac56eb4d80918",
       "value": 0.1
      }
     },
     "828d2c63b638491592282996334d2a2c": {
      "model_module": "@jupyter-widgets/base",
      "model_module_version": "1.1.0",
      "model_name": "LayoutModel",
      "state": {}
     },
     "83ab6e99249b47bfb132ff006da58181": {
      "model_module": "@jupyter-widgets/controls",
      "model_module_version": "1.4.0",
      "model_name": "IntSliderModel",
      "state": {
       "description": "n_iterations",
       "layout": "IPY_MODEL_e2f23bce70d249a38558fb8e168e77d4",
       "max": 50,
       "min": 2,
       "step": 10,
       "style": "IPY_MODEL_b078ca401eb04e4f978b862977425dc2",
       "value": 22
      }
     },
     "89f56ee9122a488db74e795fbbd34a0b": {
      "model_module": "@jupyter-widgets/base",
      "model_module_version": "1.1.0",
      "model_name": "LayoutModel",
      "state": {}
     },
     "8a142eb9d1d348a88aad6145eb295c99": {
      "model_module": "@jupyter-widgets/output",
      "model_module_version": "1.0.0",
      "model_name": "OutputModel",
      "state": {
       "layout": "IPY_MODEL_d2d6608cf93a4cff9322388e910cb3ce",
       "outputs": [
        {
         "data": {
          "image/png": "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\n",
          "text/plain": "<Figure size 576x432 with 1 Axes>"
         },
         "metadata": {},
         "output_type": "display_data"
        }
       ]
      }
     },
     "8acae2df4a294bec965fd7d407ebb5d4": {
      "model_module": "@jupyter-widgets/controls",
      "model_module_version": "1.4.0",
      "model_name": "FloatSliderModel",
      "state": {
       "description": "eta",
       "layout": "IPY_MODEL_6cacbafabda64958a7ba22aa45372559",
       "max": 1,
       "min": 0.001,
       "step": 0.005,
       "style": "IPY_MODEL_a0e32ba76ed0426b938e81a893ce0175",
       "value": 0.1
      }
     },
     "922c97ce739b4b3099edd5e0bbb34fcd": {
      "model_module": "@jupyter-widgets/controls",
      "model_module_version": "1.4.0",
      "model_name": "IntSliderModel",
      "state": {
       "description": "theta1",
       "layout": "IPY_MODEL_ccd8a14a02ad488c9fbfbc004753cb4e",
       "max": 5,
       "min": -5,
       "style": "IPY_MODEL_6ee635c68cc64de6a69528db7d34d134"
      }
     },
     "94291b4195f94a0fb9ac1c22628551e7": {
      "model_module": "@jupyter-widgets/base",
      "model_module_version": "1.1.0",
      "model_name": "LayoutModel",
      "state": {}
     },
     "9469d26f8447497ca4645322f5609af5": {
      "model_module": "@jupyter-widgets/base",
      "model_module_version": "1.1.0",
      "model_name": "LayoutModel",
      "state": {}
     },
     "95a58d92f90741cfb89da87345ff3889": {
      "model_module": "@jupyter-widgets/controls",
      "model_module_version": "1.4.0",
      "model_name": "FloatSliderModel",
      "state": {
       "description": "eta",
       "layout": "IPY_MODEL_57e36cd74d75412384a6d8b2e4c9f24e",
       "max": 1,
       "min": 0.001,
       "step": 0.005,
       "style": "IPY_MODEL_4a615f08f19c412d9a97dc37e2ef496a",
       "value": 0.451
      }
     },
     "962dc609764748d490a0b1e43b754fc4": {
      "model_module": "@jupyter-widgets/controls",
      "model_module_version": "1.4.0",
      "model_name": "SliderStyleModel",
      "state": {
       "description_width": ""
      }
     },
     "968bbf8ee19241098f52d9d51e1c969f": {
      "model_module": "@jupyter-widgets/controls",
      "model_module_version": "1.4.0",
      "model_name": "VBoxModel",
      "state": {
       "_dom_classes": [
        "widget-interact"
       ],
       "children": [
        "IPY_MODEL_69288e2682c94f4c903c0e83d0a9245e",
        "IPY_MODEL_f5f40cb9e95b4605ad11704c32c5d5b9",
        "IPY_MODEL_5c96948a917b4f51a7541767195e536a"
       ],
       "layout": "IPY_MODEL_b4e3551cf2a5453494101abe5bc48245"
      }
     },
     "97bafc9556904c1ea12c650b3e439dc9": {
      "model_module": "@jupyter-widgets/output",
      "model_module_version": "1.0.0",
      "model_name": "OutputModel",
      "state": {
       "layout": "IPY_MODEL_6c8976a7562f4a92b3467388e034fc73",
       "outputs": [
        {
         "data": {
          "text/plain": "array([50.00830364])"
         },
         "metadata": {},
         "output_type": "display_data"
        }
       ]
      }
     },
     "99bcbe214b784762b3f474f21668efe1": {
      "model_module": "@jupyter-widgets/base",
      "model_module_version": "1.1.0",
      "model_name": "LayoutModel",
      "state": {
       "height": "550px"
      }
     },
     "a0e32ba76ed0426b938e81a893ce0175": {
      "model_module": "@jupyter-widgets/controls",
      "model_module_version": "1.4.0",
      "model_name": "SliderStyleModel",
      "state": {
       "description_width": ""
      }
     },
     "a4984cf6840f42f29d735ebc82700d0b": {
      "model_module": "@jupyter-widgets/base",
      "model_module_version": "1.1.0",
      "model_name": "LayoutModel",
      "state": {}
     },
     "a896e4dddc8a48e1aad157cd870f7649": {
      "model_module": "@jupyter-widgets/controls",
      "model_module_version": "1.4.0",
      "model_name": "SliderStyleModel",
      "state": {
       "description_width": ""
      }
     },
     "aa0c9f04a49244b0835199532898422d": {
      "model_module": "@jupyter-widgets/controls",
      "model_module_version": "1.4.0",
      "model_name": "SliderStyleModel",
      "state": {
       "description_width": ""
      }
     },
     "ab28014624484442b27d980cc6fe4754": {
      "model_module": "@jupyter-widgets/base",
      "model_module_version": "1.1.0",
      "model_name": "LayoutModel",
      "state": {}
     },
     "abd199238cee4854accb0e48a066929c": {
      "model_module": "@jupyter-widgets/base",
      "model_module_version": "1.1.0",
      "model_name": "LayoutModel",
      "state": {}
     },
     "ad3aa62695884ed197ac4ca9de4fed76": {
      "model_module": "@jupyter-widgets/base",
      "model_module_version": "1.1.0",
      "model_name": "LayoutModel",
      "state": {}
     },
     "af3ac57e141349dcade178d3f2038672": {
      "model_module": "@jupyter-widgets/controls",
      "model_module_version": "1.4.0",
      "model_name": "SliderStyleModel",
      "state": {
       "description_width": ""
      }
     },
     "b078ca401eb04e4f978b862977425dc2": {
      "model_module": "@jupyter-widgets/controls",
      "model_module_version": "1.4.0",
      "model_name": "SliderStyleModel",
      "state": {
       "description_width": ""
      }
     },
     "b3476a3f165e4e609a112e09cb4a2152": {
      "model_module": "@jupyter-widgets/controls",
      "model_module_version": "1.4.0",
      "model_name": "SliderStyleModel",
      "state": {
       "description_width": ""
      }
     },
     "b35d4ff8c2ab48008ec69ef83beffb2b": {
      "model_module": "@jupyter-widgets/controls",
      "model_module_version": "1.4.0",
      "model_name": "SliderStyleModel",
      "state": {
       "description_width": ""
      }
     },
     "b3a07d07154c4af7b2f8b7fd24f3f8a8": {
      "model_module": "@jupyter-widgets/base",
      "model_module_version": "1.1.0",
      "model_name": "LayoutModel",
      "state": {}
     },
     "b4e3551cf2a5453494101abe5bc48245": {
      "model_module": "@jupyter-widgets/base",
      "model_module_version": "1.1.0",
      "model_name": "LayoutModel",
      "state": {}
     },
     "b520bee590ff45349eedfc92e96502ed": {
      "model_module": "@jupyter-widgets/controls",
      "model_module_version": "1.4.0",
      "model_name": "SliderStyleModel",
      "state": {
       "description_width": ""
      }
     },
     "b78635357cd341918e7994c6857aa757": {
      "model_module": "@jupyter-widgets/controls",
      "model_module_version": "1.4.0",
      "model_name": "IntSliderModel",
      "state": {
       "description": "theta0",
       "layout": "IPY_MODEL_828d2c63b638491592282996334d2a2c",
       "max": 5,
       "min": -5,
       "style": "IPY_MODEL_b35d4ff8c2ab48008ec69ef83beffb2b"
      }
     },
     "c91f17582783496d972135a46fcdcc4c": {
      "model_module": "@jupyter-widgets/controls",
      "model_module_version": "1.4.0",
      "model_name": "IntSliderModel",
      "state": {
       "description": "n_epochs",
       "layout": "IPY_MODEL_cd17a4e1fe1c4fcb93e8338e2bf34649",
       "max": 50,
       "min": 2,
       "step": 10,
       "style": "IPY_MODEL_b3476a3f165e4e609a112e09cb4a2152",
       "value": 20
      }
     },
     "ca3a0de68f88411aa21f04cfabed501f": {
      "model_module": "@jupyter-widgets/base",
      "model_module_version": "1.1.0",
      "model_name": "LayoutModel",
      "state": {}
     },
     "cc8929941d40470c98430b71bcbfcfd2": {
      "model_module": "@jupyter-widgets/base",
      "model_module_version": "1.1.0",
      "model_name": "LayoutModel",
      "state": {}
     },
     "ccd8a14a02ad488c9fbfbc004753cb4e": {
      "model_module": "@jupyter-widgets/base",
      "model_module_version": "1.1.0",
      "model_name": "LayoutModel",
      "state": {}
     },
     "cd17a4e1fe1c4fcb93e8338e2bf34649": {
      "model_module": "@jupyter-widgets/base",
      "model_module_version": "1.1.0",
      "model_name": "LayoutModel",
      "state": {}
     },
     "d06b8479e8be4a06b6724d538763a219": {
      "model_module": "@jupyter-widgets/controls",
      "model_module_version": "1.4.0",
      "model_name": "FloatSliderModel",
      "state": {
       "description": "eta",
       "layout": "IPY_MODEL_0f2ca8fa48c246cca2508f4260767898",
       "max": 1,
       "min": 0.001,
       "step": 0.005,
       "style": "IPY_MODEL_2c33a6766f2a49cf93354ed1f8a9714b",
       "value": 0.1
      }
     },
     "d12ae4440dae4a8eb99e885706eb9fad": {
      "model_module": "@jupyter-widgets/controls",
      "model_module_version": "1.4.0",
      "model_name": "VBoxModel",
      "state": {
       "_dom_classes": [
        "widget-interact"
       ],
       "children": [
        "IPY_MODEL_f2516f0c6dd04b34ae88e9ad2a241abc",
        "IPY_MODEL_922c97ce739b4b3099edd5e0bbb34fcd",
        "IPY_MODEL_0a616fca7a6b416c9c800cadb1fbe2b2"
       ],
       "layout": "IPY_MODEL_fe6dcb6996744065a03a9edf213e4ae3"
      }
     },
     "d2d6608cf93a4cff9322388e910cb3ce": {
      "model_module": "@jupyter-widgets/base",
      "model_module_version": "1.1.0",
      "model_name": "LayoutModel",
      "state": {
       "height": "550px"
      }
     },
     "d6a2b625c91a4e5484d020c86b59ff9a": {
      "model_module": "@jupyter-widgets/output",
      "model_module_version": "1.0.0",
      "model_name": "OutputModel",
      "state": {
       "layout": "IPY_MODEL_22fcd4fbc06e4ec282b982e42f7a8329",
       "outputs": [
        {
         "data": {
          "image/png": "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\n",
          "text/plain": "<Figure size 576x432 with 1 Axes>"
         },
         "metadata": {},
         "output_type": "display_data"
        }
       ]
      }
     },
     "d79c7ccf830d44a29123be7cbc0789e9": {
      "model_module": "@jupyter-widgets/output",
      "model_module_version": "1.0.0",
      "model_name": "OutputModel",
      "state": {
       "layout": "IPY_MODEL_7b2ad91f6860446fa403891574a93383",
       "outputs": [
        {
         "data": {
          "image/png": "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\n",
          "text/plain": "<Figure size 576x432 with 1 Axes>"
         },
         "metadata": {},
         "output_type": "display_data"
        }
       ]
      }
     },
     "dc8539467afd4f45975756651b174c2b": {
      "model_module": "@jupyter-widgets/base",
      "model_module_version": "1.1.0",
      "model_name": "LayoutModel",
      "state": {
       "height": "550px"
      }
     },
     "e1b76acc7d494484bd1990deca3b5a15": {
      "model_module": "@jupyter-widgets/controls",
      "model_module_version": "1.4.0",
      "model_name": "IntSliderModel",
      "state": {
       "description": "theta1",
       "layout": "IPY_MODEL_3e7a0c5abea14c029365277c556cff7f",
       "max": 5,
       "min": -5,
       "style": "IPY_MODEL_2904435fe118400b93f3c7b04d49cb91"
      }
     },
     "e2f23bce70d249a38558fb8e168e77d4": {
      "model_module": "@jupyter-widgets/base",
      "model_module_version": "1.1.0",
      "model_name": "LayoutModel",
      "state": {}
     },
     "e4fb15ceaf3b476cb1478b2267cd04fa": {
      "model_module": "@jupyter-widgets/controls",
      "model_module_version": "1.4.0",
      "model_name": "IntSliderModel",
      "state": {
       "description": "theta0",
       "layout": "IPY_MODEL_504e680f43e3407aae257639aa2e25b5",
       "max": 5,
       "min": -5,
       "style": "IPY_MODEL_b520bee590ff45349eedfc92e96502ed"
      }
     },
     "e78bcc69beda4fbbbb6424328eb14b94": {
      "model_module": "@jupyter-widgets/base",
      "model_module_version": "1.1.0",
      "model_name": "LayoutModel",
      "state": {}
     },
     "e7e138953c0148cca8a44e507ce86cae": {
      "model_module": "@jupyter-widgets/controls",
      "model_module_version": "1.4.0",
      "model_name": "FloatSliderModel",
      "state": {
       "layout": "IPY_MODEL_7d3c0eb0af91491bb908249b15b1545f",
       "max": 1,
       "min": 0.001,
       "step": 0.005,
       "style": "IPY_MODEL_7e403a0501e646f1a0e80c4a15ba798c",
       "value": 0.1
      }
     },
     "f2516f0c6dd04b34ae88e9ad2a241abc": {
      "model_module": "@jupyter-widgets/controls",
      "model_module_version": "1.4.0",
      "model_name": "IntSliderModel",
      "state": {
       "description": "theta0",
       "layout": "IPY_MODEL_ab28014624484442b27d980cc6fe4754",
       "max": 5,
       "min": -5,
       "style": "IPY_MODEL_6e102d0774804cbc97455a224cd19ebf"
      }
     },
     "f2a1c0ea3ef44f6e959ac56eb4d80918": {
      "model_module": "@jupyter-widgets/controls",
      "model_module_version": "1.4.0",
      "model_name": "SliderStyleModel",
      "state": {
       "description_width": ""
      }
     },
     "f47d577cd34e44f99569cd33b8c7bca8": {
      "model_module": "@jupyter-widgets/base",
      "model_module_version": "1.1.0",
      "model_name": "LayoutModel",
      "state": {}
     },
     "f4a81f6514ef42deb6477c3b4b81cce6": {
      "model_module": "@jupyter-widgets/base",
      "model_module_version": "1.1.0",
      "model_name": "LayoutModel",
      "state": {}
     },
     "f5f40cb9e95b4605ad11704c32c5d5b9": {
      "model_module": "@jupyter-widgets/controls",
      "model_module_version": "1.4.0",
      "model_name": "IntSliderModel",
      "state": {
       "description": "n_epochs",
       "layout": "IPY_MODEL_75013be6a6b54938afba88b05f54eabd",
       "max": 50,
       "min": 2,
       "step": 10,
       "style": "IPY_MODEL_327511a2c68f4abeaf676c21a58d4050",
       "value": 20
      }
     },
     "fadd9ee6343441c7a0bf138093d13781": {
      "model_module": "@jupyter-widgets/controls",
      "model_module_version": "1.4.0",
      "model_name": "VBoxModel",
      "state": {
       "_dom_classes": [
        "widget-interact"
       ],
       "children": [
        "IPY_MODEL_d06b8479e8be4a06b6724d538763a219",
        "IPY_MODEL_c91f17582783496d972135a46fcdcc4c",
        "IPY_MODEL_7142bd399ba74c8aad3f1bacd5832530"
       ],
       "layout": "IPY_MODEL_6e380e48aa7a4c2fa86cbfadee5dfa10"
      }
     },
     "fe6dcb6996744065a03a9edf213e4ae3": {
      "model_module": "@jupyter-widgets/base",
      "model_module_version": "1.1.0",
      "model_name": "LayoutModel",
      "state": {}
     },
     "ff189d0047f64b6fa6cdd9f48eb50675": {
      "model_module": "@jupyter-widgets/controls",
      "model_module_version": "1.4.0",
      "model_name": "IntSliderModel",
      "state": {
       "description": "theta1",
       "layout": "IPY_MODEL_1e2e16b4bd06494cb2deb7243483754b",
       "max": 5,
       "min": -5,
       "style": "IPY_MODEL_7a79221c24d44c62871346d715753fe2"
      }
     }
    },
    "version_major": 2,
    "version_minor": 0
   }
  }
 },
 "nbformat": 4,
 "nbformat_minor": 2
}
