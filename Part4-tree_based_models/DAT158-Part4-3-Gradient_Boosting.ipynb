{
 "cells": [
  {
   "cell_type": "markdown",
   "metadata": {},
   "source": [
    "Alexander S. Lundervold, October 26th, 2018"
   ]
  },
  {
   "cell_type": "markdown",
   "metadata": {},
   "source": [
    "> **UNDER CONSTRUCTION**"
   ]
  },
  {
   "cell_type": "markdown",
   "metadata": {},
   "source": [
    "# Setup"
   ]
  },
  {
   "cell_type": "code",
   "execution_count": 1,
   "metadata": {},
   "outputs": [],
   "source": [
    "# To automatically reload modules defined in external files.\n",
    "%reload_ext autoreload\n",
    "%autoreload 2"
   ]
  },
  {
   "cell_type": "code",
   "execution_count": 2,
   "metadata": {},
   "outputs": [],
   "source": [
    "%matplotlib inline"
   ]
  },
  {
   "cell_type": "code",
   "execution_count": 3,
   "metadata": {},
   "outputs": [],
   "source": [
    "from pathlib import Path # Very convenient when working with paths in Python (https://docs.python.org/3.6/library/pathlib.html)\n",
    "import numpy as np\n",
    "import pandas as pd\n",
    "import matplotlib.pyplot as plt\n",
    "import matplotlib\n",
    "import sklearn\n",
    "\n",
    "import seaborn as sns # For nicer plots"
   ]
  },
  {
   "cell_type": "code",
   "execution_count": 4,
   "metadata": {},
   "outputs": [],
   "source": [
    "# To make the notebook reproducible\n",
    "seed = 42\n",
    "np.random.seed(seed)"
   ]
  },
  {
   "cell_type": "markdown",
   "metadata": {},
   "source": [
    "# Introduction"
   ]
  },
  {
   "cell_type": "markdown",
   "metadata": {},
   "source": [
    "Now we're ready for one of the most powerful classes of machine learning models there is: based on **boosted trees**. With this tool in your belt you're well-equipped to face most machine learning modelling tasks you'll meet in real life."
   ]
  },
  {
   "cell_type": "markdown",
   "metadata": {},
   "source": [
    "Like random forests, boosting is based on ensembling decision trees (or in fact, any other model), having each tree in the ensemble try to **correct the errors of the previous trees**. "
   ]
  },
  {
   "cell_type": "markdown",
   "metadata": {},
   "source": [
    "One of the main boosting techniques is called **AdaBoost**. Here each additional tree focuses on the examples that were misclassified by the previous trees. That is, the ensemble iteratively learns from its mistakes. \n",
    "\n",
    "We will not focus on AdaBoost here, but rather on a different boosting technique, whose most popular implementation is called `XGBoost`. \n",
    "\n",
    "> You should read about AdaBoost in the textbook. "
   ]
  },
  {
   "cell_type": "markdown",
   "metadata": {},
   "source": [
    "In **gradient boosting** in general, and XGBoost in particular, each tree added to the ensemble tries to predict the *residual error* from the previously added tree. In other words, it's trained to predict the difference between the correct value and the value predicted from the ensemble so far. "
   ]
  },
  {
   "cell_type": "markdown",
   "metadata": {},
   "source": [
    "Each individual tree is what's called a *weak learner*, not able to fit the data very well. But by combining them by having each tree try to predict the residual of the previous trees' predictions, the result is a very *strong learner*. In fact, we can end up with some of the strongest learnes we know. "
   ]
  },
  {
   "cell_type": "markdown",
   "metadata": {},
   "source": [
    "## Boosting"
   ]
  },
  {
   "cell_type": "markdown",
   "metadata": {},
   "source": [
    "We'll try to build a boosting ensemble ourselves. First we'll explain it in a spreadsheet, then in code. Gradient boosting builds on this, as we shall see."
   ]
  },
  {
   "cell_type": "markdown",
   "metadata": {},
   "source": [
    "### Boosting spreadsheet"
   ]
  },
  {
   "cell_type": "markdown",
   "metadata": {},
   "source": [
    "> Go to http://bit.ly/boosting_example for the spreadsheet. We'll go through it in the lecture."
   ]
  },
  {
   "cell_type": "markdown",
   "metadata": {},
   "source": [
    "### Boosting using scikit-learn"
   ]
  },
  {
   "cell_type": "markdown",
   "metadata": {},
   "source": [
    "Let's use the randomly generated data as in the textbook (see Chapter 7)."
   ]
  },
  {
   "cell_type": "code",
   "execution_count": 5,
   "metadata": {},
   "outputs": [],
   "source": [
    "np.random.seed(42)\n",
    "X = np.random.rand(100, 1) - 0.5\n",
    "y = 3*X[:, 0]**2 + 0.05 * np.random.randn(100)"
   ]
  },
  {
   "cell_type": "code",
   "execution_count": 6,
   "metadata": {},
   "outputs": [
    {
     "data": {
      "image/png": "[encoded data removed]",
      "text/plain": [
       "<Figure size 432x288 with 1 Axes>"
      ]
     },
     "metadata": {
      "needs_background": "light"
     },
     "output_type": "display_data"
    }
   ],
   "source": [
    "plt.scatter(X,y)\n",
    "plt.show()"
   ]
  },
  {
   "cell_type": "markdown",
   "metadata": {},
   "source": [
    "We'll start by training a single decision tree:"
   ]
  },
  {
   "cell_type": "code",
   "execution_count": 7,
   "metadata": {},
   "outputs": [
    {
     "data": {
      "text/plain": [
       "DecisionTreeRegressor(criterion='mse', max_depth=2, max_features=None,\n",
       "           max_leaf_nodes=None, min_impurity_decrease=0.0,\n",
       "           min_impurity_split=None, min_samples_leaf=1,\n",
       "           min_samples_split=2, min_weight_fraction_leaf=0.0,\n",
       "           presort=False, random_state=None, splitter='best')"
      ]
     },
     "execution_count": 7,
     "metadata": {},
     "output_type": "execute_result"
    }
   ],
   "source": [
    "from sklearn.tree import DecisionTreeRegressor\n",
    "tree_1 = DecisionTreeRegressor(max_depth=2)\n",
    "tree_1.fit(X,y)"
   ]
  },
  {
   "cell_type": "markdown",
   "metadata": {},
   "source": [
    "We need some data on which to predict:"
   ]
  },
  {
   "cell_type": "code",
   "execution_count": 8,
   "metadata": {},
   "outputs": [],
   "source": [
    "X_new = np.linspace(-0.5, 0.5, 500)\n",
    "X_new = X_new.reshape(-1, 1)"
   ]
  },
  {
   "cell_type": "code",
   "execution_count": 9,
   "metadata": {},
   "outputs": [],
   "source": [
    "y_pred_1 = tree_1.predict(X_new)  "
   ]
  },
  {
   "cell_type": "markdown",
   "metadata": {},
   "source": [
    "*I made a small utility function to plot predictions on top of the data. Simplified from the book's version. See `utils.py` for details*"
   ]
  },
  {
   "cell_type": "code",
   "execution_count": 10,
   "metadata": {},
   "outputs": [],
   "source": [
    "def plot_predictions(y_pred):\n",
    "    fig, ax = plt.subplots()\n",
    "    ax.plot(X[:, 0], y, 'b.')\n",
    "    ax.plot(X_new, y_pred, 'g-')\n",
    "    plt.show()"
   ]
  },
  {
   "cell_type": "code",
   "execution_count": 11,
   "metadata": {},
   "outputs": [
    {
     "data": {
      "image/png": "[encoded data removed]",
      "text/plain": [
       "<Figure size 432x288 with 1 Axes>"
      ]
     },
     "metadata": {
      "needs_background": "light"
     },
     "output_type": "display_data"
    }
   ],
   "source": [
    "plot_predictions(y_pred_1)"
   ]
  },
  {
   "cell_type": "markdown",
   "metadata": {},
   "source": [
    "This result is what we want to improve."
   ]
  },
  {
   "cell_type": "markdown",
   "metadata": {},
   "source": [
    "Here's the trick: we calculate the residuals and fit another tree to them. Then we make predictions by summing the previous predictions and the predicted residuals. \n",
    "\n",
    "Let's make an ensemle containing 3 trees:"
   ]
  },
  {
   "cell_type": "code",
   "execution_count": 12,
   "metadata": {},
   "outputs": [],
   "source": [
    "y2 = y - tree_1.predict(X)"
   ]
  },
  {
   "cell_type": "code",
   "execution_count": 13,
   "metadata": {},
   "outputs": [],
   "source": [
    "tree_2 = DecisionTreeRegressor(max_depth=2)"
   ]
  },
  {
   "cell_type": "code",
   "execution_count": 14,
   "metadata": {},
   "outputs": [
    {
     "data": {
      "text/plain": [
       "DecisionTreeRegressor(criterion='mse', max_depth=2, max_features=None,\n",
       "           max_leaf_nodes=None, min_impurity_decrease=0.0,\n",
       "           min_impurity_split=None, min_samples_leaf=1,\n",
       "           min_samples_split=2, min_weight_fraction_leaf=0.0,\n",
       "           presort=False, random_state=None, splitter='best')"
      ]
     },
     "execution_count": 14,
     "metadata": {},
     "output_type": "execute_result"
    }
   ],
   "source": [
    "tree_2.fit(X,y2)"
   ]
  },
  {
   "cell_type": "code",
   "execution_count": 15,
   "metadata": {},
   "outputs": [],
   "source": [
    "y3 = y2 - tree_2.predict(X)"
   ]
  },
  {
   "cell_type": "code",
   "execution_count": 16,
   "metadata": {},
   "outputs": [],
   "source": [
    "tree_3 = DecisionTreeRegressor(max_depth=2)"
   ]
  },
  {
   "cell_type": "code",
   "execution_count": 17,
   "metadata": {},
   "outputs": [
    {
     "data": {
      "text/plain": [
       "DecisionTreeRegressor(criterion='mse', max_depth=2, max_features=None,\n",
       "           max_leaf_nodes=None, min_impurity_decrease=0.0,\n",
       "           min_impurity_split=None, min_samples_leaf=1,\n",
       "           min_samples_split=2, min_weight_fraction_leaf=0.0,\n",
       "           presort=False, random_state=None, splitter='best')"
      ]
     },
     "execution_count": 17,
     "metadata": {},
     "output_type": "execute_result"
    }
   ],
   "source": [
    "tree_3.fit(X, y3)"
   ]
  },
  {
   "cell_type": "markdown",
   "metadata": {},
   "source": [
    "...and plot the improvements:"
   ]
  },
  {
   "cell_type": "markdown",
   "metadata": {},
   "source": [
    "Here was the original result:"
   ]
  },
  {
   "cell_type": "code",
   "execution_count": 18,
   "metadata": {},
   "outputs": [
    {
     "data": {
      "image/png": "[encoded data removed]",
      "text/plain": [
       "<Figure size 432x288 with 1 Axes>"
      ]
     },
     "metadata": {
      "needs_background": "light"
     },
     "output_type": "display_data"
    }
   ],
   "source": [
    "plot_predictions(y_pred_1)"
   ]
  },
  {
   "cell_type": "code",
   "execution_count": 19,
   "metadata": {},
   "outputs": [],
   "source": [
    "combined_1 = sum([tree.predict(X_new) for tree in [tree_1, tree_2]])"
   ]
  },
  {
   "cell_type": "code",
   "execution_count": 20,
   "metadata": {},
   "outputs": [
    {
     "data": {
      "image/png": "[encoded data removed]",
      "text/plain": [
       "<Figure size 432x288 with 1 Axes>"
      ]
     },
     "metadata": {
      "needs_background": "light"
     },
     "output_type": "display_data"
    }
   ],
   "source": [
    "plot_predictions(combined_1)"
   ]
  },
  {
   "cell_type": "code",
   "execution_count": 21,
   "metadata": {},
   "outputs": [],
   "source": [
    "combined_2 = sum([tree.predict(X_new) for tree in [tree_1, tree_2, tree_3]])"
   ]
  },
  {
   "cell_type": "code",
   "execution_count": 22,
   "metadata": {},
   "outputs": [
    {
     "data": {
      "image/png": "[encoded data removed]",
      "text/plain": [
       "<Figure size 432x288 with 1 Axes>"
      ]
     },
     "metadata": {
      "needs_background": "light"
     },
     "output_type": "display_data"
    }
   ],
   "source": [
    "plot_predictions(combined_2)"
   ]
  },
  {
   "cell_type": "markdown",
   "metadata": {},
   "source": [
    "**Magic!**"
   ]
  },
  {
   "cell_type": "markdown",
   "metadata": {},
   "source": [
    "We can continue this for as long as we want:"
   ]
  },
  {
   "cell_type": "code",
   "execution_count": 23,
   "metadata": {},
   "outputs": [],
   "source": [
    "def tree_boosting(k=3):\n",
    "    \"\"\"\n",
    "    Trains k trees on the randomly generated points\n",
    "    \"\"\"\n",
    "    \n",
    "    # Data\n",
    "    X = np.random.rand(100, 1) - 0.5\n",
    "    y = 3*X[:, 0]**2 + 0.05 * np.random.randn(100)\n",
    "    \n",
    "    # Construct trees\n",
    "    trees = []\n",
    "    for i in range(k):\n",
    "        tree = DecisionTreeRegressor(max_depth=2)\n",
    "        tree.fit(X,y)\n",
    "        trees.append(tree)\n",
    "        y = y - tree.predict(X)\n",
    "    \n",
    "    # Combine the predictions and plot\n",
    "    combined = sum([tree.predict(X_new) for tree in trees]) \n",
    "    plot_predictions(combined)"
   ]
  },
  {
   "cell_type": "code",
   "execution_count": 24,
   "metadata": {},
   "outputs": [
    {
     "data": {
      "image/png": "[encoded data removed]",
      "text/plain": [
       "<Figure size 432x288 with 1 Axes>"
      ]
     },
     "metadata": {
      "needs_background": "light"
     },
     "output_type": "display_data"
    }
   ],
   "source": [
    "tree_boosting(k=1)"
   ]
  },
  {
   "cell_type": "code",
   "execution_count": 25,
   "metadata": {},
   "outputs": [
    {
     "data": {
      "image/png": "[encoded data removed]",
      "text/plain": [
       "<Figure size 432x288 with 1 Axes>"
      ]
     },
     "metadata": {
      "needs_background": "light"
     },
     "output_type": "display_data"
    }
   ],
   "source": [
    "tree_boosting(k=2)"
   ]
  },
  {
   "cell_type": "code",
   "execution_count": 26,
   "metadata": {},
   "outputs": [
    {
     "data": {
      "image/png": "[encoded data removed]",
      "text/plain": [
       "<Figure size 432x288 with 1 Axes>"
      ]
     },
     "metadata": {
      "needs_background": "light"
     },
     "output_type": "display_data"
    }
   ],
   "source": [
    "tree_boosting(k=30)"
   ]
  },
  {
   "cell_type": "markdown",
   "metadata": {},
   "source": [
    "# XGBoost"
   ]
  },
  {
   "cell_type": "markdown",
   "metadata": {},
   "source": [
    "Scikit-learns's `GradientBoostingClassifier` and `GradientBoostingRegressor` can be used. However, a more widely used implementation of gradient boosting is **XGBoost**: https://xgboost.readthedocs.io/en/latest (other common gradient boosters include LightGBM and CatBoost. Feel free to read about those here https://lightgbm.readthedocs.io/en/latest/index.html and here https://github.com/catboost/catboost) "
   ]
  },
  {
   "cell_type": "markdown",
   "metadata": {},
   "source": [
    "We'll focus on XGBoost. \n",
    "\n",
    "We won't go into all the details about how XGBoost works. After we've gotten a basic idea of what XGBoost is, and played around with XGBoost on a few examples, we'll talk about a few more details. \n",
    "\n",
    "You should also consider reading  more about the method here:\n",
    "- http://blog.kaggle.com/2017/01/23/a-kaggle-master-explains-gradient-boosting\n",
    "- https://xgboost.readthedocs.io/en/latest/tutorials/model.html\n",
    "- https://www.analyticsvidhya.com/blog/2018/09/an-end-to-end-guide-to-understand-the-math-behind-xgboost\n",
    "- https://campus.datacamp.com/courses/extreme-gradient-boosting-with-xgboost/classification-with-xgboost"
   ]
  },
  {
   "cell_type": "markdown",
   "metadata": {},
   "source": [
    "# A simple example"
   ]
  },
  {
   "cell_type": "markdown",
   "metadata": {},
   "source": [
    "Just to show you how XGBoost is used, let's look at the simple Iris data set again:"
   ]
  },
  {
   "cell_type": "code",
   "execution_count": 27,
   "metadata": {},
   "outputs": [],
   "source": [
    "from sklearn.datasets import load_breast_cancer"
   ]
  },
  {
   "cell_type": "code",
   "execution_count": 28,
   "metadata": {},
   "outputs": [],
   "source": [
    "cancer = load_breast_cancer()"
   ]
  },
  {
   "cell_type": "code",
   "execution_count": 29,
   "metadata": {},
   "outputs": [],
   "source": [
    "X = cancer['data']\n",
    "y = cancer['target']"
   ]
  },
  {
   "cell_type": "code",
   "execution_count": 30,
   "metadata": {},
   "outputs": [],
   "source": [
    "from sklearn.model_selection import train_test_split"
   ]
  },
  {
   "cell_type": "code",
   "execution_count": 31,
   "metadata": {},
   "outputs": [],
   "source": [
    "X_train, X_test, y_train, y_test = train_test_split(X, y, stratify=y, random_state=42)"
   ]
  },
  {
   "cell_type": "code",
   "execution_count": 32,
   "metadata": {},
   "outputs": [],
   "source": [
    "from xgboost import XGBClassifier"
   ]
  },
  {
   "cell_type": "code",
   "execution_count": 33,
   "metadata": {},
   "outputs": [],
   "source": [
    "xgb_clf = XGBClassifier()"
   ]
  },
  {
   "cell_type": "code",
   "execution_count": 34,
   "metadata": {},
   "outputs": [
    {
     "data": {
      "text/plain": [
       "XGBClassifier(base_score=0.5, booster='gbtree', colsample_bylevel=1,\n",
       "       colsample_bytree=1, gamma=0, learning_rate=0.1, max_delta_step=0,\n",
       "       max_depth=3, min_child_weight=1, missing=None, n_estimators=100,\n",
       "       n_jobs=1, nthread=None, objective='binary:logistic', random_state=0,\n",
       "       reg_alpha=0, reg_lambda=1, scale_pos_weight=1, seed=None,\n",
       "       silent=True, subsample=1)"
      ]
     },
     "execution_count": 34,
     "metadata": {},
     "output_type": "execute_result"
    }
   ],
   "source": [
    "xgb_clf.fit(X_train, y_train)"
   ]
  },
  {
   "cell_type": "code",
   "execution_count": 35,
   "metadata": {},
   "outputs": [
    {
     "data": {
      "text/plain": [
       "0.951048951048951"
      ]
     },
     "execution_count": 35,
     "metadata": {},
     "output_type": "execute_result"
    }
   ],
   "source": [
    "xgb_clf.score(X_test, y_test)"
   ]
  },
  {
   "cell_type": "markdown",
   "metadata": {},
   "source": [
    "As you see, the Python API for XGBoost is scikit-learn-like."
   ]
  },
  {
   "cell_type": "markdown",
   "metadata": {},
   "source": [
    "# Predicting from hospital data"
   ]
  },
  {
   "cell_type": "markdown",
   "metadata": {},
   "source": [
    "Let's try to do something more valuable using XGBoost: predicting how long a patient will stay at a hospital. "
   ]
  },
  {
   "cell_type": "markdown",
   "metadata": {},
   "source": [
    "We'll use a dataset containing 100.000 instances collected at five different hospitals in the US, conveniently organized by Microsoft. "
   ]
  },
  {
   "cell_type": "markdown",
   "metadata": {},
   "source": [
    "If we can accurately predict the length of stay (LOS) when patients are admitted to the hospital, we can improve the operational efficiency at the hospital, and also enhance the quality of care. "
   ]
  },
  {
   "cell_type": "markdown",
   "metadata": {},
   "source": [
    "## Get the data"
   ]
  },
  {
   "cell_type": "code",
   "execution_count": 36,
   "metadata": {},
   "outputs": [],
   "source": [
    "NB_DIR = %pwd\n",
    "NB_DIR = Path(NB_DIR)\n",
    "DATA_DIR = NB_DIR/'data'"
   ]
  },
  {
   "cell_type": "code",
   "execution_count": 38,
   "metadata": {},
   "outputs": [],
   "source": [
    "DATA_DIR.mkdir(exist_ok=True)"
   ]
  },
  {
   "cell_type": "markdown",
   "metadata": {},
   "source": [
    "The data can be downloaded from the following URLs:"
   ]
  },
  {
   "cell_type": "code",
   "execution_count": 39,
   "metadata": {},
   "outputs": [],
   "source": [
    "URLs = [\n",
    "    'https://github.com/Microsoft/r-server-hospital-length-of-stay/raw/master/Data/LengthOfStay.csv',\n",
    "    'https://github.com/Microsoft/r-server-hospital-length-of-stay/raw/master/Data/LengthOfStay_Prod.csv',\n",
    "    'https://github.com/Microsoft/r-server-hospital-length-of-stay/raw/master/Data/MetaData_Facilities.csv',\n",
    "    'https://github.com/Microsoft/r-server-hospital-length-of-stay/raw/master/Resources/Data_Dictionary.xlsx',\n",
    "]"
   ]
  },
  {
   "cell_type": "code",
   "execution_count": 40,
   "metadata": {},
   "outputs": [],
   "source": [
    "import urllib.request"
   ]
  },
  {
   "cell_type": "code",
   "execution_count": 41,
   "metadata": {},
   "outputs": [],
   "source": [
    "for url in URLs:\n",
    "    fn = url.split(\"/\")[-1] # Get the filename\n",
    "    urllib.request.urlretrieve(url, filename=DATA_DIR/fn)"
   ]
  },
  {
   "cell_type": "markdown",
   "metadata": {},
   "source": [
    "## Take a quick look"
   ]
  },
  {
   "cell_type": "markdown",
   "metadata": {},
   "source": [
    "What's in each of the files? What are the types of data in each column? Are there any missing values?"
   ]
  },
  {
   "cell_type": "code",
   "execution_count": 42,
   "metadata": {},
   "outputs": [],
   "source": [
    "LOS = pd.read_csv(DATA_DIR/'LengthOfStay.csv')\n",
    "LOS_PROD = pd.read_csv(DATA_DIR/'LengthOfStay_Prod.csv')\n",
    "DATA_DICT = pd.read_excel(DATA_DIR/'Data_Dictionary.xlsx')\n",
    "METADATA = pd.read_csv(DATA_DIR/'MetaData_Facilities.csv')"
   ]
  },
  {
   "cell_type": "markdown",
   "metadata": {},
   "source": [
    "LengthOfStay.csv is probably the main data file. Let's have a look:"
   ]
  },
  {
   "cell_type": "code",
   "execution_count": 43,
   "metadata": {},
   "outputs": [
    {
     "data": {
      "text/html": [
       "<div>\n",
       "<style scoped>\n",
       "    .dataframe tbody tr th:only-of-type {\n",
       "        vertical-align: middle;\n",
       "    }\n",
       "\n",
       "    .dataframe tbody tr th {\n",
       "        vertical-align: top;\n",
       "    }\n",
       "\n",
       "    .dataframe thead th {\n",
       "        text-align: right;\n",
       "    }\n",
       "</style>\n",
       "<table border=\"1\" class=\"dataframe\">\n",
       "  <thead>\n",
       "    <tr style=\"text-align: right;\">\n",
       "      <th></th>\n",
       "      <th>eid</th>\n",
       "      <th>vdate</th>\n",
       "      <th>rcount</th>\n",
       "      <th>gender</th>\n",
       "      <th>dialysisrenalendstage</th>\n",
       "      <th>asthma</th>\n",
       "      <th>irondef</th>\n",
       "      <th>pneum</th>\n",
       "      <th>substancedependence</th>\n",
       "      <th>psychologicaldisordermajor</th>\n",
       "      <th>...</th>\n",
       "      <th>glucose</th>\n",
       "      <th>bloodureanitro</th>\n",
       "      <th>creatinine</th>\n",
       "      <th>bmi</th>\n",
       "      <th>pulse</th>\n",
       "      <th>respiration</th>\n",
       "      <th>secondarydiagnosisnonicd9</th>\n",
       "      <th>discharged</th>\n",
       "      <th>facid</th>\n",
       "      <th>lengthofstay</th>\n",
       "    </tr>\n",
       "  </thead>\n",
       "  <tbody>\n",
       "    <tr>\n",
       "      <th>0</th>\n",
       "      <td>1</td>\n",
       "      <td>8/29/2012</td>\n",
       "      <td>0</td>\n",
       "      <td>F</td>\n",
       "      <td>0</td>\n",
       "      <td>0</td>\n",
       "      <td>0</td>\n",
       "      <td>0</td>\n",
       "      <td>0</td>\n",
       "      <td>0</td>\n",
       "      <td>...</td>\n",
       "      <td>192.476918</td>\n",
       "      <td>12.0</td>\n",
       "      <td>1.390722</td>\n",
       "      <td>30.432418</td>\n",
       "      <td>96</td>\n",
       "      <td>6.5</td>\n",
       "      <td>4</td>\n",
       "      <td>9/1/2012</td>\n",
       "      <td>B</td>\n",
       "      <td>3</td>\n",
       "    </tr>\n",
       "    <tr>\n",
       "      <th>1</th>\n",
       "      <td>2</td>\n",
       "      <td>5/26/2012</td>\n",
       "      <td>5+</td>\n",
       "      <td>F</td>\n",
       "      <td>0</td>\n",
       "      <td>0</td>\n",
       "      <td>0</td>\n",
       "      <td>0</td>\n",
       "      <td>0</td>\n",
       "      <td>0</td>\n",
       "      <td>...</td>\n",
       "      <td>94.078507</td>\n",
       "      <td>8.0</td>\n",
       "      <td>0.943164</td>\n",
       "      <td>28.460516</td>\n",
       "      <td>61</td>\n",
       "      <td>6.5</td>\n",
       "      <td>1</td>\n",
       "      <td>6/2/2012</td>\n",
       "      <td>A</td>\n",
       "      <td>7</td>\n",
       "    </tr>\n",
       "    <tr>\n",
       "      <th>2</th>\n",
       "      <td>3</td>\n",
       "      <td>9/22/2012</td>\n",
       "      <td>1</td>\n",
       "      <td>F</td>\n",
       "      <td>0</td>\n",
       "      <td>0</td>\n",
       "      <td>0</td>\n",
       "      <td>0</td>\n",
       "      <td>0</td>\n",
       "      <td>0</td>\n",
       "      <td>...</td>\n",
       "      <td>130.530524</td>\n",
       "      <td>12.0</td>\n",
       "      <td>1.065750</td>\n",
       "      <td>28.843812</td>\n",
       "      <td>64</td>\n",
       "      <td>6.5</td>\n",
       "      <td>2</td>\n",
       "      <td>9/25/2012</td>\n",
       "      <td>B</td>\n",
       "      <td>3</td>\n",
       "    </tr>\n",
       "    <tr>\n",
       "      <th>3</th>\n",
       "      <td>4</td>\n",
       "      <td>8/9/2012</td>\n",
       "      <td>0</td>\n",
       "      <td>F</td>\n",
       "      <td>0</td>\n",
       "      <td>0</td>\n",
       "      <td>0</td>\n",
       "      <td>0</td>\n",
       "      <td>0</td>\n",
       "      <td>0</td>\n",
       "      <td>...</td>\n",
       "      <td>163.377028</td>\n",
       "      <td>12.0</td>\n",
       "      <td>0.906862</td>\n",
       "      <td>27.959007</td>\n",
       "      <td>76</td>\n",
       "      <td>6.5</td>\n",
       "      <td>1</td>\n",
       "      <td>8/10/2012</td>\n",
       "      <td>A</td>\n",
       "      <td>1</td>\n",
       "    </tr>\n",
       "    <tr>\n",
       "      <th>4</th>\n",
       "      <td>5</td>\n",
       "      <td>12/20/2012</td>\n",
       "      <td>0</td>\n",
       "      <td>F</td>\n",
       "      <td>0</td>\n",
       "      <td>0</td>\n",
       "      <td>0</td>\n",
       "      <td>1</td>\n",
       "      <td>0</td>\n",
       "      <td>1</td>\n",
       "      <td>...</td>\n",
       "      <td>94.886654</td>\n",
       "      <td>11.5</td>\n",
       "      <td>1.242854</td>\n",
       "      <td>30.258927</td>\n",
       "      <td>67</td>\n",
       "      <td>5.6</td>\n",
       "      <td>2</td>\n",
       "      <td>12/24/2012</td>\n",
       "      <td>E</td>\n",
       "      <td>4</td>\n",
       "    </tr>\n",
       "  </tbody>\n",
       "</table>\n",
       "<p>5 rows × 28 columns</p>\n",
       "</div>"
      ],
      "text/plain": [
       "   eid       vdate rcount gender  dialysisrenalendstage  asthma  irondef  \\\n",
       "0    1   8/29/2012      0      F                      0       0        0   \n",
       "1    2   5/26/2012     5+      F                      0       0        0   \n",
       "2    3   9/22/2012      1      F                      0       0        0   \n",
       "3    4    8/9/2012      0      F                      0       0        0   \n",
       "4    5  12/20/2012      0      F                      0       0        0   \n",
       "\n",
       "   pneum  substancedependence  psychologicaldisordermajor      ...       \\\n",
       "0      0                    0                           0      ...        \n",
       "1      0                    0                           0      ...        \n",
       "2      0                    0                           0      ...        \n",
       "3      0                    0                           0      ...        \n",
       "4      1                    0                           1      ...        \n",
       "\n",
       "      glucose  bloodureanitro  creatinine        bmi  pulse  respiration  \\\n",
       "0  192.476918            12.0    1.390722  30.432418     96          6.5   \n",
       "1   94.078507             8.0    0.943164  28.460516     61          6.5   \n",
       "2  130.530524            12.0    1.065750  28.843812     64          6.5   \n",
       "3  163.377028            12.0    0.906862  27.959007     76          6.5   \n",
       "4   94.886654            11.5    1.242854  30.258927     67          5.6   \n",
       "\n",
       "   secondarydiagnosisnonicd9  discharged  facid  lengthofstay  \n",
       "0                          4    9/1/2012      B             3  \n",
       "1                          1    6/2/2012      A             7  \n",
       "2                          2   9/25/2012      B             3  \n",
       "3                          1   8/10/2012      A             1  \n",
       "4                          2  12/24/2012      E             4  \n",
       "\n",
       "[5 rows x 28 columns]"
      ]
     },
     "execution_count": 43,
     "metadata": {},
     "output_type": "execute_result"
    }
   ],
   "source": [
    "LOS.head()"
   ]
  },
  {
   "cell_type": "markdown",
   "metadata": {},
   "source": [
    "To get all the 28 columns to be displayed:"
   ]
  },
  {
   "cell_type": "code",
   "execution_count": 44,
   "metadata": {},
   "outputs": [],
   "source": [
    "pd.set_option('display.max_columns', 50)"
   ]
  },
  {
   "cell_type": "code",
   "execution_count": 45,
   "metadata": {},
   "outputs": [
    {
     "data": {
      "text/html": [
       "<div>\n",
       "<style scoped>\n",
       "    .dataframe tbody tr th:only-of-type {\n",
       "        vertical-align: middle;\n",
       "    }\n",
       "\n",
       "    .dataframe tbody tr th {\n",
       "        vertical-align: top;\n",
       "    }\n",
       "\n",
       "    .dataframe thead th {\n",
       "        text-align: right;\n",
       "    }\n",
       "</style>\n",
       "<table border=\"1\" class=\"dataframe\">\n",
       "  <thead>\n",
       "    <tr style=\"text-align: right;\">\n",
       "      <th></th>\n",
       "      <th>eid</th>\n",
       "      <th>vdate</th>\n",
       "      <th>rcount</th>\n",
       "      <th>gender</th>\n",
       "      <th>dialysisrenalendstage</th>\n",
       "      <th>asthma</th>\n",
       "      <th>irondef</th>\n",
       "      <th>pneum</th>\n",
       "      <th>substancedependence</th>\n",
       "      <th>psychologicaldisordermajor</th>\n",
       "      <th>depress</th>\n",
       "      <th>psychother</th>\n",
       "      <th>fibrosisandother</th>\n",
       "      <th>malnutrition</th>\n",
       "      <th>hemo</th>\n",
       "      <th>hematocrit</th>\n",
       "      <th>neutrophils</th>\n",
       "      <th>sodium</th>\n",
       "      <th>glucose</th>\n",
       "      <th>bloodureanitro</th>\n",
       "      <th>creatinine</th>\n",
       "      <th>bmi</th>\n",
       "      <th>pulse</th>\n",
       "      <th>respiration</th>\n",
       "      <th>secondarydiagnosisnonicd9</th>\n",
       "      <th>discharged</th>\n",
       "      <th>facid</th>\n",
       "      <th>lengthofstay</th>\n",
       "    </tr>\n",
       "  </thead>\n",
       "  <tbody>\n",
       "    <tr>\n",
       "      <th>0</th>\n",
       "      <td>1</td>\n",
       "      <td>8/29/2012</td>\n",
       "      <td>0</td>\n",
       "      <td>F</td>\n",
       "      <td>0</td>\n",
       "      <td>0</td>\n",
       "      <td>0</td>\n",
       "      <td>0</td>\n",
       "      <td>0</td>\n",
       "      <td>0</td>\n",
       "      <td>0</td>\n",
       "      <td>0</td>\n",
       "      <td>0</td>\n",
       "      <td>0</td>\n",
       "      <td>0</td>\n",
       "      <td>11.50</td>\n",
       "      <td>14.20</td>\n",
       "      <td>140.361132</td>\n",
       "      <td>192.476918</td>\n",
       "      <td>12.0</td>\n",
       "      <td>1.390722</td>\n",
       "      <td>30.432418</td>\n",
       "      <td>96</td>\n",
       "      <td>6.5</td>\n",
       "      <td>4</td>\n",
       "      <td>9/1/2012</td>\n",
       "      <td>B</td>\n",
       "      <td>3</td>\n",
       "    </tr>\n",
       "    <tr>\n",
       "      <th>1</th>\n",
       "      <td>2</td>\n",
       "      <td>5/26/2012</td>\n",
       "      <td>5+</td>\n",
       "      <td>F</td>\n",
       "      <td>0</td>\n",
       "      <td>0</td>\n",
       "      <td>0</td>\n",
       "      <td>0</td>\n",
       "      <td>0</td>\n",
       "      <td>0</td>\n",
       "      <td>0</td>\n",
       "      <td>0</td>\n",
       "      <td>0</td>\n",
       "      <td>0</td>\n",
       "      <td>0</td>\n",
       "      <td>9.00</td>\n",
       "      <td>4.10</td>\n",
       "      <td>136.731692</td>\n",
       "      <td>94.078507</td>\n",
       "      <td>8.0</td>\n",
       "      <td>0.943164</td>\n",
       "      <td>28.460516</td>\n",
       "      <td>61</td>\n",
       "      <td>6.5</td>\n",
       "      <td>1</td>\n",
       "      <td>6/2/2012</td>\n",
       "      <td>A</td>\n",
       "      <td>7</td>\n",
       "    </tr>\n",
       "    <tr>\n",
       "      <th>2</th>\n",
       "      <td>3</td>\n",
       "      <td>9/22/2012</td>\n",
       "      <td>1</td>\n",
       "      <td>F</td>\n",
       "      <td>0</td>\n",
       "      <td>0</td>\n",
       "      <td>0</td>\n",
       "      <td>0</td>\n",
       "      <td>0</td>\n",
       "      <td>0</td>\n",
       "      <td>0</td>\n",
       "      <td>0</td>\n",
       "      <td>0</td>\n",
       "      <td>0</td>\n",
       "      <td>0</td>\n",
       "      <td>8.40</td>\n",
       "      <td>8.90</td>\n",
       "      <td>133.058514</td>\n",
       "      <td>130.530524</td>\n",
       "      <td>12.0</td>\n",
       "      <td>1.065750</td>\n",
       "      <td>28.843812</td>\n",
       "      <td>64</td>\n",
       "      <td>6.5</td>\n",
       "      <td>2</td>\n",
       "      <td>9/25/2012</td>\n",
       "      <td>B</td>\n",
       "      <td>3</td>\n",
       "    </tr>\n",
       "    <tr>\n",
       "      <th>3</th>\n",
       "      <td>4</td>\n",
       "      <td>8/9/2012</td>\n",
       "      <td>0</td>\n",
       "      <td>F</td>\n",
       "      <td>0</td>\n",
       "      <td>0</td>\n",
       "      <td>0</td>\n",
       "      <td>0</td>\n",
       "      <td>0</td>\n",
       "      <td>0</td>\n",
       "      <td>0</td>\n",
       "      <td>0</td>\n",
       "      <td>0</td>\n",
       "      <td>0</td>\n",
       "      <td>0</td>\n",
       "      <td>11.90</td>\n",
       "      <td>9.40</td>\n",
       "      <td>138.994023</td>\n",
       "      <td>163.377028</td>\n",
       "      <td>12.0</td>\n",
       "      <td>0.906862</td>\n",
       "      <td>27.959007</td>\n",
       "      <td>76</td>\n",
       "      <td>6.5</td>\n",
       "      <td>1</td>\n",
       "      <td>8/10/2012</td>\n",
       "      <td>A</td>\n",
       "      <td>1</td>\n",
       "    </tr>\n",
       "    <tr>\n",
       "      <th>4</th>\n",
       "      <td>5</td>\n",
       "      <td>12/20/2012</td>\n",
       "      <td>0</td>\n",
       "      <td>F</td>\n",
       "      <td>0</td>\n",
       "      <td>0</td>\n",
       "      <td>0</td>\n",
       "      <td>1</td>\n",
       "      <td>0</td>\n",
       "      <td>1</td>\n",
       "      <td>0</td>\n",
       "      <td>0</td>\n",
       "      <td>0</td>\n",
       "      <td>0</td>\n",
       "      <td>0</td>\n",
       "      <td>9.10</td>\n",
       "      <td>9.05</td>\n",
       "      <td>138.634836</td>\n",
       "      <td>94.886654</td>\n",
       "      <td>11.5</td>\n",
       "      <td>1.242854</td>\n",
       "      <td>30.258927</td>\n",
       "      <td>67</td>\n",
       "      <td>5.6</td>\n",
       "      <td>2</td>\n",
       "      <td>12/24/2012</td>\n",
       "      <td>E</td>\n",
       "      <td>4</td>\n",
       "    </tr>\n",
       "    <tr>\n",
       "      <th>5</th>\n",
       "      <td>6</td>\n",
       "      <td>11/27/2012</td>\n",
       "      <td>3</td>\n",
       "      <td>M</td>\n",
       "      <td>0</td>\n",
       "      <td>0</td>\n",
       "      <td>0</td>\n",
       "      <td>0</td>\n",
       "      <td>0</td>\n",
       "      <td>0</td>\n",
       "      <td>0</td>\n",
       "      <td>0</td>\n",
       "      <td>0</td>\n",
       "      <td>0</td>\n",
       "      <td>0</td>\n",
       "      <td>14.80</td>\n",
       "      <td>17.80</td>\n",
       "      <td>136.593064</td>\n",
       "      <td>120.265259</td>\n",
       "      <td>11.0</td>\n",
       "      <td>0.884663</td>\n",
       "      <td>27.875940</td>\n",
       "      <td>83</td>\n",
       "      <td>6.1</td>\n",
       "      <td>1</td>\n",
       "      <td>12/3/2012</td>\n",
       "      <td>B</td>\n",
       "      <td>6</td>\n",
       "    </tr>\n",
       "    <tr>\n",
       "      <th>6</th>\n",
       "      <td>7</td>\n",
       "      <td>9/27/2012</td>\n",
       "      <td>4</td>\n",
       "      <td>F</td>\n",
       "      <td>0</td>\n",
       "      <td>0</td>\n",
       "      <td>0</td>\n",
       "      <td>0</td>\n",
       "      <td>0</td>\n",
       "      <td>0</td>\n",
       "      <td>0</td>\n",
       "      <td>0</td>\n",
       "      <td>0</td>\n",
       "      <td>0</td>\n",
       "      <td>0</td>\n",
       "      <td>9.40</td>\n",
       "      <td>8.50</td>\n",
       "      <td>137.151328</td>\n",
       "      <td>124.335692</td>\n",
       "      <td>6.0</td>\n",
       "      <td>0.923083</td>\n",
       "      <td>29.928817</td>\n",
       "      <td>68</td>\n",
       "      <td>6.5</td>\n",
       "      <td>4</td>\n",
       "      <td>10/3/2012</td>\n",
       "      <td>A</td>\n",
       "      <td>6</td>\n",
       "    </tr>\n",
       "    <tr>\n",
       "      <th>7</th>\n",
       "      <td>8</td>\n",
       "      <td>6/4/2012</td>\n",
       "      <td>0</td>\n",
       "      <td>F</td>\n",
       "      <td>0</td>\n",
       "      <td>0</td>\n",
       "      <td>0</td>\n",
       "      <td>0</td>\n",
       "      <td>0</td>\n",
       "      <td>1</td>\n",
       "      <td>0</td>\n",
       "      <td>0</td>\n",
       "      <td>0</td>\n",
       "      <td>0</td>\n",
       "      <td>0</td>\n",
       "      <td>11.25</td>\n",
       "      <td>7.15</td>\n",
       "      <td>136.069688</td>\n",
       "      <td>152.265862</td>\n",
       "      <td>11.0</td>\n",
       "      <td>0.768106</td>\n",
       "      <td>32.999171</td>\n",
       "      <td>63</td>\n",
       "      <td>6.0</td>\n",
       "      <td>3</td>\n",
       "      <td>6/7/2012</td>\n",
       "      <td>E</td>\n",
       "      <td>3</td>\n",
       "    </tr>\n",
       "    <tr>\n",
       "      <th>8</th>\n",
       "      <td>9</td>\n",
       "      <td>7/5/2012</td>\n",
       "      <td>0</td>\n",
       "      <td>F</td>\n",
       "      <td>0</td>\n",
       "      <td>0</td>\n",
       "      <td>0</td>\n",
       "      <td>0</td>\n",
       "      <td>1</td>\n",
       "      <td>0</td>\n",
       "      <td>0</td>\n",
       "      <td>0</td>\n",
       "      <td>0</td>\n",
       "      <td>0</td>\n",
       "      <td>0</td>\n",
       "      <td>11.90</td>\n",
       "      <td>9.40</td>\n",
       "      <td>135.980274</td>\n",
       "      <td>100.283199</td>\n",
       "      <td>12.0</td>\n",
       "      <td>1.178786</td>\n",
       "      <td>28.802682</td>\n",
       "      <td>69</td>\n",
       "      <td>6.5</td>\n",
       "      <td>1</td>\n",
       "      <td>7/8/2012</td>\n",
       "      <td>E</td>\n",
       "      <td>3</td>\n",
       "    </tr>\n",
       "    <tr>\n",
       "      <th>9</th>\n",
       "      <td>10</td>\n",
       "      <td>9/1/2012</td>\n",
       "      <td>0</td>\n",
       "      <td>F</td>\n",
       "      <td>0</td>\n",
       "      <td>0</td>\n",
       "      <td>0</td>\n",
       "      <td>0</td>\n",
       "      <td>0</td>\n",
       "      <td>0</td>\n",
       "      <td>0</td>\n",
       "      <td>0</td>\n",
       "      <td>0</td>\n",
       "      <td>0</td>\n",
       "      <td>0</td>\n",
       "      <td>10.70</td>\n",
       "      <td>8.50</td>\n",
       "      <td>136.893431</td>\n",
       "      <td>167.066115</td>\n",
       "      <td>10.0</td>\n",
       "      <td>1.585072</td>\n",
       "      <td>32.503727</td>\n",
       "      <td>65</td>\n",
       "      <td>6.5</td>\n",
       "      <td>0</td>\n",
       "      <td>9/3/2012</td>\n",
       "      <td>E</td>\n",
       "      <td>2</td>\n",
       "    </tr>\n",
       "    <tr>\n",
       "      <th>10</th>\n",
       "      <td>11</td>\n",
       "      <td>5/11/2012</td>\n",
       "      <td>0</td>\n",
       "      <td>F</td>\n",
       "      <td>0</td>\n",
       "      <td>0</td>\n",
       "      <td>0</td>\n",
       "      <td>0</td>\n",
       "      <td>0</td>\n",
       "      <td>0</td>\n",
       "      <td>0</td>\n",
       "      <td>0</td>\n",
       "      <td>0</td>\n",
       "      <td>0</td>\n",
       "      <td>0</td>\n",
       "      <td>12.20</td>\n",
       "      <td>9.10</td>\n",
       "      <td>140.060831</td>\n",
       "      <td>121.899082</td>\n",
       "      <td>7.0</td>\n",
       "      <td>1.254258</td>\n",
       "      <td>30.325155</td>\n",
       "      <td>73</td>\n",
       "      <td>6.5</td>\n",
       "      <td>1</td>\n",
       "      <td>5/12/2012</td>\n",
       "      <td>B</td>\n",
       "      <td>1</td>\n",
       "    </tr>\n",
       "    <tr>\n",
       "      <th>11</th>\n",
       "      <td>12</td>\n",
       "      <td>4/21/2012</td>\n",
       "      <td>4</td>\n",
       "      <td>M</td>\n",
       "      <td>0</td>\n",
       "      <td>0</td>\n",
       "      <td>0</td>\n",
       "      <td>0</td>\n",
       "      <td>0</td>\n",
       "      <td>0</td>\n",
       "      <td>0</td>\n",
       "      <td>0</td>\n",
       "      <td>0</td>\n",
       "      <td>0</td>\n",
       "      <td>0</td>\n",
       "      <td>12.60</td>\n",
       "      <td>11.00</td>\n",
       "      <td>137.815915</td>\n",
       "      <td>147.184788</td>\n",
       "      <td>16.0</td>\n",
       "      <td>1.264943</td>\n",
       "      <td>27.301720</td>\n",
       "      <td>63</td>\n",
       "      <td>5.7</td>\n",
       "      <td>1</td>\n",
       "      <td>4/28/2012</td>\n",
       "      <td>A</td>\n",
       "      <td>7</td>\n",
       "    </tr>\n",
       "    <tr>\n",
       "      <th>12</th>\n",
       "      <td>13</td>\n",
       "      <td>7/8/2012</td>\n",
       "      <td>0</td>\n",
       "      <td>F</td>\n",
       "      <td>0</td>\n",
       "      <td>1</td>\n",
       "      <td>0</td>\n",
       "      <td>0</td>\n",
       "      <td>0</td>\n",
       "      <td>0</td>\n",
       "      <td>0</td>\n",
       "      <td>0</td>\n",
       "      <td>0</td>\n",
       "      <td>0</td>\n",
       "      <td>0</td>\n",
       "      <td>11.40</td>\n",
       "      <td>17.70</td>\n",
       "      <td>137.081196</td>\n",
       "      <td>127.048963</td>\n",
       "      <td>17.0</td>\n",
       "      <td>0.981130</td>\n",
       "      <td>31.357435</td>\n",
       "      <td>82</td>\n",
       "      <td>5.9</td>\n",
       "      <td>1</td>\n",
       "      <td>7/11/2012</td>\n",
       "      <td>D</td>\n",
       "      <td>3</td>\n",
       "    </tr>\n",
       "    <tr>\n",
       "      <th>13</th>\n",
       "      <td>14</td>\n",
       "      <td>12/5/2012</td>\n",
       "      <td>0</td>\n",
       "      <td>F</td>\n",
       "      <td>0</td>\n",
       "      <td>0</td>\n",
       "      <td>0</td>\n",
       "      <td>0</td>\n",
       "      <td>1</td>\n",
       "      <td>0</td>\n",
       "      <td>0</td>\n",
       "      <td>0</td>\n",
       "      <td>0</td>\n",
       "      <td>0</td>\n",
       "      <td>1</td>\n",
       "      <td>8.10</td>\n",
       "      <td>16.90</td>\n",
       "      <td>134.344432</td>\n",
       "      <td>167.720828</td>\n",
       "      <td>12.0</td>\n",
       "      <td>1.022660</td>\n",
       "      <td>29.692904</td>\n",
       "      <td>73</td>\n",
       "      <td>6.5</td>\n",
       "      <td>1</td>\n",
       "      <td>12/10/2012</td>\n",
       "      <td>E</td>\n",
       "      <td>5</td>\n",
       "    </tr>\n",
       "    <tr>\n",
       "      <th>14</th>\n",
       "      <td>15</td>\n",
       "      <td>6/15/2012</td>\n",
       "      <td>1</td>\n",
       "      <td>F</td>\n",
       "      <td>0</td>\n",
       "      <td>0</td>\n",
       "      <td>0</td>\n",
       "      <td>0</td>\n",
       "      <td>0</td>\n",
       "      <td>0</td>\n",
       "      <td>0</td>\n",
       "      <td>0</td>\n",
       "      <td>0</td>\n",
       "      <td>0</td>\n",
       "      <td>0</td>\n",
       "      <td>11.90</td>\n",
       "      <td>9.40</td>\n",
       "      <td>136.082937</td>\n",
       "      <td>95.343064</td>\n",
       "      <td>12.0</td>\n",
       "      <td>1.050820</td>\n",
       "      <td>28.577796</td>\n",
       "      <td>69</td>\n",
       "      <td>6.5</td>\n",
       "      <td>1</td>\n",
       "      <td>6/17/2012</td>\n",
       "      <td>A</td>\n",
       "      <td>2</td>\n",
       "    </tr>\n",
       "  </tbody>\n",
       "</table>\n",
       "</div>"
      ],
      "text/plain": [
       "    eid       vdate rcount gender  dialysisrenalendstage  asthma  irondef  \\\n",
       "0     1   8/29/2012      0      F                      0       0        0   \n",
       "1     2   5/26/2012     5+      F                      0       0        0   \n",
       "2     3   9/22/2012      1      F                      0       0        0   \n",
       "3     4    8/9/2012      0      F                      0       0        0   \n",
       "4     5  12/20/2012      0      F                      0       0        0   \n",
       "5     6  11/27/2012      3      M                      0       0        0   \n",
       "6     7   9/27/2012      4      F                      0       0        0   \n",
       "7     8    6/4/2012      0      F                      0       0        0   \n",
       "8     9    7/5/2012      0      F                      0       0        0   \n",
       "9    10    9/1/2012      0      F                      0       0        0   \n",
       "10   11   5/11/2012      0      F                      0       0        0   \n",
       "11   12   4/21/2012      4      M                      0       0        0   \n",
       "12   13    7/8/2012      0      F                      0       1        0   \n",
       "13   14   12/5/2012      0      F                      0       0        0   \n",
       "14   15   6/15/2012      1      F                      0       0        0   \n",
       "\n",
       "    pneum  substancedependence  psychologicaldisordermajor  depress  \\\n",
       "0       0                    0                           0        0   \n",
       "1       0                    0                           0        0   \n",
       "2       0                    0                           0        0   \n",
       "3       0                    0                           0        0   \n",
       "4       1                    0                           1        0   \n",
       "5       0                    0                           0        0   \n",
       "6       0                    0                           0        0   \n",
       "7       0                    0                           1        0   \n",
       "8       0                    1                           0        0   \n",
       "9       0                    0                           0        0   \n",
       "10      0                    0                           0        0   \n",
       "11      0                    0                           0        0   \n",
       "12      0                    0                           0        0   \n",
       "13      0                    1                           0        0   \n",
       "14      0                    0                           0        0   \n",
       "\n",
       "    psychother  fibrosisandother  malnutrition  hemo  hematocrit  neutrophils  \\\n",
       "0            0                 0             0     0       11.50        14.20   \n",
       "1            0                 0             0     0        9.00         4.10   \n",
       "2            0                 0             0     0        8.40         8.90   \n",
       "3            0                 0             0     0       11.90         9.40   \n",
       "4            0                 0             0     0        9.10         9.05   \n",
       "5            0                 0             0     0       14.80        17.80   \n",
       "6            0                 0             0     0        9.40         8.50   \n",
       "7            0                 0             0     0       11.25         7.15   \n",
       "8            0                 0             0     0       11.90         9.40   \n",
       "9            0                 0             0     0       10.70         8.50   \n",
       "10           0                 0             0     0       12.20         9.10   \n",
       "11           0                 0             0     0       12.60        11.00   \n",
       "12           0                 0             0     0       11.40        17.70   \n",
       "13           0                 0             0     1        8.10        16.90   \n",
       "14           0                 0             0     0       11.90         9.40   \n",
       "\n",
       "        sodium     glucose  bloodureanitro  creatinine        bmi  pulse  \\\n",
       "0   140.361132  192.476918            12.0    1.390722  30.432418     96   \n",
       "1   136.731692   94.078507             8.0    0.943164  28.460516     61   \n",
       "2   133.058514  130.530524            12.0    1.065750  28.843812     64   \n",
       "3   138.994023  163.377028            12.0    0.906862  27.959007     76   \n",
       "4   138.634836   94.886654            11.5    1.242854  30.258927     67   \n",
       "5   136.593064  120.265259            11.0    0.884663  27.875940     83   \n",
       "6   137.151328  124.335692             6.0    0.923083  29.928817     68   \n",
       "7   136.069688  152.265862            11.0    0.768106  32.999171     63   \n",
       "8   135.980274  100.283199            12.0    1.178786  28.802682     69   \n",
       "9   136.893431  167.066115            10.0    1.585072  32.503727     65   \n",
       "10  140.060831  121.899082             7.0    1.254258  30.325155     73   \n",
       "11  137.815915  147.184788            16.0    1.264943  27.301720     63   \n",
       "12  137.081196  127.048963            17.0    0.981130  31.357435     82   \n",
       "13  134.344432  167.720828            12.0    1.022660  29.692904     73   \n",
       "14  136.082937   95.343064            12.0    1.050820  28.577796     69   \n",
       "\n",
       "    respiration  secondarydiagnosisnonicd9  discharged facid  lengthofstay  \n",
       "0           6.5                          4    9/1/2012     B             3  \n",
       "1           6.5                          1    6/2/2012     A             7  \n",
       "2           6.5                          2   9/25/2012     B             3  \n",
       "3           6.5                          1   8/10/2012     A             1  \n",
       "4           5.6                          2  12/24/2012     E             4  \n",
       "5           6.1                          1   12/3/2012     B             6  \n",
       "6           6.5                          4   10/3/2012     A             6  \n",
       "7           6.0                          3    6/7/2012     E             3  \n",
       "8           6.5                          1    7/8/2012     E             3  \n",
       "9           6.5                          0    9/3/2012     E             2  \n",
       "10          6.5                          1   5/12/2012     B             1  \n",
       "11          5.7                          1   4/28/2012     A             7  \n",
       "12          5.9                          1   7/11/2012     D             3  \n",
       "13          6.5                          1  12/10/2012     E             5  \n",
       "14          6.5                          1   6/17/2012     A             2  "
      ]
     },
     "execution_count": 45,
     "metadata": {},
     "output_type": "execute_result"
    }
   ],
   "source": [
    "LOS.head(15)"
   ]
  },
  {
   "cell_type": "code",
   "execution_count": 46,
   "metadata": {},
   "outputs": [
    {
     "name": "stdout",
     "output_type": "stream",
     "text": [
      "<class 'pandas.core.frame.DataFrame'>\n",
      "RangeIndex: 100000 entries, 0 to 99999\n",
      "Data columns (total 28 columns):\n",
      "eid                           100000 non-null int64\n",
      "vdate                         100000 non-null object\n",
      "rcount                        100000 non-null object\n",
      "gender                        100000 non-null object\n",
      "dialysisrenalendstage         100000 non-null int64\n",
      "asthma                        100000 non-null int64\n",
      "irondef                       100000 non-null int64\n",
      "pneum                         100000 non-null int64\n",
      "substancedependence           100000 non-null int64\n",
      "psychologicaldisordermajor    100000 non-null int64\n",
      "depress                       100000 non-null int64\n",
      "psychother                    100000 non-null int64\n",
      "fibrosisandother              100000 non-null int64\n",
      "malnutrition                  100000 non-null int64\n",
      "hemo                          100000 non-null int64\n",
      "hematocrit                    100000 non-null float64\n",
      "neutrophils                   100000 non-null float64\n",
      "sodium                        100000 non-null float64\n",
      "glucose                       100000 non-null float64\n",
      "bloodureanitro                100000 non-null float64\n",
      "creatinine                    100000 non-null float64\n",
      "bmi                           100000 non-null float64\n",
      "pulse                         100000 non-null int64\n",
      "respiration                   100000 non-null float64\n",
      "secondarydiagnosisnonicd9     100000 non-null int64\n",
      "discharged                    100000 non-null object\n",
      "facid                         100000 non-null object\n",
      "lengthofstay                  100000 non-null int64\n",
      "dtypes: float64(8), int64(15), object(5)\n",
      "memory usage: 21.4+ MB\n"
     ]
    }
   ],
   "source": [
    "LOS.info()"
   ]
  },
  {
   "cell_type": "markdown",
   "metadata": {},
   "source": [
    "**What's in the Data_Dictionary Excel file?**"
   ]
  },
  {
   "cell_type": "code",
   "execution_count": 47,
   "metadata": {},
   "outputs": [],
   "source": [
    "#To display all the data in the DATA_DICT columns\n",
    "pd.set_option('display.max_colwidth', 100)"
   ]
  },
  {
   "cell_type": "code",
   "execution_count": 48,
   "metadata": {},
   "outputs": [
    {
     "data": {
      "text/html": [
       "<div>\n",
       "<style scoped>\n",
       "    .dataframe tbody tr th:only-of-type {\n",
       "        vertical-align: middle;\n",
       "    }\n",
       "\n",
       "    .dataframe tbody tr th {\n",
       "        vertical-align: top;\n",
       "    }\n",
       "\n",
       "    .dataframe thead th {\n",
       "        text-align: right;\n",
       "    }\n",
       "</style>\n",
       "<table border=\"1\" class=\"dataframe\">\n",
       "  <thead>\n",
       "    <tr style=\"text-align: right;\">\n",
       "      <th></th>\n",
       "      <th>Index</th>\n",
       "      <th>Data fields</th>\n",
       "      <th>Type</th>\n",
       "      <th>Descriptions</th>\n",
       "    </tr>\n",
       "  </thead>\n",
       "  <tbody>\n",
       "    <tr>\n",
       "      <th>0</th>\n",
       "      <td>NaN</td>\n",
       "      <td>LengthOfStay</td>\n",
       "      <td>NaN</td>\n",
       "      <td>NaN</td>\n",
       "    </tr>\n",
       "    <tr>\n",
       "      <th>1</th>\n",
       "      <td>1.0</td>\n",
       "      <td>eid</td>\n",
       "      <td>Integer</td>\n",
       "      <td>Unique Id of the hospital admission</td>\n",
       "    </tr>\n",
       "    <tr>\n",
       "      <th>2</th>\n",
       "      <td>2.0</td>\n",
       "      <td>vdate</td>\n",
       "      <td>String</td>\n",
       "      <td>Visit date</td>\n",
       "    </tr>\n",
       "    <tr>\n",
       "      <th>3</th>\n",
       "      <td>3.0</td>\n",
       "      <td>rcount</td>\n",
       "      <td>Integer</td>\n",
       "      <td>Number of readmissions within last 180 days</td>\n",
       "    </tr>\n",
       "    <tr>\n",
       "      <th>4</th>\n",
       "      <td>4.0</td>\n",
       "      <td>gender</td>\n",
       "      <td>String</td>\n",
       "      <td>Gender of the patient\\nM or F</td>\n",
       "    </tr>\n",
       "    <tr>\n",
       "      <th>5</th>\n",
       "      <td>5.0</td>\n",
       "      <td>dialysisrenalendstage</td>\n",
       "      <td>String</td>\n",
       "      <td>Flag for renal disease during encounter</td>\n",
       "    </tr>\n",
       "    <tr>\n",
       "      <th>6</th>\n",
       "      <td>6.0</td>\n",
       "      <td>asthma</td>\n",
       "      <td>String</td>\n",
       "      <td>Flag for asthma during encounter</td>\n",
       "    </tr>\n",
       "    <tr>\n",
       "      <th>7</th>\n",
       "      <td>7.0</td>\n",
       "      <td>irondef</td>\n",
       "      <td>String</td>\n",
       "      <td>Flag for iron deficiency during encounter</td>\n",
       "    </tr>\n",
       "    <tr>\n",
       "      <th>8</th>\n",
       "      <td>8.0</td>\n",
       "      <td>pneum</td>\n",
       "      <td>String</td>\n",
       "      <td>Flag for pneumonia during encounter</td>\n",
       "    </tr>\n",
       "    <tr>\n",
       "      <th>9</th>\n",
       "      <td>9.0</td>\n",
       "      <td>substancedependence</td>\n",
       "      <td>String</td>\n",
       "      <td>Flag for substance dependence during encounter</td>\n",
       "    </tr>\n",
       "    <tr>\n",
       "      <th>10</th>\n",
       "      <td>10.0</td>\n",
       "      <td>psychologicaldisordermajor</td>\n",
       "      <td>String</td>\n",
       "      <td>Flag for major psychological disorder during encounter</td>\n",
       "    </tr>\n",
       "    <tr>\n",
       "      <th>11</th>\n",
       "      <td>11.0</td>\n",
       "      <td>depress</td>\n",
       "      <td>String</td>\n",
       "      <td>Flag for depression during encounter</td>\n",
       "    </tr>\n",
       "    <tr>\n",
       "      <th>12</th>\n",
       "      <td>12.0</td>\n",
       "      <td>psychother</td>\n",
       "      <td>String</td>\n",
       "      <td>Flag for other psychological disorder during encounter</td>\n",
       "    </tr>\n",
       "    <tr>\n",
       "      <th>13</th>\n",
       "      <td>13.0</td>\n",
       "      <td>fibrosisandother</td>\n",
       "      <td>String</td>\n",
       "      <td>Flag for fibrosis during encounter</td>\n",
       "    </tr>\n",
       "    <tr>\n",
       "      <th>14</th>\n",
       "      <td>14.0</td>\n",
       "      <td>malnutrition</td>\n",
       "      <td>String</td>\n",
       "      <td>Flag for malnutrituion during encounter</td>\n",
       "    </tr>\n",
       "    <tr>\n",
       "      <th>15</th>\n",
       "      <td>15.0</td>\n",
       "      <td>hemo</td>\n",
       "      <td>Float</td>\n",
       "      <td>Flag for blood disorder during encounter</td>\n",
       "    </tr>\n",
       "    <tr>\n",
       "      <th>16</th>\n",
       "      <td>16.0</td>\n",
       "      <td>hematocritic</td>\n",
       "      <td>Float</td>\n",
       "      <td>Average hematocritic value during encounter (g/dL)</td>\n",
       "    </tr>\n",
       "    <tr>\n",
       "      <th>17</th>\n",
       "      <td>17.0</td>\n",
       "      <td>neutrophils</td>\n",
       "      <td>Float</td>\n",
       "      <td>Average neutrophils value during encounter  (cells/microL)</td>\n",
       "    </tr>\n",
       "    <tr>\n",
       "      <th>18</th>\n",
       "      <td>18.0</td>\n",
       "      <td>sodium</td>\n",
       "      <td>Float</td>\n",
       "      <td>Average sodium value during encounter (mmol/L)</td>\n",
       "    </tr>\n",
       "    <tr>\n",
       "      <th>19</th>\n",
       "      <td>19.0</td>\n",
       "      <td>glucose</td>\n",
       "      <td>Float</td>\n",
       "      <td>Average sodium value during encounter (mmol/L)</td>\n",
       "    </tr>\n",
       "    <tr>\n",
       "      <th>20</th>\n",
       "      <td>20.0</td>\n",
       "      <td>bloodureanitro</td>\n",
       "      <td>Float</td>\n",
       "      <td>Average blood urea nitrogen value during encounter (mg/dL)</td>\n",
       "    </tr>\n",
       "    <tr>\n",
       "      <th>21</th>\n",
       "      <td>21.0</td>\n",
       "      <td>creatinine</td>\n",
       "      <td>Float</td>\n",
       "      <td>Average creatinine value during encounter (mg/dL)</td>\n",
       "    </tr>\n",
       "    <tr>\n",
       "      <th>22</th>\n",
       "      <td>22.0</td>\n",
       "      <td>bmi</td>\n",
       "      <td>Float</td>\n",
       "      <td>Average BMI during encounter (kg/m2)</td>\n",
       "    </tr>\n",
       "    <tr>\n",
       "      <th>23</th>\n",
       "      <td>23.0</td>\n",
       "      <td>pulse</td>\n",
       "      <td>Float</td>\n",
       "      <td>Average pulse during encounter  (beats/m)</td>\n",
       "    </tr>\n",
       "    <tr>\n",
       "      <th>24</th>\n",
       "      <td>24.0</td>\n",
       "      <td>respiration</td>\n",
       "      <td>Float</td>\n",
       "      <td>Average respiration during encounter  (breaths/m)</td>\n",
       "    </tr>\n",
       "    <tr>\n",
       "      <th>25</th>\n",
       "      <td>25.0</td>\n",
       "      <td>secondarydiagnosisnonicd9</td>\n",
       "      <td>Integer</td>\n",
       "      <td>Flag for whether a non ICD 9 formatted diagnosis was coded as a secondary diagnosis</td>\n",
       "    </tr>\n",
       "    <tr>\n",
       "      <th>26</th>\n",
       "      <td>26.0</td>\n",
       "      <td>discharged</td>\n",
       "      <td>String</td>\n",
       "      <td>Date of discharge</td>\n",
       "    </tr>\n",
       "    <tr>\n",
       "      <th>27</th>\n",
       "      <td>27.0</td>\n",
       "      <td>facid</td>\n",
       "      <td>Integer</td>\n",
       "      <td>Facility ID at which the encounter occurred</td>\n",
       "    </tr>\n",
       "    <tr>\n",
       "      <th>28</th>\n",
       "      <td>28.0</td>\n",
       "      <td>lengthofstay</td>\n",
       "      <td>Integer</td>\n",
       "      <td>Length of stay for the encounter</td>\n",
       "    </tr>\n",
       "  </tbody>\n",
       "</table>\n",
       "</div>"
      ],
      "text/plain": [
       "    Index                                       Data fields      Type  \\\n",
       "0     NaN                                      LengthOfStay       NaN   \n",
       "1     1.0                                               eid   Integer   \n",
       "2     2.0                                             vdate    String   \n",
       "3     3.0                                            rcount  Integer    \n",
       "4     4.0                                            gender    String   \n",
       "5     5.0                       dialysisrenalendstage          String   \n",
       "6     6.0                           asthma                     String   \n",
       "7     7.0                            irondef                   String   \n",
       "8     8.0                         pneum                        String   \n",
       "9     9.0                            substancedependence       String   \n",
       "10   10.0                       psychologicaldisordermajor     String   \n",
       "11   11.0                              depress                 String   \n",
       "12   12.0                        psychother                    String   \n",
       "13   13.0                      fibrosisandother                String   \n",
       "14   14.0                            malnutrition              String   \n",
       "15   15.0                                        hemo           Float   \n",
       "16   16.0                      hematocritic                     Float   \n",
       "17   17.0                          neutrophils                  Float   \n",
       "18   18.0                                          sodium       Float   \n",
       "19   19.0                         glucose                       Float   \n",
       "20   20.0                                bloodureanitro         Float   \n",
       "21   21.0                          creatinine                   Float   \n",
       "22   22.0                                      bmi              Float   \n",
       "23   23.0  pulse                                                Float   \n",
       "24   24.0                                     respiration       Float   \n",
       "25   25.0                   secondarydiagnosisnonicd9         Integer   \n",
       "26   26.0                       discharged                     String   \n",
       "27   27.0                        facid                        Integer   \n",
       "28   28.0                              lengthofstay           Integer   \n",
       "\n",
       "                                                                               Descriptions  \n",
       "0                                                                                       NaN  \n",
       "1                                                       Unique Id of the hospital admission  \n",
       "2                                                                                Visit date  \n",
       "3                                               Number of readmissions within last 180 days  \n",
       "4                                                             Gender of the patient\\nM or F  \n",
       "5                                                   Flag for renal disease during encounter  \n",
       "6                                                          Flag for asthma during encounter  \n",
       "7                                                 Flag for iron deficiency during encounter  \n",
       "8                                                       Flag for pneumonia during encounter  \n",
       "9                                            Flag for substance dependence during encounter  \n",
       "10                                   Flag for major psychological disorder during encounter  \n",
       "11                                                     Flag for depression during encounter  \n",
       "12                                  Flag for other psychological disorder during encounter   \n",
       "13                                                       Flag for fibrosis during encounter  \n",
       "14                                                  Flag for malnutrituion during encounter  \n",
       "15                                                Flag for blood disorder during encounter   \n",
       "16                                       Average hematocritic value during encounter (g/dL)  \n",
       "17                               Average neutrophils value during encounter  (cells/microL)  \n",
       "18                                           Average sodium value during encounter (mmol/L)  \n",
       "19                                           Average sodium value during encounter (mmol/L)  \n",
       "20                               Average blood urea nitrogen value during encounter (mg/dL)  \n",
       "21                                        Average creatinine value during encounter (mg/dL)  \n",
       "22                                                     Average BMI during encounter (kg/m2)  \n",
       "23                                                Average pulse during encounter  (beats/m)  \n",
       "24                                       Average respiration during encounter  (breaths/m)   \n",
       "25  Flag for whether a non ICD 9 formatted diagnosis was coded as a secondary diagnosis      \n",
       "26                                                                        Date of discharge  \n",
       "27                                              Facility ID at which the encounter occurred  \n",
       "28                                                        Length of stay for the encounter   "
      ]
     },
     "execution_count": 48,
     "metadata": {},
     "output_type": "execute_result"
    }
   ],
   "source": [
    "DATA_DICT"
   ]
  },
  {
   "cell_type": "markdown",
   "metadata": {},
   "source": [
    "**What's in the MetaData_Facilities csv file?**"
   ]
  },
  {
   "cell_type": "code",
   "execution_count": 49,
   "metadata": {},
   "outputs": [
    {
     "data": {
      "text/html": [
       "<div>\n",
       "<style scoped>\n",
       "    .dataframe tbody tr th:only-of-type {\n",
       "        vertical-align: middle;\n",
       "    }\n",
       "\n",
       "    .dataframe tbody tr th {\n",
       "        vertical-align: top;\n",
       "    }\n",
       "\n",
       "    .dataframe thead th {\n",
       "        text-align: right;\n",
       "    }\n",
       "</style>\n",
       "<table border=\"1\" class=\"dataframe\">\n",
       "  <thead>\n",
       "    <tr style=\"text-align: right;\">\n",
       "      <th></th>\n",
       "      <th>Capacity</th>\n",
       "      <th>Id</th>\n",
       "      <th>Name</th>\n",
       "    </tr>\n",
       "  </thead>\n",
       "  <tbody>\n",
       "    <tr>\n",
       "      <th>0</th>\n",
       "      <td>30</td>\n",
       "      <td>C</td>\n",
       "      <td>General Medicine 3 South</td>\n",
       "    </tr>\n",
       "    <tr>\n",
       "      <th>1</th>\n",
       "      <td>95</td>\n",
       "      <td>E</td>\n",
       "      <td>Behavioral 1 East</td>\n",
       "    </tr>\n",
       "    <tr>\n",
       "      <th>2</th>\n",
       "      <td>75</td>\n",
       "      <td>A</td>\n",
       "      <td>General Medicine 3 West</td>\n",
       "    </tr>\n",
       "    <tr>\n",
       "      <th>3</th>\n",
       "      <td>80</td>\n",
       "      <td>B</td>\n",
       "      <td>Pulmonary 2 West</td>\n",
       "    </tr>\n",
       "    <tr>\n",
       "      <th>4</th>\n",
       "      <td>100</td>\n",
       "      <td>D</td>\n",
       "      <td>Geriatrics 2 East</td>\n",
       "    </tr>\n",
       "  </tbody>\n",
       "</table>\n",
       "</div>"
      ],
      "text/plain": [
       "   Capacity Id                      Name\n",
       "0        30  C  General Medicine 3 South\n",
       "1        95  E         Behavioral 1 East\n",
       "2        75  A   General Medicine 3 West\n",
       "3        80  B          Pulmonary 2 West\n",
       "4       100  D         Geriatrics 2 East"
      ]
     },
     "execution_count": 49,
     "metadata": {},
     "output_type": "execute_result"
    }
   ],
   "source": [
    "METADATA"
   ]
  },
  {
   "cell_type": "markdown",
   "metadata": {},
   "source": [
    "That seems useful."
   ]
  },
  {
   "cell_type": "markdown",
   "metadata": {},
   "source": [
    "**What's in `LOS_PROD`?**"
   ]
  },
  {
   "cell_type": "code",
   "execution_count": 50,
   "metadata": {},
   "outputs": [
    {
     "data": {
      "text/html": [
       "<div>\n",
       "<style scoped>\n",
       "    .dataframe tbody tr th:only-of-type {\n",
       "        vertical-align: middle;\n",
       "    }\n",
       "\n",
       "    .dataframe tbody tr th {\n",
       "        vertical-align: top;\n",
       "    }\n",
       "\n",
       "    .dataframe thead th {\n",
       "        text-align: right;\n",
       "    }\n",
       "</style>\n",
       "<table border=\"1\" class=\"dataframe\">\n",
       "  <thead>\n",
       "    <tr style=\"text-align: right;\">\n",
       "      <th></th>\n",
       "      <th>eid</th>\n",
       "      <th>vdate</th>\n",
       "      <th>rcount</th>\n",
       "      <th>gender</th>\n",
       "      <th>dialysisrenalendstage</th>\n",
       "      <th>asthma</th>\n",
       "      <th>irondef</th>\n",
       "      <th>pneum</th>\n",
       "      <th>substancedependence</th>\n",
       "      <th>psychologicaldisordermajor</th>\n",
       "      <th>depress</th>\n",
       "      <th>psychother</th>\n",
       "      <th>fibrosisandother</th>\n",
       "      <th>malnutrition</th>\n",
       "      <th>hemo</th>\n",
       "      <th>hematocrit</th>\n",
       "      <th>neutrophils</th>\n",
       "      <th>sodium</th>\n",
       "      <th>glucose</th>\n",
       "      <th>bloodureanitro</th>\n",
       "      <th>creatinine</th>\n",
       "      <th>bmi</th>\n",
       "      <th>pulse</th>\n",
       "      <th>respiration</th>\n",
       "      <th>secondarydiagnosisnonicd9</th>\n",
       "      <th>discharged</th>\n",
       "      <th>facid</th>\n",
       "    </tr>\n",
       "  </thead>\n",
       "  <tbody>\n",
       "    <tr>\n",
       "      <th>0</th>\n",
       "      <td>29000</td>\n",
       "      <td>04/26/12</td>\n",
       "      <td>0</td>\n",
       "      <td>F</td>\n",
       "      <td>0</td>\n",
       "      <td>0</td>\n",
       "      <td>1</td>\n",
       "      <td>0</td>\n",
       "      <td>0</td>\n",
       "      <td>0</td>\n",
       "      <td>0</td>\n",
       "      <td>0</td>\n",
       "      <td>0</td>\n",
       "      <td>0</td>\n",
       "      <td>0</td>\n",
       "      <td>12.8</td>\n",
       "      <td>6.6</td>\n",
       "      <td>134.150501</td>\n",
       "      <td>135.760839</td>\n",
       "      <td>26.0</td>\n",
       "      <td>1.125323</td>\n",
       "      <td>29.410090</td>\n",
       "      <td>84.046775</td>\n",
       "      <td>5.5</td>\n",
       "      <td>0</td>\n",
       "      <td>04/30/12</td>\n",
       "      <td>C</td>\n",
       "    </tr>\n",
       "    <tr>\n",
       "      <th>1</th>\n",
       "      <td>29001</td>\n",
       "      <td>01/17/12</td>\n",
       "      <td>0</td>\n",
       "      <td>F</td>\n",
       "      <td>0</td>\n",
       "      <td>0</td>\n",
       "      <td>0</td>\n",
       "      <td>0</td>\n",
       "      <td>0</td>\n",
       "      <td>0</td>\n",
       "      <td>0</td>\n",
       "      <td>0</td>\n",
       "      <td>0</td>\n",
       "      <td>0</td>\n",
       "      <td>0</td>\n",
       "      <td>11.4</td>\n",
       "      <td>7.2</td>\n",
       "      <td>132.951615</td>\n",
       "      <td>170.677225</td>\n",
       "      <td>16.0</td>\n",
       "      <td>1.221446</td>\n",
       "      <td>27.656177</td>\n",
       "      <td>85.141904</td>\n",
       "      <td>6.5</td>\n",
       "      <td>1</td>\n",
       "      <td>01/18/12</td>\n",
       "      <td>A</td>\n",
       "    </tr>\n",
       "    <tr>\n",
       "      <th>2</th>\n",
       "      <td>29002</td>\n",
       "      <td>02/11/12</td>\n",
       "      <td>0</td>\n",
       "      <td>F</td>\n",
       "      <td>0</td>\n",
       "      <td>0</td>\n",
       "      <td>0</td>\n",
       "      <td>0</td>\n",
       "      <td>0</td>\n",
       "      <td>0</td>\n",
       "      <td>0</td>\n",
       "      <td>0</td>\n",
       "      <td>0</td>\n",
       "      <td>0</td>\n",
       "      <td>0</td>\n",
       "      <td>11.9</td>\n",
       "      <td>9.4</td>\n",
       "      <td>135.126036</td>\n",
       "      <td>139.790366</td>\n",
       "      <td>12.0</td>\n",
       "      <td>0.937302</td>\n",
       "      <td>29.923813</td>\n",
       "      <td>44.658802</td>\n",
       "      <td>6.5</td>\n",
       "      <td>1</td>\n",
       "      <td>02/12/12</td>\n",
       "      <td>B</td>\n",
       "    </tr>\n",
       "    <tr>\n",
       "      <th>3</th>\n",
       "      <td>29003</td>\n",
       "      <td>10/02/12</td>\n",
       "      <td>0</td>\n",
       "      <td>M</td>\n",
       "      <td>1</td>\n",
       "      <td>0</td>\n",
       "      <td>0</td>\n",
       "      <td>0</td>\n",
       "      <td>0</td>\n",
       "      <td>0</td>\n",
       "      <td>0</td>\n",
       "      <td>0</td>\n",
       "      <td>0</td>\n",
       "      <td>1</td>\n",
       "      <td>0</td>\n",
       "      <td>9.8</td>\n",
       "      <td>11.4</td>\n",
       "      <td>137.990252</td>\n",
       "      <td>113.881485</td>\n",
       "      <td>25.0</td>\n",
       "      <td>1.178341</td>\n",
       "      <td>26.072578</td>\n",
       "      <td>75.119608</td>\n",
       "      <td>6.5</td>\n",
       "      <td>3</td>\n",
       "      <td>10/05/12</td>\n",
       "      <td>C</td>\n",
       "    </tr>\n",
       "    <tr>\n",
       "      <th>4</th>\n",
       "      <td>29004</td>\n",
       "      <td>07/10/12</td>\n",
       "      <td>0</td>\n",
       "      <td>F</td>\n",
       "      <td>0</td>\n",
       "      <td>0</td>\n",
       "      <td>0</td>\n",
       "      <td>0</td>\n",
       "      <td>0</td>\n",
       "      <td>1</td>\n",
       "      <td>0</td>\n",
       "      <td>0</td>\n",
       "      <td>0</td>\n",
       "      <td>0</td>\n",
       "      <td>0</td>\n",
       "      <td>9.3</td>\n",
       "      <td>11.1</td>\n",
       "      <td>134.282144</td>\n",
       "      <td>161.821043</td>\n",
       "      <td>7.0</td>\n",
       "      <td>0.758273</td>\n",
       "      <td>32.230980</td>\n",
       "      <td>70.926042</td>\n",
       "      <td>6.2</td>\n",
       "      <td>1</td>\n",
       "      <td>07/16/12</td>\n",
       "      <td>E</td>\n",
       "    </tr>\n",
       "  </tbody>\n",
       "</table>\n",
       "</div>"
      ],
      "text/plain": [
       "     eid     vdate rcount gender  dialysisrenalendstage  asthma  irondef  \\\n",
       "0  29000  04/26/12      0      F                      0       0        1   \n",
       "1  29001  01/17/12      0      F                      0       0        0   \n",
       "2  29002  02/11/12      0      F                      0       0        0   \n",
       "3  29003  10/02/12      0      M                      1       0        0   \n",
       "4  29004  07/10/12      0      F                      0       0        0   \n",
       "\n",
       "   pneum  substancedependence  psychologicaldisordermajor  depress  \\\n",
       "0      0                    0                           0        0   \n",
       "1      0                    0                           0        0   \n",
       "2      0                    0                           0        0   \n",
       "3      0                    0                           0        0   \n",
       "4      0                    0                           1        0   \n",
       "\n",
       "   psychother  fibrosisandother  malnutrition  hemo  hematocrit  neutrophils  \\\n",
       "0           0                 0             0     0        12.8          6.6   \n",
       "1           0                 0             0     0        11.4          7.2   \n",
       "2           0                 0             0     0        11.9          9.4   \n",
       "3           0                 0             1     0         9.8         11.4   \n",
       "4           0                 0             0     0         9.3         11.1   \n",
       "\n",
       "       sodium     glucose  bloodureanitro  creatinine        bmi      pulse  \\\n",
       "0  134.150501  135.760839            26.0    1.125323  29.410090  84.046775   \n",
       "1  132.951615  170.677225            16.0    1.221446  27.656177  85.141904   \n",
       "2  135.126036  139.790366            12.0    0.937302  29.923813  44.658802   \n",
       "3  137.990252  113.881485            25.0    1.178341  26.072578  75.119608   \n",
       "4  134.282144  161.821043             7.0    0.758273  32.230980  70.926042   \n",
       "\n",
       "   respiration  secondarydiagnosisnonicd9 discharged facid  \n",
       "0          5.5                          0   04/30/12     C  \n",
       "1          6.5                          1   01/18/12     A  \n",
       "2          6.5                          1   02/12/12     B  \n",
       "3          6.5                          3   10/05/12     C  \n",
       "4          6.2                          1   07/16/12     E  "
      ]
     },
     "execution_count": 50,
     "metadata": {},
     "output_type": "execute_result"
    }
   ],
   "source": [
    "LOS_PROD.head()"
   ]
  },
  {
   "cell_type": "markdown",
   "metadata": {},
   "source": [
    "Seems like it's similar to `LOS`. But it contains fewer instances (only 1000):"
   ]
  },
  {
   "cell_type": "code",
   "execution_count": 51,
   "metadata": {},
   "outputs": [
    {
     "name": "stdout",
     "output_type": "stream",
     "text": [
      "<class 'pandas.core.frame.DataFrame'>\n",
      "RangeIndex: 1000 entries, 0 to 999\n",
      "Data columns (total 27 columns):\n",
      "eid                           1000 non-null int64\n",
      "vdate                         1000 non-null object\n",
      "rcount                        1000 non-null object\n",
      "gender                        1000 non-null object\n",
      "dialysisrenalendstage         1000 non-null int64\n",
      "asthma                        1000 non-null int64\n",
      "irondef                       1000 non-null int64\n",
      "pneum                         1000 non-null int64\n",
      "substancedependence           1000 non-null int64\n",
      "psychologicaldisordermajor    1000 non-null int64\n",
      "depress                       1000 non-null int64\n",
      "psychother                    1000 non-null int64\n",
      "fibrosisandother              1000 non-null int64\n",
      "malnutrition                  1000 non-null int64\n",
      "hemo                          1000 non-null int64\n",
      "hematocrit                    1000 non-null float64\n",
      "neutrophils                   1000 non-null float64\n",
      "sodium                        1000 non-null float64\n",
      "glucose                       1000 non-null float64\n",
      "bloodureanitro                1000 non-null float64\n",
      "creatinine                    1000 non-null float64\n",
      "bmi                           1000 non-null float64\n",
      "pulse                         1000 non-null float64\n",
      "respiration                   1000 non-null float64\n",
      "secondarydiagnosisnonicd9     1000 non-null int64\n",
      "discharged                    1000 non-null object\n",
      "facid                         1000 non-null object\n",
      "dtypes: float64(9), int64(13), object(5)\n",
      "memory usage: 211.0+ KB\n"
     ]
    }
   ],
   "source": [
    "LOS_PROD.info()"
   ]
  },
  {
   "cell_type": "markdown",
   "metadata": {},
   "source": [
    "Therefore `LOS_PROD` doesn't seem useful."
   ]
  },
  {
   "cell_type": "markdown",
   "metadata": {},
   "source": [
    "### Summary so far\n",
    "\n",
    "It seems like `LOS` is our main data source, with `METADATA` containing useful information if the facility ID turn out to play a major role. The `DATA_DICT` is convenient, but won't be necessary for constructing our model. `LOS_PROD` seems to be a smaller version of the `LOS` data set."
   ]
  },
  {
   "cell_type": "markdown",
   "metadata": {},
   "source": [
    "It seems convenient to replace the facility id in the `LOS` data with the capacity of the facility, as listed in `METADATA` (one could also consider using the location feature )add the capacity feature in `METADATA` to our `LOS` data set. That is, the number "
   ]
  },
  {
   "cell_type": "markdown",
   "metadata": {},
   "source": [
    "It's not clear whether there are any missing values. There are entries in all columns, but perhaps missing values are encoded as integers? We'll have to dig more to find out."
   ]
  },
  {
   "cell_type": "markdown",
   "metadata": {},
   "source": [
    "### Pandas profiling: A convenient tool for investigating data"
   ]
  },
  {
   "cell_type": "markdown",
   "metadata": {},
   "source": [
    "The `pandas-profiling` package can generate nice reports for Pandas data frames. Worth knowing about! \n",
    "\n",
    "You can install it via pip: `pip install pandas-profiling`. "
   ]
  },
  {
   "cell_type": "code",
   "execution_count": 53,
   "metadata": {},
   "outputs": [],
   "source": [
    "import pandas_profiling as pp"
   ]
  },
  {
   "cell_type": "code",
   "execution_count": null,
   "metadata": {
    "scrolled": false
   },
   "outputs": [],
   "source": [
    "# Uncomment to generate a report for the LOS data frame\n",
    "#pp.ProfileReport(LOS)"
   ]
  },
  {
   "cell_type": "markdown",
   "metadata": {},
   "source": [
    "## Prepare the data (deal with missing values, categorical data, dates, etc)"
   ]
  },
  {
   "cell_type": "markdown",
   "metadata": {},
   "source": [
    "### Any missing values?"
   ]
  },
  {
   "cell_type": "markdown",
   "metadata": {},
   "source": [
    "By looking at the unique values of the integer objects we can get an idea. If missing values are encoded as integer, they tend to be -1 or another \"strange\" number."
   ]
  },
  {
   "cell_type": "code",
   "execution_count": 54,
   "metadata": {},
   "outputs": [
    {
     "name": "stdout",
     "output_type": "stream",
     "text": [
      "Values in eid: [     1      2      3 ...  99998  99999 100000]\n",
      "--\n",
      "Values in dialysisrenalendstage: [0 1]\n",
      "--\n",
      "Values in asthma: [0 1]\n",
      "--\n",
      "Values in irondef: [0 1]\n",
      "--\n",
      "Values in pneum: [0 1]\n",
      "--\n",
      "Values in substancedependence: [0 1]\n",
      "--\n",
      "Values in psychologicaldisordermajor: [0 1]\n",
      "--\n",
      "Values in depress: [0 1]\n",
      "--\n",
      "Values in psychother: [0 1]\n",
      "--\n",
      "Values in fibrosisandother: [0 1]\n",
      "--\n",
      "Values in malnutrition: [0 1]\n",
      "--\n",
      "Values in hemo: [0 1]\n",
      "--\n",
      "Values in pulse: [ 21  23  25  27  28  29  30  31  32  33  34  35  36  37  38  39  40  41\n",
      "  42  43  44  45  46  47  48  49  50  51  52  53  54  55  56  57  58  59\n",
      "  60  61  62  63  64  65  66  67  68  69  70  71  72  73  74  75  76  77\n",
      "  78  79  80  81  82  83  84  85  86  87  88  89  90  91  92  93  94  95\n",
      "  96  97  98  99 100 101 102 103 104 105 106 107 108 109 110 111 112 113\n",
      " 114 115 116 117 118 119 120 122 126 130]\n",
      "--\n",
      "Values in secondarydiagnosisnonicd9: [ 0  1  2  3  4  5  6  7  8  9 10]\n",
      "--\n",
      "Values in lengthofstay: [ 1  2  3  4  5  6  7  8  9 10 11 12 13 14 15 16 17]\n",
      "--\n"
     ]
    }
   ],
   "source": [
    "for col in LOS.columns:\n",
    "    if LOS[col].dtype == 'int64':\n",
    "        print(f'Values in {col}: {np.unique(LOS[col])}\\n--')"
   ]
  },
  {
   "cell_type": "markdown",
   "metadata": {},
   "source": [
    "Doesn't seem to be any missing values encoded as integers here."
   ]
  },
  {
   "cell_type": "markdown",
   "metadata": {},
   "source": [
    "Same for the floats (warning: there are typically many unique values for floats..):"
   ]
  },
  {
   "cell_type": "code",
   "execution_count": 55,
   "metadata": {},
   "outputs": [],
   "source": [
    "# Commented out for notebook readability. Run once to check for missing values.\n",
    "#for col in LOS.columns:\n",
    "#    if LOS[col].dtype == 'float64':\n",
    "#        print(f'Values in {col}: {np.unique(LOS[col])}\\n--')"
   ]
  },
  {
   "cell_type": "markdown",
   "metadata": {},
   "source": [
    "We can look at the different entries in the `object` columns using `value_counts`:"
   ]
  },
  {
   "cell_type": "code",
   "execution_count": 56,
   "metadata": {},
   "outputs": [],
   "source": [
    "# Object fields except the dates\n",
    "object_cols = ['rcount', 'gender', 'facid']"
   ]
  },
  {
   "cell_type": "code",
   "execution_count": 57,
   "metadata": {},
   "outputs": [
    {
     "name": "stdout",
     "output_type": "stream",
     "text": [
      "Value counts in rcount:\n",
      " 0     55031\n",
      "1     15007\n",
      "2      9987\n",
      "3      8047\n",
      "4      6941\n",
      "5+     4987\n",
      "Name: rcount, dtype: int64\n",
      "-\n",
      "Value counts in gender:\n",
      " F    57643\n",
      "M    42357\n",
      "Name: gender, dtype: int64\n",
      "-\n",
      "Value counts in facid:\n",
      " E    30755\n",
      "A    30035\n",
      "B    30012\n",
      "C     4699\n",
      "D     4499\n",
      "Name: facid, dtype: int64\n",
      "-\n"
     ]
    }
   ],
   "source": [
    "for col in object_cols:\n",
    "    print(f'Value counts in {col}:\\n {LOS[col].value_counts()}\\n-')"
   ]
  },
  {
   "cell_type": "markdown",
   "metadata": {},
   "source": [
    "Seems like there are no missing values here either."
   ]
  },
  {
   "cell_type": "markdown",
   "metadata": {},
   "source": [
    "> Based on these checks, let's assume that there are no missing values."
   ]
  },
  {
   "cell_type": "markdown",
   "metadata": {},
   "source": [
    "### Let's one-hot encode the categorical variables"
   ]
  },
  {
   "cell_type": "code",
   "execution_count": 58,
   "metadata": {},
   "outputs": [],
   "source": [
    "from sklearn.preprocessing import OrdinalEncoder\n",
    "from sklearn.compose import make_column_transformer"
   ]
  },
  {
   "cell_type": "markdown",
   "metadata": {},
   "source": [
    "All the categorical columns:"
   ]
  },
  {
   "cell_type": "code",
   "execution_count": 59,
   "metadata": {},
   "outputs": [],
   "source": [
    "categorical = [col for col in LOS.columns if LOS[col].dtype=='object']"
   ]
  },
  {
   "cell_type": "code",
   "execution_count": 60,
   "metadata": {},
   "outputs": [
    {
     "data": {
      "text/plain": [
       "['vdate', 'rcount', 'gender', 'discharged', 'facid']"
      ]
     },
     "execution_count": 60,
     "metadata": {},
     "output_type": "execute_result"
    }
   ],
   "source": [
    "categorical"
   ]
  },
  {
   "cell_type": "code",
   "execution_count": 61,
   "metadata": {},
   "outputs": [],
   "source": [
    "categorical = ['rcount', 'gender', 'facid']"
   ]
  },
  {
   "cell_type": "code",
   "execution_count": 62,
   "metadata": {},
   "outputs": [],
   "source": [
    "numerical = [col for col in LOS.columns if LOS[col].dtype in ['int64', 'float64']]\n",
    "dates = ['vdate', 'discharged']"
   ]
  },
  {
   "cell_type": "code",
   "execution_count": 63,
   "metadata": {},
   "outputs": [],
   "source": [
    "transformer = make_column_transformer(\n",
    "    (categorical, OrdinalEncoder()),\n",
    "    remainder='passthrough'\n",
    ")"
   ]
  },
  {
   "cell_type": "code",
   "execution_count": 64,
   "metadata": {},
   "outputs": [],
   "source": [
    "LOS_enc = transformer.fit_transform(LOS)"
   ]
  },
  {
   "cell_type": "markdown",
   "metadata": {},
   "source": [
    "Note that the order of the columns in the resulting array has changed! http://scikit-learn.org/stable/modules/generated/sklearn.compose.ColumnTransformer.html. \n",
    "> The order of the columns in the transformed feature matrix follows the order of how the columns are specified in the transformers list. Those columns specified with passthrough are added at the right to the output of the transformers.\n",
    "\n",
    "To make a data frame from the resulting array we have to figure out where each column went:"
   ]
  },
  {
   "cell_type": "code",
   "execution_count": 65,
   "metadata": {},
   "outputs": [
    {
     "data": {
      "text/plain": [
       "Index(['eid', 'vdate', 'rcount', 'gender', 'dialysisrenalendstage', 'asthma',\n",
       "       'irondef', 'pneum', 'substancedependence', 'psychologicaldisordermajor',\n",
       "       'depress', 'psychother', 'fibrosisandother', 'malnutrition', 'hemo',\n",
       "       'hematocrit', 'neutrophils', 'sodium', 'glucose', 'bloodureanitro',\n",
       "       'creatinine', 'bmi', 'pulse', 'respiration',\n",
       "       'secondarydiagnosisnonicd9', 'discharged', 'facid', 'lengthofstay'],\n",
       "      dtype='object')"
      ]
     },
     "execution_count": 65,
     "metadata": {},
     "output_type": "execute_result"
    }
   ],
   "source": [
    "LOS.columns"
   ]
  },
  {
   "cell_type": "code",
   "execution_count": 66,
   "metadata": {},
   "outputs": [],
   "source": [
    "columns = ['rcount', 'gender', 'facid'] + list(LOS.columns.drop(['rcount', 'gender', 'facid']))"
   ]
  },
  {
   "cell_type": "code",
   "execution_count": 67,
   "metadata": {},
   "outputs": [
    {
     "data": {
      "text/plain": [
       "['rcount',\n",
       " 'gender',\n",
       " 'facid',\n",
       " 'eid',\n",
       " 'vdate',\n",
       " 'dialysisrenalendstage',\n",
       " 'asthma',\n",
       " 'irondef',\n",
       " 'pneum',\n",
       " 'substancedependence',\n",
       " 'psychologicaldisordermajor',\n",
       " 'depress',\n",
       " 'psychother',\n",
       " 'fibrosisandother',\n",
       " 'malnutrition',\n",
       " 'hemo',\n",
       " 'hematocrit',\n",
       " 'neutrophils',\n",
       " 'sodium',\n",
       " 'glucose',\n",
       " 'bloodureanitro',\n",
       " 'creatinine',\n",
       " 'bmi',\n",
       " 'pulse',\n",
       " 'respiration',\n",
       " 'secondarydiagnosisnonicd9',\n",
       " 'discharged',\n",
       " 'lengthofstay']"
      ]
     },
     "execution_count": 67,
     "metadata": {},
     "output_type": "execute_result"
    }
   ],
   "source": [
    "columns"
   ]
  },
  {
   "cell_type": "markdown",
   "metadata": {},
   "source": [
    "We can turn the encoded `LOS` data back into a data frame with these columns:"
   ]
  },
  {
   "cell_type": "code",
   "execution_count": 68,
   "metadata": {},
   "outputs": [],
   "source": [
    "LOS_enc = pd.DataFrame(data=LOS_enc, columns=columns)"
   ]
  },
  {
   "cell_type": "code",
   "execution_count": 69,
   "metadata": {},
   "outputs": [
    {
     "data": {
      "text/html": [
       "<div>\n",
       "<style scoped>\n",
       "    .dataframe tbody tr th:only-of-type {\n",
       "        vertical-align: middle;\n",
       "    }\n",
       "\n",
       "    .dataframe tbody tr th {\n",
       "        vertical-align: top;\n",
       "    }\n",
       "\n",
       "    .dataframe thead th {\n",
       "        text-align: right;\n",
       "    }\n",
       "</style>\n",
       "<table border=\"1\" class=\"dataframe\">\n",
       "  <thead>\n",
       "    <tr style=\"text-align: right;\">\n",
       "      <th></th>\n",
       "      <th>rcount</th>\n",
       "      <th>gender</th>\n",
       "      <th>facid</th>\n",
       "      <th>eid</th>\n",
       "      <th>vdate</th>\n",
       "      <th>dialysisrenalendstage</th>\n",
       "      <th>asthma</th>\n",
       "      <th>irondef</th>\n",
       "      <th>pneum</th>\n",
       "      <th>substancedependence</th>\n",
       "      <th>psychologicaldisordermajor</th>\n",
       "      <th>depress</th>\n",
       "      <th>psychother</th>\n",
       "      <th>fibrosisandother</th>\n",
       "      <th>malnutrition</th>\n",
       "      <th>hemo</th>\n",
       "      <th>hematocrit</th>\n",
       "      <th>neutrophils</th>\n",
       "      <th>sodium</th>\n",
       "      <th>glucose</th>\n",
       "      <th>bloodureanitro</th>\n",
       "      <th>creatinine</th>\n",
       "      <th>bmi</th>\n",
       "      <th>pulse</th>\n",
       "      <th>respiration</th>\n",
       "      <th>secondarydiagnosisnonicd9</th>\n",
       "      <th>discharged</th>\n",
       "      <th>lengthofstay</th>\n",
       "    </tr>\n",
       "  </thead>\n",
       "  <tbody>\n",
       "    <tr>\n",
       "      <th>0</th>\n",
       "      <td>0</td>\n",
       "      <td>0</td>\n",
       "      <td>1</td>\n",
       "      <td>1</td>\n",
       "      <td>8/29/2012</td>\n",
       "      <td>0</td>\n",
       "      <td>0</td>\n",
       "      <td>0</td>\n",
       "      <td>0</td>\n",
       "      <td>0</td>\n",
       "      <td>0</td>\n",
       "      <td>0</td>\n",
       "      <td>0</td>\n",
       "      <td>0</td>\n",
       "      <td>0</td>\n",
       "      <td>0</td>\n",
       "      <td>11.5</td>\n",
       "      <td>14.2</td>\n",
       "      <td>140.361</td>\n",
       "      <td>192.477</td>\n",
       "      <td>12</td>\n",
       "      <td>1.39072</td>\n",
       "      <td>30.4324</td>\n",
       "      <td>96</td>\n",
       "      <td>6.5</td>\n",
       "      <td>4</td>\n",
       "      <td>9/1/2012</td>\n",
       "      <td>3</td>\n",
       "    </tr>\n",
       "    <tr>\n",
       "      <th>1</th>\n",
       "      <td>5</td>\n",
       "      <td>0</td>\n",
       "      <td>0</td>\n",
       "      <td>2</td>\n",
       "      <td>5/26/2012</td>\n",
       "      <td>0</td>\n",
       "      <td>0</td>\n",
       "      <td>0</td>\n",
       "      <td>0</td>\n",
       "      <td>0</td>\n",
       "      <td>0</td>\n",
       "      <td>0</td>\n",
       "      <td>0</td>\n",
       "      <td>0</td>\n",
       "      <td>0</td>\n",
       "      <td>0</td>\n",
       "      <td>9</td>\n",
       "      <td>4.1</td>\n",
       "      <td>136.732</td>\n",
       "      <td>94.0785</td>\n",
       "      <td>8</td>\n",
       "      <td>0.943164</td>\n",
       "      <td>28.4605</td>\n",
       "      <td>61</td>\n",
       "      <td>6.5</td>\n",
       "      <td>1</td>\n",
       "      <td>6/2/2012</td>\n",
       "      <td>7</td>\n",
       "    </tr>\n",
       "    <tr>\n",
       "      <th>2</th>\n",
       "      <td>1</td>\n",
       "      <td>0</td>\n",
       "      <td>1</td>\n",
       "      <td>3</td>\n",
       "      <td>9/22/2012</td>\n",
       "      <td>0</td>\n",
       "      <td>0</td>\n",
       "      <td>0</td>\n",
       "      <td>0</td>\n",
       "      <td>0</td>\n",
       "      <td>0</td>\n",
       "      <td>0</td>\n",
       "      <td>0</td>\n",
       "      <td>0</td>\n",
       "      <td>0</td>\n",
       "      <td>0</td>\n",
       "      <td>8.4</td>\n",
       "      <td>8.9</td>\n",
       "      <td>133.059</td>\n",
       "      <td>130.531</td>\n",
       "      <td>12</td>\n",
       "      <td>1.06575</td>\n",
       "      <td>28.8438</td>\n",
       "      <td>64</td>\n",
       "      <td>6.5</td>\n",
       "      <td>2</td>\n",
       "      <td>9/25/2012</td>\n",
       "      <td>3</td>\n",
       "    </tr>\n",
       "    <tr>\n",
       "      <th>3</th>\n",
       "      <td>0</td>\n",
       "      <td>0</td>\n",
       "      <td>0</td>\n",
       "      <td>4</td>\n",
       "      <td>8/9/2012</td>\n",
       "      <td>0</td>\n",
       "      <td>0</td>\n",
       "      <td>0</td>\n",
       "      <td>0</td>\n",
       "      <td>0</td>\n",
       "      <td>0</td>\n",
       "      <td>0</td>\n",
       "      <td>0</td>\n",
       "      <td>0</td>\n",
       "      <td>0</td>\n",
       "      <td>0</td>\n",
       "      <td>11.9</td>\n",
       "      <td>9.4</td>\n",
       "      <td>138.994</td>\n",
       "      <td>163.377</td>\n",
       "      <td>12</td>\n",
       "      <td>0.906862</td>\n",
       "      <td>27.959</td>\n",
       "      <td>76</td>\n",
       "      <td>6.5</td>\n",
       "      <td>1</td>\n",
       "      <td>8/10/2012</td>\n",
       "      <td>1</td>\n",
       "    </tr>\n",
       "    <tr>\n",
       "      <th>4</th>\n",
       "      <td>0</td>\n",
       "      <td>0</td>\n",
       "      <td>4</td>\n",
       "      <td>5</td>\n",
       "      <td>12/20/2012</td>\n",
       "      <td>0</td>\n",
       "      <td>0</td>\n",
       "      <td>0</td>\n",
       "      <td>1</td>\n",
       "      <td>0</td>\n",
       "      <td>1</td>\n",
       "      <td>0</td>\n",
       "      <td>0</td>\n",
       "      <td>0</td>\n",
       "      <td>0</td>\n",
       "      <td>0</td>\n",
       "      <td>9.1</td>\n",
       "      <td>9.05</td>\n",
       "      <td>138.635</td>\n",
       "      <td>94.8867</td>\n",
       "      <td>11.5</td>\n",
       "      <td>1.24285</td>\n",
       "      <td>30.2589</td>\n",
       "      <td>67</td>\n",
       "      <td>5.6</td>\n",
       "      <td>2</td>\n",
       "      <td>12/24/2012</td>\n",
       "      <td>4</td>\n",
       "    </tr>\n",
       "  </tbody>\n",
       "</table>\n",
       "</div>"
      ],
      "text/plain": [
       "  rcount gender facid eid       vdate dialysisrenalendstage asthma irondef  \\\n",
       "0      0      0     1   1   8/29/2012                     0      0       0   \n",
       "1      5      0     0   2   5/26/2012                     0      0       0   \n",
       "2      1      0     1   3   9/22/2012                     0      0       0   \n",
       "3      0      0     0   4    8/9/2012                     0      0       0   \n",
       "4      0      0     4   5  12/20/2012                     0      0       0   \n",
       "\n",
       "  pneum substancedependence psychologicaldisordermajor depress psychother  \\\n",
       "0     0                   0                          0       0          0   \n",
       "1     0                   0                          0       0          0   \n",
       "2     0                   0                          0       0          0   \n",
       "3     0                   0                          0       0          0   \n",
       "4     1                   0                          1       0          0   \n",
       "\n",
       "  fibrosisandother malnutrition hemo hematocrit neutrophils   sodium  glucose  \\\n",
       "0                0            0    0       11.5        14.2  140.361  192.477   \n",
       "1                0            0    0          9         4.1  136.732  94.0785   \n",
       "2                0            0    0        8.4         8.9  133.059  130.531   \n",
       "3                0            0    0       11.9         9.4  138.994  163.377   \n",
       "4                0            0    0        9.1        9.05  138.635  94.8867   \n",
       "\n",
       "  bloodureanitro creatinine      bmi pulse respiration  \\\n",
       "0             12    1.39072  30.4324    96         6.5   \n",
       "1              8   0.943164  28.4605    61         6.5   \n",
       "2             12    1.06575  28.8438    64         6.5   \n",
       "3             12   0.906862   27.959    76         6.5   \n",
       "4           11.5    1.24285  30.2589    67         5.6   \n",
       "\n",
       "  secondarydiagnosisnonicd9  discharged lengthofstay  \n",
       "0                         4    9/1/2012            3  \n",
       "1                         1    6/2/2012            7  \n",
       "2                         2   9/25/2012            3  \n",
       "3                         1   8/10/2012            1  \n",
       "4                         2  12/24/2012            4  "
      ]
     },
     "execution_count": 69,
     "metadata": {},
     "output_type": "execute_result"
    }
   ],
   "source": [
    "LOS_enc.head()"
   ]
  },
  {
   "cell_type": "code",
   "execution_count": 70,
   "metadata": {},
   "outputs": [
    {
     "name": "stdout",
     "output_type": "stream",
     "text": [
      "<class 'pandas.core.frame.DataFrame'>\n",
      "RangeIndex: 100000 entries, 0 to 99999\n",
      "Data columns (total 28 columns):\n",
      "rcount                        100000 non-null object\n",
      "gender                        100000 non-null object\n",
      "facid                         100000 non-null object\n",
      "eid                           100000 non-null object\n",
      "vdate                         100000 non-null object\n",
      "dialysisrenalendstage         100000 non-null object\n",
      "asthma                        100000 non-null object\n",
      "irondef                       100000 non-null object\n",
      "pneum                         100000 non-null object\n",
      "substancedependence           100000 non-null object\n",
      "psychologicaldisordermajor    100000 non-null object\n",
      "depress                       100000 non-null object\n",
      "psychother                    100000 non-null object\n",
      "fibrosisandother              100000 non-null object\n",
      "malnutrition                  100000 non-null object\n",
      "hemo                          100000 non-null object\n",
      "hematocrit                    100000 non-null object\n",
      "neutrophils                   100000 non-null object\n",
      "sodium                        100000 non-null object\n",
      "glucose                       100000 non-null object\n",
      "bloodureanitro                100000 non-null object\n",
      "creatinine                    100000 non-null object\n",
      "bmi                           100000 non-null object\n",
      "pulse                         100000 non-null object\n",
      "respiration                   100000 non-null object\n",
      "secondarydiagnosisnonicd9     100000 non-null object\n",
      "discharged                    100000 non-null object\n",
      "lengthofstay                  100000 non-null object\n",
      "dtypes: object(28)\n",
      "memory usage: 21.4+ MB\n"
     ]
    }
   ],
   "source": [
    "LOS_enc.info()"
   ]
  },
  {
   "cell_type": "markdown",
   "metadata": {},
   "source": [
    "...and make the numerical columns floats again"
   ]
  },
  {
   "cell_type": "code",
   "execution_count": 71,
   "metadata": {},
   "outputs": [],
   "source": [
    "LOS_enc[numerical] = LOS_enc[numerical].astype('float32')"
   ]
  },
  {
   "cell_type": "markdown",
   "metadata": {},
   "source": [
    "...and turn the dates into Pandas `datetime`: "
   ]
  },
  {
   "cell_type": "code",
   "execution_count": 72,
   "metadata": {},
   "outputs": [],
   "source": [
    "for datecol in dates:\n",
    "    LOS_enc[datecol] = pd.to_datetime(LOS_enc[datecol])"
   ]
  },
  {
   "cell_type": "code",
   "execution_count": 73,
   "metadata": {},
   "outputs": [
    {
     "name": "stdout",
     "output_type": "stream",
     "text": [
      "<class 'pandas.core.frame.DataFrame'>\n",
      "RangeIndex: 100000 entries, 0 to 99999\n",
      "Data columns (total 28 columns):\n",
      "rcount                        100000 non-null object\n",
      "gender                        100000 non-null object\n",
      "facid                         100000 non-null object\n",
      "eid                           100000 non-null float32\n",
      "vdate                         100000 non-null datetime64[ns]\n",
      "dialysisrenalendstage         100000 non-null float32\n",
      "asthma                        100000 non-null float32\n",
      "irondef                       100000 non-null float32\n",
      "pneum                         100000 non-null float32\n",
      "substancedependence           100000 non-null float32\n",
      "psychologicaldisordermajor    100000 non-null float32\n",
      "depress                       100000 non-null float32\n",
      "psychother                    100000 non-null float32\n",
      "fibrosisandother              100000 non-null float32\n",
      "malnutrition                  100000 non-null float32\n",
      "hemo                          100000 non-null float32\n",
      "hematocrit                    100000 non-null float32\n",
      "neutrophils                   100000 non-null float32\n",
      "sodium                        100000 non-null float32\n",
      "glucose                       100000 non-null float32\n",
      "bloodureanitro                100000 non-null float32\n",
      "creatinine                    100000 non-null float32\n",
      "bmi                           100000 non-null float32\n",
      "pulse                         100000 non-null float32\n",
      "respiration                   100000 non-null float32\n",
      "secondarydiagnosisnonicd9     100000 non-null float32\n",
      "discharged                    100000 non-null datetime64[ns]\n",
      "lengthofstay                  100000 non-null float32\n",
      "dtypes: datetime64[ns](2), float32(23), object(3)\n",
      "memory usage: 12.6+ MB\n"
     ]
    }
   ],
   "source": [
    "LOS_enc.info()"
   ]
  },
  {
   "cell_type": "markdown",
   "metadata": {},
   "source": [
    "Since XGBoost can only deal with integer, floats or booleans, we have to encode the categorical variables as integers (this is not necessary for random forests):"
   ]
  },
  {
   "cell_type": "code",
   "execution_count": 74,
   "metadata": {},
   "outputs": [],
   "source": [
    "from sklearn.preprocessing import LabelEncoder"
   ]
  },
  {
   "cell_type": "code",
   "execution_count": 75,
   "metadata": {},
   "outputs": [],
   "source": [
    "lbl = LabelEncoder()"
   ]
  },
  {
   "cell_type": "code",
   "execution_count": 76,
   "metadata": {},
   "outputs": [],
   "source": [
    "for catcol in categorical:\n",
    "    LOS_enc[catcol] = lbl.fit_transform(LOS_enc[catcol])"
   ]
  },
  {
   "cell_type": "markdown",
   "metadata": {},
   "source": [
    "One could continue this by for example converting the integer columns to integers, treat the booleans as categorical and so on. But we'll stop here and base our further analysis on this data:"
   ]
  },
  {
   "cell_type": "code",
   "execution_count": 77,
   "metadata": {},
   "outputs": [],
   "source": [
    "LOS = LOS_enc"
   ]
  },
  {
   "cell_type": "code",
   "execution_count": 78,
   "metadata": {},
   "outputs": [
    {
     "name": "stdout",
     "output_type": "stream",
     "text": [
      "<class 'pandas.core.frame.DataFrame'>\n",
      "RangeIndex: 100000 entries, 0 to 99999\n",
      "Data columns (total 28 columns):\n",
      "rcount                        100000 non-null int64\n",
      "gender                        100000 non-null int64\n",
      "facid                         100000 non-null int64\n",
      "eid                           100000 non-null float32\n",
      "vdate                         100000 non-null datetime64[ns]\n",
      "dialysisrenalendstage         100000 non-null float32\n",
      "asthma                        100000 non-null float32\n",
      "irondef                       100000 non-null float32\n",
      "pneum                         100000 non-null float32\n",
      "substancedependence           100000 non-null float32\n",
      "psychologicaldisordermajor    100000 non-null float32\n",
      "depress                       100000 non-null float32\n",
      "psychother                    100000 non-null float32\n",
      "fibrosisandother              100000 non-null float32\n",
      "malnutrition                  100000 non-null float32\n",
      "hemo                          100000 non-null float32\n",
      "hematocrit                    100000 non-null float32\n",
      "neutrophils                   100000 non-null float32\n",
      "sodium                        100000 non-null float32\n",
      "glucose                       100000 non-null float32\n",
      "bloodureanitro                100000 non-null float32\n",
      "creatinine                    100000 non-null float32\n",
      "bmi                           100000 non-null float32\n",
      "pulse                         100000 non-null float32\n",
      "respiration                   100000 non-null float32\n",
      "secondarydiagnosisnonicd9     100000 non-null float32\n",
      "discharged                    100000 non-null datetime64[ns]\n",
      "lengthofstay                  100000 non-null float32\n",
      "dtypes: datetime64[ns](2), float32(23), int64(3)\n",
      "memory usage: 12.6 MB\n"
     ]
    }
   ],
   "source": [
    "LOS.info()"
   ]
  },
  {
   "cell_type": "markdown",
   "metadata": {},
   "source": [
    "### How to deal with dates"
   ]
  },
  {
   "cell_type": "markdown",
   "metadata": {},
   "source": [
    "> When faced with problems where the time of day, day of week, closeness to holidays and other date information seems relevant, one can automatically add new features based on the datetime columns.\n",
    "\n",
    "> For example ['year', 'month', 'week', 'day', 'dayofweek', 'dayofyear', 'is_month_end', 'is_month_start', 'is_quarter_end', 'is_quarter_start', 'is_year_end', 'is_year_start']"
   ]
  },
  {
   "cell_type": "code",
   "execution_count": 79,
   "metadata": {},
   "outputs": [
    {
     "data": {
      "text/plain": [
       "0    2012\n",
       "1    2012\n",
       "2    2012\n",
       "3    2012\n",
       "4    2012\n",
       "Name: vdate, dtype: int64"
      ]
     },
     "execution_count": 79,
     "metadata": {},
     "output_type": "execute_result"
    }
   ],
   "source": [
    "LOS['vdate'].dt.year[:5]"
   ]
  },
  {
   "cell_type": "code",
   "execution_count": 80,
   "metadata": {},
   "outputs": [
    {
     "data": {
      "text/plain": [
       "0    2\n",
       "1    5\n",
       "2    5\n",
       "3    3\n",
       "4    3\n",
       "Name: vdate, dtype: int64"
      ]
     },
     "execution_count": 80,
     "metadata": {},
     "output_type": "execute_result"
    }
   ],
   "source": [
    "LOS_enc['vdate'].dt.dayofweek[:5]"
   ]
  },
  {
   "cell_type": "code",
   "execution_count": 81,
   "metadata": {},
   "outputs": [
    {
     "data": {
      "text/plain": [
       "0    False\n",
       "1    False\n",
       "2    False\n",
       "3    False\n",
       "4    False\n",
       "Name: vdate, dtype: bool"
      ]
     },
     "execution_count": 81,
     "metadata": {},
     "output_type": "execute_result"
    }
   ],
   "source": [
    "LOS_enc['vdate'].dt.is_month_end[:5]"
   ]
  },
  {
   "cell_type": "markdown",
   "metadata": {},
   "source": [
    "**We'll guess that the dates don't matter a lot for predicting the hopsital length of stay**, and drop this information from our data:"
   ]
  },
  {
   "cell_type": "code",
   "execution_count": 82,
   "metadata": {},
   "outputs": [],
   "source": [
    "LOS = LOS.drop(dates, axis=1)"
   ]
  },
  {
   "cell_type": "code",
   "execution_count": 83,
   "metadata": {},
   "outputs": [
    {
     "data": {
      "text/html": [
       "<div>\n",
       "<style scoped>\n",
       "    .dataframe tbody tr th:only-of-type {\n",
       "        vertical-align: middle;\n",
       "    }\n",
       "\n",
       "    .dataframe tbody tr th {\n",
       "        vertical-align: top;\n",
       "    }\n",
       "\n",
       "    .dataframe thead th {\n",
       "        text-align: right;\n",
       "    }\n",
       "</style>\n",
       "<table border=\"1\" class=\"dataframe\">\n",
       "  <thead>\n",
       "    <tr style=\"text-align: right;\">\n",
       "      <th></th>\n",
       "      <th>rcount</th>\n",
       "      <th>gender</th>\n",
       "      <th>facid</th>\n",
       "      <th>eid</th>\n",
       "      <th>dialysisrenalendstage</th>\n",
       "      <th>asthma</th>\n",
       "      <th>irondef</th>\n",
       "      <th>pneum</th>\n",
       "      <th>substancedependence</th>\n",
       "      <th>psychologicaldisordermajor</th>\n",
       "      <th>depress</th>\n",
       "      <th>psychother</th>\n",
       "      <th>fibrosisandother</th>\n",
       "      <th>malnutrition</th>\n",
       "      <th>hemo</th>\n",
       "      <th>hematocrit</th>\n",
       "      <th>neutrophils</th>\n",
       "      <th>sodium</th>\n",
       "      <th>glucose</th>\n",
       "      <th>bloodureanitro</th>\n",
       "      <th>creatinine</th>\n",
       "      <th>bmi</th>\n",
       "      <th>pulse</th>\n",
       "      <th>respiration</th>\n",
       "      <th>secondarydiagnosisnonicd9</th>\n",
       "      <th>lengthofstay</th>\n",
       "    </tr>\n",
       "  </thead>\n",
       "  <tbody>\n",
       "    <tr>\n",
       "      <th>0</th>\n",
       "      <td>0</td>\n",
       "      <td>0</td>\n",
       "      <td>1</td>\n",
       "      <td>1.0</td>\n",
       "      <td>0.0</td>\n",
       "      <td>0.0</td>\n",
       "      <td>0.0</td>\n",
       "      <td>0.0</td>\n",
       "      <td>0.0</td>\n",
       "      <td>0.0</td>\n",
       "      <td>0.0</td>\n",
       "      <td>0.0</td>\n",
       "      <td>0.0</td>\n",
       "      <td>0.0</td>\n",
       "      <td>0.0</td>\n",
       "      <td>11.5</td>\n",
       "      <td>14.20</td>\n",
       "      <td>140.361130</td>\n",
       "      <td>192.476913</td>\n",
       "      <td>12.0</td>\n",
       "      <td>1.390722</td>\n",
       "      <td>30.432417</td>\n",
       "      <td>96.0</td>\n",
       "      <td>6.5</td>\n",
       "      <td>4.0</td>\n",
       "      <td>3.0</td>\n",
       "    </tr>\n",
       "    <tr>\n",
       "      <th>1</th>\n",
       "      <td>5</td>\n",
       "      <td>0</td>\n",
       "      <td>0</td>\n",
       "      <td>2.0</td>\n",
       "      <td>0.0</td>\n",
       "      <td>0.0</td>\n",
       "      <td>0.0</td>\n",
       "      <td>0.0</td>\n",
       "      <td>0.0</td>\n",
       "      <td>0.0</td>\n",
       "      <td>0.0</td>\n",
       "      <td>0.0</td>\n",
       "      <td>0.0</td>\n",
       "      <td>0.0</td>\n",
       "      <td>0.0</td>\n",
       "      <td>9.0</td>\n",
       "      <td>4.10</td>\n",
       "      <td>136.731689</td>\n",
       "      <td>94.078506</td>\n",
       "      <td>8.0</td>\n",
       "      <td>0.943164</td>\n",
       "      <td>28.460516</td>\n",
       "      <td>61.0</td>\n",
       "      <td>6.5</td>\n",
       "      <td>1.0</td>\n",
       "      <td>7.0</td>\n",
       "    </tr>\n",
       "    <tr>\n",
       "      <th>2</th>\n",
       "      <td>1</td>\n",
       "      <td>0</td>\n",
       "      <td>1</td>\n",
       "      <td>3.0</td>\n",
       "      <td>0.0</td>\n",
       "      <td>0.0</td>\n",
       "      <td>0.0</td>\n",
       "      <td>0.0</td>\n",
       "      <td>0.0</td>\n",
       "      <td>0.0</td>\n",
       "      <td>0.0</td>\n",
       "      <td>0.0</td>\n",
       "      <td>0.0</td>\n",
       "      <td>0.0</td>\n",
       "      <td>0.0</td>\n",
       "      <td>8.4</td>\n",
       "      <td>8.90</td>\n",
       "      <td>133.058517</td>\n",
       "      <td>130.530518</td>\n",
       "      <td>12.0</td>\n",
       "      <td>1.065750</td>\n",
       "      <td>28.843811</td>\n",
       "      <td>64.0</td>\n",
       "      <td>6.5</td>\n",
       "      <td>2.0</td>\n",
       "      <td>3.0</td>\n",
       "    </tr>\n",
       "    <tr>\n",
       "      <th>3</th>\n",
       "      <td>0</td>\n",
       "      <td>0</td>\n",
       "      <td>0</td>\n",
       "      <td>4.0</td>\n",
       "      <td>0.0</td>\n",
       "      <td>0.0</td>\n",
       "      <td>0.0</td>\n",
       "      <td>0.0</td>\n",
       "      <td>0.0</td>\n",
       "      <td>0.0</td>\n",
       "      <td>0.0</td>\n",
       "      <td>0.0</td>\n",
       "      <td>0.0</td>\n",
       "      <td>0.0</td>\n",
       "      <td>0.0</td>\n",
       "      <td>11.9</td>\n",
       "      <td>9.40</td>\n",
       "      <td>138.994019</td>\n",
       "      <td>163.377029</td>\n",
       "      <td>12.0</td>\n",
       "      <td>0.906862</td>\n",
       "      <td>27.959007</td>\n",
       "      <td>76.0</td>\n",
       "      <td>6.5</td>\n",
       "      <td>1.0</td>\n",
       "      <td>1.0</td>\n",
       "    </tr>\n",
       "    <tr>\n",
       "      <th>4</th>\n",
       "      <td>0</td>\n",
       "      <td>0</td>\n",
       "      <td>4</td>\n",
       "      <td>5.0</td>\n",
       "      <td>0.0</td>\n",
       "      <td>0.0</td>\n",
       "      <td>0.0</td>\n",
       "      <td>1.0</td>\n",
       "      <td>0.0</td>\n",
       "      <td>1.0</td>\n",
       "      <td>0.0</td>\n",
       "      <td>0.0</td>\n",
       "      <td>0.0</td>\n",
       "      <td>0.0</td>\n",
       "      <td>0.0</td>\n",
       "      <td>9.1</td>\n",
       "      <td>9.05</td>\n",
       "      <td>138.634842</td>\n",
       "      <td>94.886658</td>\n",
       "      <td>11.5</td>\n",
       "      <td>1.242854</td>\n",
       "      <td>30.258926</td>\n",
       "      <td>67.0</td>\n",
       "      <td>5.6</td>\n",
       "      <td>2.0</td>\n",
       "      <td>4.0</td>\n",
       "    </tr>\n",
       "  </tbody>\n",
       "</table>\n",
       "</div>"
      ],
      "text/plain": [
       "   rcount  gender  facid  eid  dialysisrenalendstage  asthma  irondef  pneum  \\\n",
       "0       0       0      1  1.0                    0.0     0.0      0.0    0.0   \n",
       "1       5       0      0  2.0                    0.0     0.0      0.0    0.0   \n",
       "2       1       0      1  3.0                    0.0     0.0      0.0    0.0   \n",
       "3       0       0      0  4.0                    0.0     0.0      0.0    0.0   \n",
       "4       0       0      4  5.0                    0.0     0.0      0.0    1.0   \n",
       "\n",
       "   substancedependence  psychologicaldisordermajor  depress  psychother  \\\n",
       "0                  0.0                         0.0      0.0         0.0   \n",
       "1                  0.0                         0.0      0.0         0.0   \n",
       "2                  0.0                         0.0      0.0         0.0   \n",
       "3                  0.0                         0.0      0.0         0.0   \n",
       "4                  0.0                         1.0      0.0         0.0   \n",
       "\n",
       "   fibrosisandother  malnutrition  hemo  hematocrit  neutrophils      sodium  \\\n",
       "0               0.0           0.0   0.0        11.5        14.20  140.361130   \n",
       "1               0.0           0.0   0.0         9.0         4.10  136.731689   \n",
       "2               0.0           0.0   0.0         8.4         8.90  133.058517   \n",
       "3               0.0           0.0   0.0        11.9         9.40  138.994019   \n",
       "4               0.0           0.0   0.0         9.1         9.05  138.634842   \n",
       "\n",
       "      glucose  bloodureanitro  creatinine        bmi  pulse  respiration  \\\n",
       "0  192.476913            12.0    1.390722  30.432417   96.0          6.5   \n",
       "1   94.078506             8.0    0.943164  28.460516   61.0          6.5   \n",
       "2  130.530518            12.0    1.065750  28.843811   64.0          6.5   \n",
       "3  163.377029            12.0    0.906862  27.959007   76.0          6.5   \n",
       "4   94.886658            11.5    1.242854  30.258926   67.0          5.6   \n",
       "\n",
       "   secondarydiagnosisnonicd9  lengthofstay  \n",
       "0                        4.0           3.0  \n",
       "1                        1.0           7.0  \n",
       "2                        2.0           3.0  \n",
       "3                        1.0           1.0  \n",
       "4                        2.0           4.0  "
      ]
     },
     "execution_count": 83,
     "metadata": {},
     "output_type": "execute_result"
    }
   ],
   "source": [
    "LOS.head()"
   ]
  },
  {
   "cell_type": "markdown",
   "metadata": {},
   "source": [
    "## More exploration. Basic plots and correlations."
   ]
  },
  {
   "cell_type": "markdown",
   "metadata": {},
   "source": [
    "### Let's look at some basic plots to get a better feel for the data"
   ]
  },
  {
   "cell_type": "code",
   "execution_count": 84,
   "metadata": {},
   "outputs": [
    {
     "data": {
      "text/plain": [
       "1.0     17979\n",
       "3.0     16068\n",
       "4.0     14822\n",
       "2.0     12825\n",
       "5.0     12116\n",
       "6.0     10362\n",
       "7.0      7263\n",
       "8.0      4652\n",
       "9.0      2184\n",
       "10.0     1000\n",
       "11.0      460\n",
       "12.0      137\n",
       "13.0       75\n",
       "14.0       31\n",
       "15.0       16\n",
       "16.0        6\n",
       "17.0        4\n",
       "Name: lengthofstay, dtype: int64"
      ]
     },
     "execution_count": 84,
     "metadata": {},
     "output_type": "execute_result"
    }
   ],
   "source": [
    "LOS_value_count = LOS['lengthofstay'].value_counts()\n",
    "LOS_value_count"
   ]
  },
  {
   "cell_type": "code",
   "execution_count": 85,
   "metadata": {},
   "outputs": [
    {
     "data": {
      "image/png": "[encoded data removed]",
      "text/plain": [
       "<Figure size 864x576 with 1 Axes>"
      ]
     },
     "metadata": {
      "needs_background": "light"
     },
     "output_type": "display_data"
    }
   ],
   "source": [
    "LOS_value_count.plot.barh(figsize=(12,8))\n",
    "plt.show()"
   ]
  },
  {
   "cell_type": "markdown",
   "metadata": {},
   "source": [
    "Most of the stays are pretty short. "
   ]
  },
  {
   "cell_type": "markdown",
   "metadata": {},
   "source": [
    "The average length of stay is"
   ]
  },
  {
   "cell_type": "code",
   "execution_count": 86,
   "metadata": {},
   "outputs": [
    {
     "data": {
      "text/plain": [
       "4.00103"
      ]
     },
     "execution_count": 86,
     "metadata": {},
     "output_type": "execute_result"
    }
   ],
   "source": [
    "np.mean(LOS['lengthofstay'])"
   ]
  },
  {
   "cell_type": "markdown",
   "metadata": {},
   "source": [
    "What's the gender distribution?"
   ]
  },
  {
   "cell_type": "code",
   "execution_count": 87,
   "metadata": {},
   "outputs": [
    {
     "data": {
      "image/png": "[encoded data removed]",
      "text/plain": [
       "<Figure size 432x288 with 1 Axes>"
      ]
     },
     "metadata": {
      "needs_background": "light"
     },
     "output_type": "display_data"
    }
   ],
   "source": [
    "gender_counts = pd.value_counts(LOS['gender'])\n",
    "gender_counts.plot.bar()\n",
    "plt.show()"
   ]
  },
  {
   "cell_type": "markdown",
   "metadata": {},
   "source": [
    "Pretty even."
   ]
  },
  {
   "cell_type": "markdown",
   "metadata": {},
   "source": [
    "Do males or females have different lengths of stay?"
   ]
  },
  {
   "cell_type": "code",
   "execution_count": 88,
   "metadata": {},
   "outputs": [
    {
     "data": {
      "image/png": "[encoded data removed]",
      "text/plain": [
       "<Figure size 432x288 with 1 Axes>"
      ]
     },
     "metadata": {
      "needs_background": "light"
     },
     "output_type": "display_data"
    }
   ],
   "source": [
    "ax = sns.boxplot(x='gender', y='lengthofstay', data=LOS)"
   ]
  },
  {
   "cell_type": "markdown",
   "metadata": {},
   "source": [
    "Seems like the spread is slightly higher for men. The mean length of stay is similar, but the spread us larger for men. "
   ]
  },
  {
   "cell_type": "markdown",
   "metadata": {},
   "source": [
    "### How do the numerical features correlate to the length of stay"
   ]
  },
  {
   "cell_type": "code",
   "execution_count": 89,
   "metadata": {},
   "outputs": [],
   "source": [
    "correlation_matrix = LOS.corr()"
   ]
  },
  {
   "cell_type": "code",
   "execution_count": 90,
   "metadata": {},
   "outputs": [
    {
     "data": {
      "text/plain": [
       "lengthofstay                  1.000000\n",
       "rcount                        0.749514\n",
       "facid                         0.360356\n",
       "psychologicaldisordermajor    0.286724\n",
       "hemo                          0.217696\n",
       "irondef                       0.193838\n",
       "psychother                    0.191695\n",
       "malnutrition                  0.174397\n",
       "dialysisrenalendstage         0.169695\n",
       "bloodureanitro                0.148290\n",
       "substancedependence           0.147886\n",
       "pneum                         0.135461\n",
       "depress                       0.121408\n",
       "asthma                        0.082005\n",
       "gender                        0.069575\n",
       "fibrosisandother              0.062131\n",
       "pulse                         0.006683\n",
       "secondarydiagnosisnonicd9     0.006540\n",
       "eid                           0.001543\n",
       "bmi                           0.000132\n",
       "glucose                      -0.003447\n",
       "sodium                       -0.003546\n",
       "creatinine                   -0.004026\n",
       "neutrophils                  -0.010658\n",
       "respiration                  -0.022291\n",
       "hematocrit                   -0.064016\n",
       "Name: lengthofstay, dtype: float64"
      ]
     },
     "execution_count": 90,
     "metadata": {},
     "output_type": "execute_result"
    }
   ],
   "source": [
    "correlation_matrix['lengthofstay'].sort_values(ascending=False)"
   ]
  },
  {
   "cell_type": "markdown",
   "metadata": {},
   "source": [
    "Seems like the flag for major psychological disorder during encounter is highly correlated to the length of stay."
   ]
  },
  {
   "cell_type": "markdown",
   "metadata": {},
   "source": [
    "Before we explore further, let's create a test set. "
   ]
  },
  {
   "cell_type": "markdown",
   "metadata": {},
   "source": [
    "## Create X, y, and a test set"
   ]
  },
  {
   "cell_type": "code",
   "execution_count": 91,
   "metadata": {},
   "outputs": [],
   "source": [
    "X = LOS.drop('lengthofstay', axis=1)\n",
    "y = LOS['lengthofstay']"
   ]
  },
  {
   "cell_type": "code",
   "execution_count": 92,
   "metadata": {},
   "outputs": [],
   "source": [
    "from sklearn.model_selection import train_test_split"
   ]
  },
  {
   "cell_type": "markdown",
   "metadata": {},
   "source": [
    "We stratify according to `y` since there are so few longer stays:"
   ]
  },
  {
   "cell_type": "code",
   "execution_count": 93,
   "metadata": {},
   "outputs": [],
   "source": [
    "X_train, X_test, y_train, y_test = train_test_split(X, y, stratify=y, test_size=0.2, random_state=42)"
   ]
  },
  {
   "cell_type": "code",
   "execution_count": 94,
   "metadata": {},
   "outputs": [
    {
     "data": {
      "text/plain": [
       "(80000, 20000)"
      ]
     },
     "execution_count": 94,
     "metadata": {},
     "output_type": "execute_result"
    }
   ],
   "source": [
    "len(X_train), len(X_test)"
   ]
  },
  {
   "cell_type": "code",
   "execution_count": 95,
   "metadata": {},
   "outputs": [
    {
     "data": {
      "text/plain": [
       "(4.0010877, 4.0008)"
      ]
     },
     "execution_count": 95,
     "metadata": {},
     "output_type": "execute_result"
    }
   ],
   "source": [
    "np.mean(y_train), np.mean(y_test)"
   ]
  },
  {
   "cell_type": "code",
   "execution_count": 96,
   "metadata": {},
   "outputs": [
    {
     "data": {
      "text/plain": [
       "31236    8.0\n",
       "18130    7.0\n",
       "31911    5.0\n",
       "75383    5.0\n",
       "48999    7.0\n",
       "Name: lengthofstay, dtype: float32"
      ]
     },
     "execution_count": 96,
     "metadata": {},
     "output_type": "execute_result"
    }
   ],
   "source": [
    "y_train[:5]"
   ]
  },
  {
   "cell_type": "code",
   "execution_count": 97,
   "metadata": {},
   "outputs": [
    {
     "data": {
      "text/plain": [
       "1.0     3596\n",
       "3.0     3214\n",
       "4.0     2964\n",
       "2.0     2565\n",
       "5.0     2423\n",
       "6.0     2072\n",
       "7.0     1453\n",
       "8.0      931\n",
       "9.0      437\n",
       "10.0     200\n",
       "11.0      92\n",
       "12.0      27\n",
       "13.0      15\n",
       "14.0       6\n",
       "15.0       3\n",
       "16.0       1\n",
       "17.0       1\n",
       "Name: lengthofstay, dtype: int64"
      ]
     },
     "execution_count": 97,
     "metadata": {},
     "output_type": "execute_result"
    }
   ],
   "source": [
    "y_test.value_counts()"
   ]
  },
  {
   "cell_type": "markdown",
   "metadata": {},
   "source": [
    "## Machine learning"
   ]
  },
  {
   "cell_type": "markdown",
   "metadata": {},
   "source": [
    "We'll measure the performance of our models using mean absolute error:"
   ]
  },
  {
   "cell_type": "code",
   "execution_count": 98,
   "metadata": {},
   "outputs": [],
   "source": [
    "from sklearn.metrics import mean_absolute_error"
   ]
  },
  {
   "cell_type": "markdown",
   "metadata": {},
   "source": [
    "Let's try a random forest first, since it's very quick and will give us an indication of the difficulty of the task."
   ]
  },
  {
   "cell_type": "markdown",
   "metadata": {},
   "source": [
    "### Random forest"
   ]
  },
  {
   "cell_type": "code",
   "execution_count": 99,
   "metadata": {},
   "outputs": [],
   "source": [
    "from sklearn.ensemble import RandomForestRegressor"
   ]
  },
  {
   "cell_type": "code",
   "execution_count": 100,
   "metadata": {},
   "outputs": [],
   "source": [
    "rf_reg = RandomForestRegressor(n_estimators=100, random_state=42, n_jobs=-1)"
   ]
  },
  {
   "cell_type": "code",
   "execution_count": 101,
   "metadata": {},
   "outputs": [
    {
     "data": {
      "text/plain": [
       "RandomForestRegressor(bootstrap=True, criterion='mse', max_depth=None,\n",
       "           max_features='auto', max_leaf_nodes=None,\n",
       "           min_impurity_decrease=0.0, min_impurity_split=None,\n",
       "           min_samples_leaf=1, min_samples_split=2,\n",
       "           min_weight_fraction_leaf=0.0, n_estimators=100, n_jobs=-1,\n",
       "           oob_score=False, random_state=42, verbose=0, warm_start=False)"
      ]
     },
     "execution_count": 101,
     "metadata": {},
     "output_type": "execute_result"
    }
   ],
   "source": [
    "rf_reg.fit(X_train, y_train)"
   ]
  },
  {
   "cell_type": "code",
   "execution_count": 102,
   "metadata": {},
   "outputs": [],
   "source": [
    "y_pred = rf_reg.predict(X_test)"
   ]
  },
  {
   "cell_type": "code",
   "execution_count": 103,
   "metadata": {},
   "outputs": [
    {
     "data": {
      "text/plain": [
       "0.387402"
      ]
     },
     "execution_count": 103,
     "metadata": {},
     "output_type": "execute_result"
    }
   ],
   "source": [
    "mean_absolute_error(y_test, y_pred)"
   ]
  },
  {
   "cell_type": "code",
   "execution_count": 104,
   "metadata": {},
   "outputs": [],
   "source": [
    "importances = rf_reg.feature_importances_"
   ]
  },
  {
   "cell_type": "code",
   "execution_count": 105,
   "metadata": {},
   "outputs": [],
   "source": [
    "indices = np.argsort(importances)[::-1]"
   ]
  },
  {
   "cell_type": "code",
   "execution_count": 106,
   "metadata": {
    "scrolled": false
   },
   "outputs": [
    {
     "name": "stdout",
     "output_type": "stream",
     "text": [
      "rcount: 0.57\n",
      "facid: 0.15\n",
      "hematocrit: 0.05\n",
      "respiration: 0.03\n",
      "bmi: 0.03\n",
      "creatinine: 0.03\n",
      "glucose: 0.03\n",
      "sodium: 0.02\n",
      "pulse: 0.02\n",
      "hemo: 0.02\n",
      "bloodureanitro: 0.02\n",
      "neutrophils: 0.02\n",
      "psychologicaldisordermajor: 0.01\n",
      "eid: 0.01\n",
      "dialysisrenalendstage: 0.0\n",
      "secondarydiagnosisnonicd9: 0.0\n",
      "irondef: 0.0\n",
      "depress: 0.0\n",
      "substancedependence: 0.0\n",
      "pneum: 0.0\n",
      "asthma: 0.0\n",
      "malnutrition: 0.0\n",
      "psychother: 0.0\n",
      "gender: 0.0\n",
      "fibrosisandother: 0.0\n"
     ]
    }
   ],
   "source": [
    "for f in range(len(importances)): \n",
    "    print(f'{X_test.columns[indices[f]]}: {np.round(importances[indices[f]],2)}')"
   ]
  },
  {
   "cell_type": "code",
   "execution_count": 107,
   "metadata": {},
   "outputs": [
    {
     "data": {
      "text/html": [
       "<div>\n",
       "<style scoped>\n",
       "    .dataframe tbody tr th:only-of-type {\n",
       "        vertical-align: middle;\n",
       "    }\n",
       "\n",
       "    .dataframe tbody tr th {\n",
       "        vertical-align: top;\n",
       "    }\n",
       "\n",
       "    .dataframe thead th {\n",
       "        text-align: right;\n",
       "    }\n",
       "</style>\n",
       "<table border=\"1\" class=\"dataframe\">\n",
       "  <thead>\n",
       "    <tr style=\"text-align: right;\">\n",
       "      <th></th>\n",
       "      <th>Index</th>\n",
       "      <th>Data fields</th>\n",
       "      <th>Type</th>\n",
       "      <th>Descriptions</th>\n",
       "    </tr>\n",
       "  </thead>\n",
       "  <tbody>\n",
       "    <tr>\n",
       "      <th>0</th>\n",
       "      <td>NaN</td>\n",
       "      <td>LengthOfStay</td>\n",
       "      <td>NaN</td>\n",
       "      <td>NaN</td>\n",
       "    </tr>\n",
       "    <tr>\n",
       "      <th>1</th>\n",
       "      <td>1.0</td>\n",
       "      <td>eid</td>\n",
       "      <td>Integer</td>\n",
       "      <td>Unique Id of the hospital admission</td>\n",
       "    </tr>\n",
       "    <tr>\n",
       "      <th>2</th>\n",
       "      <td>2.0</td>\n",
       "      <td>vdate</td>\n",
       "      <td>String</td>\n",
       "      <td>Visit date</td>\n",
       "    </tr>\n",
       "    <tr>\n",
       "      <th>3</th>\n",
       "      <td>3.0</td>\n",
       "      <td>rcount</td>\n",
       "      <td>Integer</td>\n",
       "      <td>Number of readmissions within last 180 days</td>\n",
       "    </tr>\n",
       "    <tr>\n",
       "      <th>4</th>\n",
       "      <td>4.0</td>\n",
       "      <td>gender</td>\n",
       "      <td>String</td>\n",
       "      <td>Gender of the patient\\nM or F</td>\n",
       "    </tr>\n",
       "    <tr>\n",
       "      <th>5</th>\n",
       "      <td>5.0</td>\n",
       "      <td>dialysisrenalendstage</td>\n",
       "      <td>String</td>\n",
       "      <td>Flag for renal disease during encounter</td>\n",
       "    </tr>\n",
       "    <tr>\n",
       "      <th>6</th>\n",
       "      <td>6.0</td>\n",
       "      <td>asthma</td>\n",
       "      <td>String</td>\n",
       "      <td>Flag for asthma during encounter</td>\n",
       "    </tr>\n",
       "    <tr>\n",
       "      <th>7</th>\n",
       "      <td>7.0</td>\n",
       "      <td>irondef</td>\n",
       "      <td>String</td>\n",
       "      <td>Flag for iron deficiency during encounter</td>\n",
       "    </tr>\n",
       "    <tr>\n",
       "      <th>8</th>\n",
       "      <td>8.0</td>\n",
       "      <td>pneum</td>\n",
       "      <td>String</td>\n",
       "      <td>Flag for pneumonia during encounter</td>\n",
       "    </tr>\n",
       "    <tr>\n",
       "      <th>9</th>\n",
       "      <td>9.0</td>\n",
       "      <td>substancedependence</td>\n",
       "      <td>String</td>\n",
       "      <td>Flag for substance dependence during encounter</td>\n",
       "    </tr>\n",
       "    <tr>\n",
       "      <th>10</th>\n",
       "      <td>10.0</td>\n",
       "      <td>psychologicaldisordermajor</td>\n",
       "      <td>String</td>\n",
       "      <td>Flag for major psychological disorder during encounter</td>\n",
       "    </tr>\n",
       "    <tr>\n",
       "      <th>11</th>\n",
       "      <td>11.0</td>\n",
       "      <td>depress</td>\n",
       "      <td>String</td>\n",
       "      <td>Flag for depression during encounter</td>\n",
       "    </tr>\n",
       "    <tr>\n",
       "      <th>12</th>\n",
       "      <td>12.0</td>\n",
       "      <td>psychother</td>\n",
       "      <td>String</td>\n",
       "      <td>Flag for other psychological disorder during encounter</td>\n",
       "    </tr>\n",
       "    <tr>\n",
       "      <th>13</th>\n",
       "      <td>13.0</td>\n",
       "      <td>fibrosisandother</td>\n",
       "      <td>String</td>\n",
       "      <td>Flag for fibrosis during encounter</td>\n",
       "    </tr>\n",
       "    <tr>\n",
       "      <th>14</th>\n",
       "      <td>14.0</td>\n",
       "      <td>malnutrition</td>\n",
       "      <td>String</td>\n",
       "      <td>Flag for malnutrituion during encounter</td>\n",
       "    </tr>\n",
       "    <tr>\n",
       "      <th>15</th>\n",
       "      <td>15.0</td>\n",
       "      <td>hemo</td>\n",
       "      <td>Float</td>\n",
       "      <td>Flag for blood disorder during encounter</td>\n",
       "    </tr>\n",
       "    <tr>\n",
       "      <th>16</th>\n",
       "      <td>16.0</td>\n",
       "      <td>hematocritic</td>\n",
       "      <td>Float</td>\n",
       "      <td>Average hematocritic value during encounter (g/dL)</td>\n",
       "    </tr>\n",
       "    <tr>\n",
       "      <th>17</th>\n",
       "      <td>17.0</td>\n",
       "      <td>neutrophils</td>\n",
       "      <td>Float</td>\n",
       "      <td>Average neutrophils value during encounter  (cells/microL)</td>\n",
       "    </tr>\n",
       "    <tr>\n",
       "      <th>18</th>\n",
       "      <td>18.0</td>\n",
       "      <td>sodium</td>\n",
       "      <td>Float</td>\n",
       "      <td>Average sodium value during encounter (mmol/L)</td>\n",
       "    </tr>\n",
       "    <tr>\n",
       "      <th>19</th>\n",
       "      <td>19.0</td>\n",
       "      <td>glucose</td>\n",
       "      <td>Float</td>\n",
       "      <td>Average sodium value during encounter (mmol/L)</td>\n",
       "    </tr>\n",
       "    <tr>\n",
       "      <th>20</th>\n",
       "      <td>20.0</td>\n",
       "      <td>bloodureanitro</td>\n",
       "      <td>Float</td>\n",
       "      <td>Average blood urea nitrogen value during encounter (mg/dL)</td>\n",
       "    </tr>\n",
       "    <tr>\n",
       "      <th>21</th>\n",
       "      <td>21.0</td>\n",
       "      <td>creatinine</td>\n",
       "      <td>Float</td>\n",
       "      <td>Average creatinine value during encounter (mg/dL)</td>\n",
       "    </tr>\n",
       "    <tr>\n",
       "      <th>22</th>\n",
       "      <td>22.0</td>\n",
       "      <td>bmi</td>\n",
       "      <td>Float</td>\n",
       "      <td>Average BMI during encounter (kg/m2)</td>\n",
       "    </tr>\n",
       "    <tr>\n",
       "      <th>23</th>\n",
       "      <td>23.0</td>\n",
       "      <td>pulse</td>\n",
       "      <td>Float</td>\n",
       "      <td>Average pulse during encounter  (beats/m)</td>\n",
       "    </tr>\n",
       "    <tr>\n",
       "      <th>24</th>\n",
       "      <td>24.0</td>\n",
       "      <td>respiration</td>\n",
       "      <td>Float</td>\n",
       "      <td>Average respiration during encounter  (breaths/m)</td>\n",
       "    </tr>\n",
       "    <tr>\n",
       "      <th>25</th>\n",
       "      <td>25.0</td>\n",
       "      <td>secondarydiagnosisnonicd9</td>\n",
       "      <td>Integer</td>\n",
       "      <td>Flag for whether a non ICD 9 formatted diagnosis was coded as a secondary diagnosis</td>\n",
       "    </tr>\n",
       "    <tr>\n",
       "      <th>26</th>\n",
       "      <td>26.0</td>\n",
       "      <td>discharged</td>\n",
       "      <td>String</td>\n",
       "      <td>Date of discharge</td>\n",
       "    </tr>\n",
       "    <tr>\n",
       "      <th>27</th>\n",
       "      <td>27.0</td>\n",
       "      <td>facid</td>\n",
       "      <td>Integer</td>\n",
       "      <td>Facility ID at which the encounter occurred</td>\n",
       "    </tr>\n",
       "    <tr>\n",
       "      <th>28</th>\n",
       "      <td>28.0</td>\n",
       "      <td>lengthofstay</td>\n",
       "      <td>Integer</td>\n",
       "      <td>Length of stay for the encounter</td>\n",
       "    </tr>\n",
       "  </tbody>\n",
       "</table>\n",
       "</div>"
      ],
      "text/plain": [
       "    Index                                       Data fields      Type  \\\n",
       "0     NaN                                      LengthOfStay       NaN   \n",
       "1     1.0                                               eid   Integer   \n",
       "2     2.0                                             vdate    String   \n",
       "3     3.0                                            rcount  Integer    \n",
       "4     4.0                                            gender    String   \n",
       "5     5.0                       dialysisrenalendstage          String   \n",
       "6     6.0                           asthma                     String   \n",
       "7     7.0                            irondef                   String   \n",
       "8     8.0                         pneum                        String   \n",
       "9     9.0                            substancedependence       String   \n",
       "10   10.0                       psychologicaldisordermajor     String   \n",
       "11   11.0                              depress                 String   \n",
       "12   12.0                        psychother                    String   \n",
       "13   13.0                      fibrosisandother                String   \n",
       "14   14.0                            malnutrition              String   \n",
       "15   15.0                                        hemo           Float   \n",
       "16   16.0                      hematocritic                     Float   \n",
       "17   17.0                          neutrophils                  Float   \n",
       "18   18.0                                          sodium       Float   \n",
       "19   19.0                         glucose                       Float   \n",
       "20   20.0                                bloodureanitro         Float   \n",
       "21   21.0                          creatinine                   Float   \n",
       "22   22.0                                      bmi              Float   \n",
       "23   23.0  pulse                                                Float   \n",
       "24   24.0                                     respiration       Float   \n",
       "25   25.0                   secondarydiagnosisnonicd9         Integer   \n",
       "26   26.0                       discharged                     String   \n",
       "27   27.0                        facid                        Integer   \n",
       "28   28.0                              lengthofstay           Integer   \n",
       "\n",
       "                                                                               Descriptions  \n",
       "0                                                                                       NaN  \n",
       "1                                                       Unique Id of the hospital admission  \n",
       "2                                                                                Visit date  \n",
       "3                                               Number of readmissions within last 180 days  \n",
       "4                                                             Gender of the patient\\nM or F  \n",
       "5                                                   Flag for renal disease during encounter  \n",
       "6                                                          Flag for asthma during encounter  \n",
       "7                                                 Flag for iron deficiency during encounter  \n",
       "8                                                       Flag for pneumonia during encounter  \n",
       "9                                            Flag for substance dependence during encounter  \n",
       "10                                   Flag for major psychological disorder during encounter  \n",
       "11                                                     Flag for depression during encounter  \n",
       "12                                  Flag for other psychological disorder during encounter   \n",
       "13                                                       Flag for fibrosis during encounter  \n",
       "14                                                  Flag for malnutrituion during encounter  \n",
       "15                                                Flag for blood disorder during encounter   \n",
       "16                                       Average hematocritic value during encounter (g/dL)  \n",
       "17                               Average neutrophils value during encounter  (cells/microL)  \n",
       "18                                           Average sodium value during encounter (mmol/L)  \n",
       "19                                           Average sodium value during encounter (mmol/L)  \n",
       "20                               Average blood urea nitrogen value during encounter (mg/dL)  \n",
       "21                                        Average creatinine value during encounter (mg/dL)  \n",
       "22                                                     Average BMI during encounter (kg/m2)  \n",
       "23                                                Average pulse during encounter  (beats/m)  \n",
       "24                                       Average respiration during encounter  (breaths/m)   \n",
       "25  Flag for whether a non ICD 9 formatted diagnosis was coded as a secondary diagnosis      \n",
       "26                                                                        Date of discharge  \n",
       "27                                              Facility ID at which the encounter occurred  \n",
       "28                                                        Length of stay for the encounter   "
      ]
     },
     "execution_count": 107,
     "metadata": {},
     "output_type": "execute_result"
    }
   ],
   "source": [
    "DATA_DICT"
   ]
  },
  {
   "cell_type": "markdown",
   "metadata": {},
   "source": [
    "The two most important features by far is the number of readmissions within the last 180 days, and the facility ID (likely related to the facilities capacities)."
   ]
  },
  {
   "cell_type": "code",
   "execution_count": 108,
   "metadata": {},
   "outputs": [
    {
     "data": {
      "text/html": [
       "<div>\n",
       "<style scoped>\n",
       "    .dataframe tbody tr th:only-of-type {\n",
       "        vertical-align: middle;\n",
       "    }\n",
       "\n",
       "    .dataframe tbody tr th {\n",
       "        vertical-align: top;\n",
       "    }\n",
       "\n",
       "    .dataframe thead th {\n",
       "        text-align: right;\n",
       "    }\n",
       "</style>\n",
       "<table border=\"1\" class=\"dataframe\">\n",
       "  <thead>\n",
       "    <tr style=\"text-align: right;\">\n",
       "      <th></th>\n",
       "      <th>Capacity</th>\n",
       "      <th>Id</th>\n",
       "      <th>Name</th>\n",
       "    </tr>\n",
       "  </thead>\n",
       "  <tbody>\n",
       "    <tr>\n",
       "      <th>0</th>\n",
       "      <td>30</td>\n",
       "      <td>C</td>\n",
       "      <td>General Medicine 3 South</td>\n",
       "    </tr>\n",
       "    <tr>\n",
       "      <th>1</th>\n",
       "      <td>95</td>\n",
       "      <td>E</td>\n",
       "      <td>Behavioral 1 East</td>\n",
       "    </tr>\n",
       "    <tr>\n",
       "      <th>2</th>\n",
       "      <td>75</td>\n",
       "      <td>A</td>\n",
       "      <td>General Medicine 3 West</td>\n",
       "    </tr>\n",
       "    <tr>\n",
       "      <th>3</th>\n",
       "      <td>80</td>\n",
       "      <td>B</td>\n",
       "      <td>Pulmonary 2 West</td>\n",
       "    </tr>\n",
       "    <tr>\n",
       "      <th>4</th>\n",
       "      <td>100</td>\n",
       "      <td>D</td>\n",
       "      <td>Geriatrics 2 East</td>\n",
       "    </tr>\n",
       "  </tbody>\n",
       "</table>\n",
       "</div>"
      ],
      "text/plain": [
       "   Capacity Id                      Name\n",
       "0        30  C  General Medicine 3 South\n",
       "1        95  E         Behavioral 1 East\n",
       "2        75  A   General Medicine 3 West\n",
       "3        80  B          Pulmonary 2 West\n",
       "4       100  D         Geriatrics 2 East"
      ]
     },
     "execution_count": 108,
     "metadata": {},
     "output_type": "execute_result"
    }
   ],
   "source": [
    "METADATA"
   ]
  },
  {
   "cell_type": "markdown",
   "metadata": {},
   "source": [
    "> **Your turn!** Try training a random forest on data where you've dropped these two features."
   ]
  },
  {
   "cell_type": "markdown",
   "metadata": {},
   "source": [
    "## XGBoost"
   ]
  },
  {
   "cell_type": "markdown",
   "metadata": {},
   "source": [
    "Let's try XGBoost. First without any hyperparameter optimization, then with some parameters found by searching through a parameter grid. "
   ]
  },
  {
   "cell_type": "code",
   "execution_count": 109,
   "metadata": {},
   "outputs": [],
   "source": [
    "from xgboost import XGBRegressor"
   ]
  },
  {
   "cell_type": "code",
   "execution_count": 110,
   "metadata": {},
   "outputs": [],
   "source": [
    "# To place XGBoost on the GPU:\n",
    "xgb_reg = XGBRegressor(tree_method='gpu_hist', predictor='gpu_predictor')\n",
    "# On the CPU:\n",
    "#xgb_reg = XGBRegressor()"
   ]
  },
  {
   "cell_type": "code",
   "execution_count": 111,
   "metadata": {},
   "outputs": [
    {
     "data": {
      "text/plain": [
       "XGBRegressor(base_score=0.5, booster='gbtree', colsample_bylevel=1,\n",
       "       colsample_bytree=1, gamma=0, learning_rate=0.1, max_delta_step=0,\n",
       "       max_depth=3, min_child_weight=1, missing=None, n_estimators=100,\n",
       "       n_jobs=1, nthread=None, objective='reg:linear',\n",
       "       predictor='gpu_predictor', random_state=0, reg_alpha=0,\n",
       "       reg_lambda=1, scale_pos_weight=1, seed=None, silent=True,\n",
       "       subsample=1, tree_method='gpu_hist')"
      ]
     },
     "execution_count": 111,
     "metadata": {},
     "output_type": "execute_result"
    }
   ],
   "source": [
    "xgb_reg.fit(X_train, y_train)"
   ]
  },
  {
   "cell_type": "code",
   "execution_count": 112,
   "metadata": {},
   "outputs": [],
   "source": [
    "y_pred_xgb = xgb_reg.predict(X_test)"
   ]
  },
  {
   "cell_type": "code",
   "execution_count": 113,
   "metadata": {},
   "outputs": [
    {
     "data": {
      "text/plain": [
       "0.43389344"
      ]
     },
     "execution_count": 113,
     "metadata": {},
     "output_type": "execute_result"
    }
   ],
   "source": [
    "mean_absolute_error(y_test, y_pred_xgb)"
   ]
  },
  {
   "cell_type": "markdown",
   "metadata": {},
   "source": [
    "Worse than our random forest.. But that's common for XGBoost: it's very dependent on hyperparameter tuning!"
   ]
  },
  {
   "cell_type": "code",
   "execution_count": 114,
   "metadata": {},
   "outputs": [],
   "source": [
    "xgb_reg = XGBRegressor(\n",
    "    colsample_bytree=0.6,\n",
    "    max_depth=8,\n",
    "    min_child_weight=10,\n",
    "    tree_method='gpu_hist', predictor='gpu_predictor')"
   ]
  },
  {
   "cell_type": "code",
   "execution_count": 115,
   "metadata": {},
   "outputs": [
    {
     "data": {
      "text/plain": [
       "XGBRegressor(base_score=0.5, booster='gbtree', colsample_bylevel=1,\n",
       "       colsample_bytree=0.6, gamma=0, learning_rate=0.1, max_delta_step=0,\n",
       "       max_depth=8, min_child_weight=10, missing=None, n_estimators=100,\n",
       "       n_jobs=1, nthread=None, objective='reg:linear',\n",
       "       predictor='gpu_predictor', random_state=0, reg_alpha=0,\n",
       "       reg_lambda=1, scale_pos_weight=1, seed=None, silent=True,\n",
       "       subsample=1, tree_method='gpu_hist')"
      ]
     },
     "execution_count": 115,
     "metadata": {},
     "output_type": "execute_result"
    }
   ],
   "source": [
    "xgb_reg.fit(X_train, y_train)"
   ]
  },
  {
   "cell_type": "code",
   "execution_count": 116,
   "metadata": {},
   "outputs": [],
   "source": [
    "y_pred_xgb = xgb_reg.predict(X_test)"
   ]
  },
  {
   "cell_type": "code",
   "execution_count": 117,
   "metadata": {},
   "outputs": [
    {
     "data": {
      "text/plain": [
       "0.33703437"
      ]
     },
     "execution_count": 117,
     "metadata": {},
     "output_type": "execute_result"
    }
   ],
   "source": [
    "mean_absolute_error(y_test, y_pred_xgb)"
   ]
  },
  {
   "cell_type": "markdown",
   "metadata": {},
   "source": [
    "> We'll talk about hyperparameter optimization for XGBoost in the next notebook!"
   ]
  },
  {
   "cell_type": "markdown",
   "metadata": {},
   "source": [
    "What about feature importances?"
   ]
  },
  {
   "cell_type": "code",
   "execution_count": 118,
   "metadata": {},
   "outputs": [],
   "source": [
    "importances = xgb_reg.feature_importances_"
   ]
  },
  {
   "cell_type": "code",
   "execution_count": 119,
   "metadata": {},
   "outputs": [],
   "source": [
    "indices = np.argsort(importances)[::-1]"
   ]
  },
  {
   "cell_type": "code",
   "execution_count": 120,
   "metadata": {
    "scrolled": false
   },
   "outputs": [
    {
     "name": "stdout",
     "output_type": "stream",
     "text": [
      "creatinine: 0.11999999731779099\n",
      "glucose: 0.10000000149011612\n",
      "hematocrit: 0.10000000149011612\n",
      "pulse: 0.09000000357627869\n",
      "bmi: 0.09000000357627869\n",
      "sodium: 0.07999999821186066\n",
      "respiration: 0.07000000029802322\n",
      "neutrophils: 0.07000000029802322\n",
      "bloodureanitro: 0.05999999865889549\n",
      "eid: 0.05000000074505806\n",
      "facid: 0.029999999329447746\n",
      "rcount: 0.019999999552965164\n",
      "psychologicaldisordermajor: 0.019999999552965164\n",
      "hemo: 0.009999999776482582\n",
      "malnutrition: 0.009999999776482582\n",
      "dialysisrenalendstage: 0.009999999776482582\n",
      "secondarydiagnosisnonicd9: 0.009999999776482582\n",
      "substancedependence: 0.009999999776482582\n",
      "irondef: 0.009999999776482582\n",
      "psychother: 0.009999999776482582\n",
      "depress: 0.009999999776482582\n",
      "gender: 0.009999999776482582\n",
      "pneum: 0.009999999776482582\n",
      "asthma: 0.0\n",
      "fibrosisandother: 0.0\n"
     ]
    }
   ],
   "source": [
    "for f in range(len(importances)): \n",
    "    print(f'{X_test.columns[indices[f]]}: {np.round(importances[indices[f]],2)}')"
   ]
  },
  {
   "cell_type": "markdown",
   "metadata": {},
   "source": [
    "# Extra"
   ]
  },
  {
   "cell_type": "markdown",
   "metadata": {},
   "source": [
    "> Go back to the beginning of the course and use XGBoost on all the data sets we've studied, including the housing data from Assignment 1. You'll see that after some hyperparameter tuning, XGBoost will typically outperform all other models we've studied. This is typical. XGBoost is often the best, **except for images** where deep neural networks outperforms them handily. \n",
    "\n",
    "We'll study deep neural networks next, in Part 5, the last part of the course."
   ]
  }
 ],
 "metadata": {
  "kernelspec": {
   "display_name": "DAT158",
   "language": "python",
   "name": "dat158"
  },
  "language_info": {
   "codemirror_mode": {
    "name": "ipython",
    "version": 3
   },
   "file_extension": ".py",
   "mimetype": "text/x-python",
   "name": "python",
   "nbconvert_exporter": "python",
   "pygments_lexer": "ipython3",
   "version": "3.6.6"
  },
  "toc": {
   "base_numbering": 1,
   "nav_menu": {},
   "number_sections": true,
   "sideBar": true,
   "skip_h1_title": false,
   "title_cell": "Table of Contents",
   "title_sidebar": "Contents",
   "toc_cell": false,
   "toc_position": {},
   "toc_section_display": true,
   "toc_window_display": false
  },
  "widgets": {
   "application/vnd.jupyter.widget-state+json": {
    "state": {},
    "version_major": 2,
    "version_minor": 0
   }
  }
 },
 "nbformat": 4,
 "nbformat_minor": 2
}
