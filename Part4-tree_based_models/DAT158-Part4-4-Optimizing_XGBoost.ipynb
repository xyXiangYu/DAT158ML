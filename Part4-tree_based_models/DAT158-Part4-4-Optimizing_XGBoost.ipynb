{
 "cells": [
  {
   "cell_type": "markdown",
   "metadata": {},
   "source": [
    "Alexander S. Lundervold, November 16th, 2018"
   ]
  },
  {
   "cell_type": "markdown",
   "metadata": {},
   "source": [
    "# Introduction"
   ]
  },
  {
   "cell_type": "markdown",
   "metadata": {},
   "source": [
    "In the notebook `DAT158-Part4-3-Gradient_Boosting.ipynb` we learned how to use XGBoost through the Python API. We saw that you can use XGBoost essentially as if it was a Scikit-learn model. "
   ]
  },
  {
   "cell_type": "markdown",
   "metadata": {},
   "source": [
    "As we shall see, using XGBoost without tuning its hyperparameters typically results in an underperforming model. \n",
    "\n",
    "> XGBoost depends heavily on careful choices of hyperparameters"
   ]
  },
  {
   "cell_type": "markdown",
   "metadata": {},
   "source": [
    "In the notebook `DAT158ML/extra/DAT158 - Extra - 1 - Hyperparameter optimization.ipynb` we learned the basics of hyperparameters and how to tune them in scikit-learn by searching and cross-validation, using `GridSearchCV` and `RandomizedSearchCV`."
   ]
  },
  {
   "cell_type": "markdown",
   "metadata": {},
   "source": [
    "These also work for XGBoost, as we'll see below. However:\n",
    "\n",
    "> XGBoost comes with its own powerful and efficient implementation of cross-validation!"
   ]
  },
  {
   "cell_type": "markdown",
   "metadata": {
    "heading_collapsed": true
   },
   "source": [
    "# Setup"
   ]
  },
  {
   "cell_type": "code",
   "execution_count": 1,
   "metadata": {
    "hidden": true
   },
   "outputs": [],
   "source": [
    "%reload_ext autoreload\n",
    "%autoreload 2"
   ]
  },
  {
   "cell_type": "code",
   "execution_count": 2,
   "metadata": {
    "hidden": true
   },
   "outputs": [],
   "source": [
    "%matplotlib inline"
   ]
  },
  {
   "cell_type": "code",
   "execution_count": 3,
   "metadata": {
    "hidden": true
   },
   "outputs": [],
   "source": [
    "from pathlib import Path # Very convenient when working with paths in Python \n",
    "# https://docs.python.org/3.6/library/pathlib.html\n",
    "\n",
    "import numpy as np\n",
    "import pandas as pd\n",
    "import matplotlib.pyplot as plt\n",
    "import matplotlib\n",
    "import sklearn\n",
    "\n",
    "import seaborn as sns # For nicer plots"
   ]
  },
  {
   "cell_type": "code",
   "execution_count": 4,
   "metadata": {
    "hidden": true
   },
   "outputs": [],
   "source": [
    "# To make the notebook reproducible\n",
    "seed = 42\n",
    "np.random.seed(seed)"
   ]
  },
  {
   "cell_type": "markdown",
   "metadata": {
    "heading_collapsed": true
   },
   "source": [
    "# A test case: Hospital length of stay"
   ]
  },
  {
   "cell_type": "markdown",
   "metadata": {
    "hidden": true
   },
   "source": [
    "We'll use the dataset studied in the previous notebook as our case study. "
   ]
  },
  {
   "cell_type": "code",
   "execution_count": 5,
   "metadata": {
    "hidden": true
   },
   "outputs": [],
   "source": [
    "NB_DIR = %pwd\n",
    "NB_DIR = Path(NB_DIR)\n",
    "DATA_DIR = NB_DIR/'data'"
   ]
  },
  {
   "cell_type": "code",
   "execution_count": 6,
   "metadata": {
    "hidden": true
   },
   "outputs": [],
   "source": [
    "# I've placed some data preparation code created in the previous notebook \n",
    "# in the function `prepare_hospital` in `utils.py`. Have a look if you're curious.\n",
    "from utils import prepare_hospital"
   ]
  },
  {
   "cell_type": "code",
   "execution_count": 7,
   "metadata": {
    "hidden": true
   },
   "outputs": [],
   "source": [
    "LOS = prepare_hospital(DATA_DIR/'LengthOfStay.csv')"
   ]
  },
  {
   "cell_type": "code",
   "execution_count": 8,
   "metadata": {
    "hidden": true
   },
   "outputs": [],
   "source": [
    "DATA_DICT = pd.read_excel(DATA_DIR/'Data_Dictionary.xlsx')\n",
    "METADATA = pd.read_csv(DATA_DIR/'MetaData_Facilities.csv')"
   ]
  },
  {
   "cell_type": "code",
   "execution_count": 9,
   "metadata": {
    "hidden": true
   },
   "outputs": [
    {
     "data": {
      "text/html": [
       "<div>\n",
       "<style scoped>\n",
       "    .dataframe tbody tr th:only-of-type {\n",
       "        vertical-align: middle;\n",
       "    }\n",
       "\n",
       "    .dataframe tbody tr th {\n",
       "        vertical-align: top;\n",
       "    }\n",
       "\n",
       "    .dataframe thead th {\n",
       "        text-align: right;\n",
       "    }\n",
       "</style>\n",
       "<table border=\"1\" class=\"dataframe\">\n",
       "  <thead>\n",
       "    <tr style=\"text-align: right;\">\n",
       "      <th></th>\n",
       "      <th>rcount</th>\n",
       "      <th>gender</th>\n",
       "      <th>facid</th>\n",
       "      <th>eid</th>\n",
       "      <th>vdate</th>\n",
       "      <th>dialysisrenalendstage</th>\n",
       "      <th>asthma</th>\n",
       "      <th>irondef</th>\n",
       "      <th>pneum</th>\n",
       "      <th>substancedependence</th>\n",
       "      <th>...</th>\n",
       "      <th>sodium</th>\n",
       "      <th>glucose</th>\n",
       "      <th>bloodureanitro</th>\n",
       "      <th>creatinine</th>\n",
       "      <th>bmi</th>\n",
       "      <th>pulse</th>\n",
       "      <th>respiration</th>\n",
       "      <th>secondarydiagnosisnonicd9</th>\n",
       "      <th>discharged</th>\n",
       "      <th>lengthofstay</th>\n",
       "    </tr>\n",
       "  </thead>\n",
       "  <tbody>\n",
       "    <tr>\n",
       "      <th>0</th>\n",
       "      <td>0</td>\n",
       "      <td>0</td>\n",
       "      <td>1</td>\n",
       "      <td>1.0</td>\n",
       "      <td>2012-08-29</td>\n",
       "      <td>0.0</td>\n",
       "      <td>0.0</td>\n",
       "      <td>0.0</td>\n",
       "      <td>0.0</td>\n",
       "      <td>0.0</td>\n",
       "      <td>...</td>\n",
       "      <td>140.361130</td>\n",
       "      <td>192.476913</td>\n",
       "      <td>12.0</td>\n",
       "      <td>1.390722</td>\n",
       "      <td>30.432417</td>\n",
       "      <td>96.0</td>\n",
       "      <td>6.5</td>\n",
       "      <td>4.0</td>\n",
       "      <td>2012-09-01</td>\n",
       "      <td>3.0</td>\n",
       "    </tr>\n",
       "    <tr>\n",
       "      <th>1</th>\n",
       "      <td>5</td>\n",
       "      <td>0</td>\n",
       "      <td>0</td>\n",
       "      <td>2.0</td>\n",
       "      <td>2012-05-26</td>\n",
       "      <td>0.0</td>\n",
       "      <td>0.0</td>\n",
       "      <td>0.0</td>\n",
       "      <td>0.0</td>\n",
       "      <td>0.0</td>\n",
       "      <td>...</td>\n",
       "      <td>136.731689</td>\n",
       "      <td>94.078506</td>\n",
       "      <td>8.0</td>\n",
       "      <td>0.943164</td>\n",
       "      <td>28.460516</td>\n",
       "      <td>61.0</td>\n",
       "      <td>6.5</td>\n",
       "      <td>1.0</td>\n",
       "      <td>2012-06-02</td>\n",
       "      <td>7.0</td>\n",
       "    </tr>\n",
       "    <tr>\n",
       "      <th>2</th>\n",
       "      <td>1</td>\n",
       "      <td>0</td>\n",
       "      <td>1</td>\n",
       "      <td>3.0</td>\n",
       "      <td>2012-09-22</td>\n",
       "      <td>0.0</td>\n",
       "      <td>0.0</td>\n",
       "      <td>0.0</td>\n",
       "      <td>0.0</td>\n",
       "      <td>0.0</td>\n",
       "      <td>...</td>\n",
       "      <td>133.058517</td>\n",
       "      <td>130.530518</td>\n",
       "      <td>12.0</td>\n",
       "      <td>1.065750</td>\n",
       "      <td>28.843811</td>\n",
       "      <td>64.0</td>\n",
       "      <td>6.5</td>\n",
       "      <td>2.0</td>\n",
       "      <td>2012-09-25</td>\n",
       "      <td>3.0</td>\n",
       "    </tr>\n",
       "    <tr>\n",
       "      <th>3</th>\n",
       "      <td>0</td>\n",
       "      <td>0</td>\n",
       "      <td>0</td>\n",
       "      <td>4.0</td>\n",
       "      <td>2012-08-09</td>\n",
       "      <td>0.0</td>\n",
       "      <td>0.0</td>\n",
       "      <td>0.0</td>\n",
       "      <td>0.0</td>\n",
       "      <td>0.0</td>\n",
       "      <td>...</td>\n",
       "      <td>138.994019</td>\n",
       "      <td>163.377029</td>\n",
       "      <td>12.0</td>\n",
       "      <td>0.906862</td>\n",
       "      <td>27.959007</td>\n",
       "      <td>76.0</td>\n",
       "      <td>6.5</td>\n",
       "      <td>1.0</td>\n",
       "      <td>2012-08-10</td>\n",
       "      <td>1.0</td>\n",
       "    </tr>\n",
       "    <tr>\n",
       "      <th>4</th>\n",
       "      <td>0</td>\n",
       "      <td>0</td>\n",
       "      <td>4</td>\n",
       "      <td>5.0</td>\n",
       "      <td>2012-12-20</td>\n",
       "      <td>0.0</td>\n",
       "      <td>0.0</td>\n",
       "      <td>0.0</td>\n",
       "      <td>1.0</td>\n",
       "      <td>0.0</td>\n",
       "      <td>...</td>\n",
       "      <td>138.634842</td>\n",
       "      <td>94.886658</td>\n",
       "      <td>11.5</td>\n",
       "      <td>1.242854</td>\n",
       "      <td>30.258926</td>\n",
       "      <td>67.0</td>\n",
       "      <td>5.6</td>\n",
       "      <td>2.0</td>\n",
       "      <td>2012-12-24</td>\n",
       "      <td>4.0</td>\n",
       "    </tr>\n",
       "  </tbody>\n",
       "</table>\n",
       "<p>5 rows × 28 columns</p>\n",
       "</div>"
      ],
      "text/plain": [
       "   rcount  gender  facid  eid      vdate  dialysisrenalendstage  asthma  \\\n",
       "0       0       0      1  1.0 2012-08-29                    0.0     0.0   \n",
       "1       5       0      0  2.0 2012-05-26                    0.0     0.0   \n",
       "2       1       0      1  3.0 2012-09-22                    0.0     0.0   \n",
       "3       0       0      0  4.0 2012-08-09                    0.0     0.0   \n",
       "4       0       0      4  5.0 2012-12-20                    0.0     0.0   \n",
       "\n",
       "   irondef  pneum  substancedependence      ...           sodium     glucose  \\\n",
       "0      0.0    0.0                  0.0      ...       140.361130  192.476913   \n",
       "1      0.0    0.0                  0.0      ...       136.731689   94.078506   \n",
       "2      0.0    0.0                  0.0      ...       133.058517  130.530518   \n",
       "3      0.0    0.0                  0.0      ...       138.994019  163.377029   \n",
       "4      0.0    1.0                  0.0      ...       138.634842   94.886658   \n",
       "\n",
       "   bloodureanitro  creatinine        bmi  pulse  respiration  \\\n",
       "0            12.0    1.390722  30.432417   96.0          6.5   \n",
       "1             8.0    0.943164  28.460516   61.0          6.5   \n",
       "2            12.0    1.065750  28.843811   64.0          6.5   \n",
       "3            12.0    0.906862  27.959007   76.0          6.5   \n",
       "4            11.5    1.242854  30.258926   67.0          5.6   \n",
       "\n",
       "   secondarydiagnosisnonicd9  discharged  lengthofstay  \n",
       "0                        4.0  2012-09-01           3.0  \n",
       "1                        1.0  2012-06-02           7.0  \n",
       "2                        2.0  2012-09-25           3.0  \n",
       "3                        1.0  2012-08-10           1.0  \n",
       "4                        2.0  2012-12-24           4.0  \n",
       "\n",
       "[5 rows x 28 columns]"
      ]
     },
     "execution_count": 9,
     "metadata": {},
     "output_type": "execute_result"
    }
   ],
   "source": [
    "LOS.head()"
   ]
  },
  {
   "cell_type": "code",
   "execution_count": 10,
   "metadata": {
    "hidden": true
   },
   "outputs": [
    {
     "name": "stdout",
     "output_type": "stream",
     "text": [
      "<class 'pandas.core.frame.DataFrame'>\n",
      "RangeIndex: 100000 entries, 0 to 99999\n",
      "Data columns (total 28 columns):\n",
      "rcount                        100000 non-null int32\n",
      "gender                        100000 non-null int32\n",
      "facid                         100000 non-null int32\n",
      "eid                           100000 non-null float32\n",
      "vdate                         100000 non-null datetime64[ns]\n",
      "dialysisrenalendstage         100000 non-null float32\n",
      "asthma                        100000 non-null float32\n",
      "irondef                       100000 non-null float32\n",
      "pneum                         100000 non-null float32\n",
      "substancedependence           100000 non-null float32\n",
      "psychologicaldisordermajor    100000 non-null float32\n",
      "depress                       100000 non-null float32\n",
      "psychother                    100000 non-null float32\n",
      "fibrosisandother              100000 non-null float32\n",
      "malnutrition                  100000 non-null float32\n",
      "hemo                          100000 non-null float32\n",
      "hematocrit                    100000 non-null float32\n",
      "neutrophils                   100000 non-null float32\n",
      "sodium                        100000 non-null float32\n",
      "glucose                       100000 non-null float32\n",
      "bloodureanitro                100000 non-null float32\n",
      "creatinine                    100000 non-null float32\n",
      "bmi                           100000 non-null float32\n",
      "pulse                         100000 non-null float32\n",
      "respiration                   100000 non-null float32\n",
      "secondarydiagnosisnonicd9     100000 non-null float32\n",
      "discharged                    100000 non-null datetime64[ns]\n",
      "lengthofstay                  100000 non-null float32\n",
      "dtypes: datetime64[ns](2), float32(23), int32(3)\n",
      "memory usage: 11.4 MB\n"
     ]
    }
   ],
   "source": [
    "LOS.info()"
   ]
  },
  {
   "cell_type": "markdown",
   "metadata": {
    "heading_collapsed": true,
    "hidden": true
   },
   "source": [
    "## Dealing with dates"
   ]
  },
  {
   "cell_type": "markdown",
   "metadata": {
    "hidden": true
   },
   "source": [
    "It seems reasonable that the day of week a patient is admitted to the hospital could influence the patient's length of stay (for example, if the patient is admitted just before the weekend). \n",
    "\n",
    "Let's add the day of week of the patient's visit as a feature, and drop the rest of the date information.\n",
    "\n",
    "> This illustrates how you can use the `datetime` features of Pandas. Often very helpful when constructing models of phenomena with some kind of time dependence. "
   ]
  },
  {
   "cell_type": "code",
   "execution_count": 11,
   "metadata": {
    "hidden": true
   },
   "outputs": [],
   "source": [
    "LOS['vweekday'] = LOS['vdate'].dt.dayofweek"
   ]
  },
  {
   "cell_type": "code",
   "execution_count": 12,
   "metadata": {
    "hidden": true
   },
   "outputs": [],
   "source": [
    "# We then drop the visit date (and also the date when the patient was discharged)\n",
    "LOS.drop(['vdate', 'discharged'], axis=1, inplace=True)"
   ]
  },
  {
   "cell_type": "code",
   "execution_count": 13,
   "metadata": {
    "hidden": true
   },
   "outputs": [
    {
     "data": {
      "text/html": [
       "<div>\n",
       "<style scoped>\n",
       "    .dataframe tbody tr th:only-of-type {\n",
       "        vertical-align: middle;\n",
       "    }\n",
       "\n",
       "    .dataframe tbody tr th {\n",
       "        vertical-align: top;\n",
       "    }\n",
       "\n",
       "    .dataframe thead th {\n",
       "        text-align: right;\n",
       "    }\n",
       "</style>\n",
       "<table border=\"1\" class=\"dataframe\">\n",
       "  <thead>\n",
       "    <tr style=\"text-align: right;\">\n",
       "      <th></th>\n",
       "      <th>rcount</th>\n",
       "      <th>gender</th>\n",
       "      <th>facid</th>\n",
       "      <th>eid</th>\n",
       "      <th>dialysisrenalendstage</th>\n",
       "      <th>asthma</th>\n",
       "      <th>irondef</th>\n",
       "      <th>pneum</th>\n",
       "      <th>substancedependence</th>\n",
       "      <th>psychologicaldisordermajor</th>\n",
       "      <th>...</th>\n",
       "      <th>sodium</th>\n",
       "      <th>glucose</th>\n",
       "      <th>bloodureanitro</th>\n",
       "      <th>creatinine</th>\n",
       "      <th>bmi</th>\n",
       "      <th>pulse</th>\n",
       "      <th>respiration</th>\n",
       "      <th>secondarydiagnosisnonicd9</th>\n",
       "      <th>lengthofstay</th>\n",
       "      <th>vweekday</th>\n",
       "    </tr>\n",
       "  </thead>\n",
       "  <tbody>\n",
       "    <tr>\n",
       "      <th>0</th>\n",
       "      <td>0</td>\n",
       "      <td>0</td>\n",
       "      <td>1</td>\n",
       "      <td>1.0</td>\n",
       "      <td>0.0</td>\n",
       "      <td>0.0</td>\n",
       "      <td>0.0</td>\n",
       "      <td>0.0</td>\n",
       "      <td>0.0</td>\n",
       "      <td>0.0</td>\n",
       "      <td>...</td>\n",
       "      <td>140.361130</td>\n",
       "      <td>192.476913</td>\n",
       "      <td>12.0</td>\n",
       "      <td>1.390722</td>\n",
       "      <td>30.432417</td>\n",
       "      <td>96.0</td>\n",
       "      <td>6.5</td>\n",
       "      <td>4.0</td>\n",
       "      <td>3.0</td>\n",
       "      <td>2</td>\n",
       "    </tr>\n",
       "    <tr>\n",
       "      <th>1</th>\n",
       "      <td>5</td>\n",
       "      <td>0</td>\n",
       "      <td>0</td>\n",
       "      <td>2.0</td>\n",
       "      <td>0.0</td>\n",
       "      <td>0.0</td>\n",
       "      <td>0.0</td>\n",
       "      <td>0.0</td>\n",
       "      <td>0.0</td>\n",
       "      <td>0.0</td>\n",
       "      <td>...</td>\n",
       "      <td>136.731689</td>\n",
       "      <td>94.078506</td>\n",
       "      <td>8.0</td>\n",
       "      <td>0.943164</td>\n",
       "      <td>28.460516</td>\n",
       "      <td>61.0</td>\n",
       "      <td>6.5</td>\n",
       "      <td>1.0</td>\n",
       "      <td>7.0</td>\n",
       "      <td>5</td>\n",
       "    </tr>\n",
       "    <tr>\n",
       "      <th>2</th>\n",
       "      <td>1</td>\n",
       "      <td>0</td>\n",
       "      <td>1</td>\n",
       "      <td>3.0</td>\n",
       "      <td>0.0</td>\n",
       "      <td>0.0</td>\n",
       "      <td>0.0</td>\n",
       "      <td>0.0</td>\n",
       "      <td>0.0</td>\n",
       "      <td>0.0</td>\n",
       "      <td>...</td>\n",
       "      <td>133.058517</td>\n",
       "      <td>130.530518</td>\n",
       "      <td>12.0</td>\n",
       "      <td>1.065750</td>\n",
       "      <td>28.843811</td>\n",
       "      <td>64.0</td>\n",
       "      <td>6.5</td>\n",
       "      <td>2.0</td>\n",
       "      <td>3.0</td>\n",
       "      <td>5</td>\n",
       "    </tr>\n",
       "    <tr>\n",
       "      <th>3</th>\n",
       "      <td>0</td>\n",
       "      <td>0</td>\n",
       "      <td>0</td>\n",
       "      <td>4.0</td>\n",
       "      <td>0.0</td>\n",
       "      <td>0.0</td>\n",
       "      <td>0.0</td>\n",
       "      <td>0.0</td>\n",
       "      <td>0.0</td>\n",
       "      <td>0.0</td>\n",
       "      <td>...</td>\n",
       "      <td>138.994019</td>\n",
       "      <td>163.377029</td>\n",
       "      <td>12.0</td>\n",
       "      <td>0.906862</td>\n",
       "      <td>27.959007</td>\n",
       "      <td>76.0</td>\n",
       "      <td>6.5</td>\n",
       "      <td>1.0</td>\n",
       "      <td>1.0</td>\n",
       "      <td>3</td>\n",
       "    </tr>\n",
       "    <tr>\n",
       "      <th>4</th>\n",
       "      <td>0</td>\n",
       "      <td>0</td>\n",
       "      <td>4</td>\n",
       "      <td>5.0</td>\n",
       "      <td>0.0</td>\n",
       "      <td>0.0</td>\n",
       "      <td>0.0</td>\n",
       "      <td>1.0</td>\n",
       "      <td>0.0</td>\n",
       "      <td>1.0</td>\n",
       "      <td>...</td>\n",
       "      <td>138.634842</td>\n",
       "      <td>94.886658</td>\n",
       "      <td>11.5</td>\n",
       "      <td>1.242854</td>\n",
       "      <td>30.258926</td>\n",
       "      <td>67.0</td>\n",
       "      <td>5.6</td>\n",
       "      <td>2.0</td>\n",
       "      <td>4.0</td>\n",
       "      <td>3</td>\n",
       "    </tr>\n",
       "  </tbody>\n",
       "</table>\n",
       "<p>5 rows × 27 columns</p>\n",
       "</div>"
      ],
      "text/plain": [
       "   rcount  gender  facid  eid  dialysisrenalendstage  asthma  irondef  pneum  \\\n",
       "0       0       0      1  1.0                    0.0     0.0      0.0    0.0   \n",
       "1       5       0      0  2.0                    0.0     0.0      0.0    0.0   \n",
       "2       1       0      1  3.0                    0.0     0.0      0.0    0.0   \n",
       "3       0       0      0  4.0                    0.0     0.0      0.0    0.0   \n",
       "4       0       0      4  5.0                    0.0     0.0      0.0    1.0   \n",
       "\n",
       "   substancedependence  psychologicaldisordermajor    ...         sodium  \\\n",
       "0                  0.0                         0.0    ...     140.361130   \n",
       "1                  0.0                         0.0    ...     136.731689   \n",
       "2                  0.0                         0.0    ...     133.058517   \n",
       "3                  0.0                         0.0    ...     138.994019   \n",
       "4                  0.0                         1.0    ...     138.634842   \n",
       "\n",
       "      glucose  bloodureanitro  creatinine        bmi  pulse  respiration  \\\n",
       "0  192.476913            12.0    1.390722  30.432417   96.0          6.5   \n",
       "1   94.078506             8.0    0.943164  28.460516   61.0          6.5   \n",
       "2  130.530518            12.0    1.065750  28.843811   64.0          6.5   \n",
       "3  163.377029            12.0    0.906862  27.959007   76.0          6.5   \n",
       "4   94.886658            11.5    1.242854  30.258926   67.0          5.6   \n",
       "\n",
       "   secondarydiagnosisnonicd9  lengthofstay  vweekday  \n",
       "0                        4.0           3.0         2  \n",
       "1                        1.0           7.0         5  \n",
       "2                        2.0           3.0         5  \n",
       "3                        1.0           1.0         3  \n",
       "4                        2.0           4.0         3  \n",
       "\n",
       "[5 rows x 27 columns]"
      ]
     },
     "execution_count": 13,
     "metadata": {},
     "output_type": "execute_result"
    }
   ],
   "source": [
    "LOS.head()"
   ]
  },
  {
   "cell_type": "markdown",
   "metadata": {
    "hidden": true
   },
   "source": [
    "Notice that we have a new feature as our last column above."
   ]
  },
  {
   "cell_type": "markdown",
   "metadata": {
    "heading_collapsed": true,
    "hidden": true
   },
   "source": [
    "## Prepare data for ML"
   ]
  },
  {
   "cell_type": "code",
   "execution_count": 14,
   "metadata": {
    "hidden": true
   },
   "outputs": [],
   "source": [
    "from sklearn.model_selection import train_test_split"
   ]
  },
  {
   "cell_type": "code",
   "execution_count": 15,
   "metadata": {
    "hidden": true
   },
   "outputs": [],
   "source": [
    "X = LOS.drop('lengthofstay', axis=1)\n",
    "y = LOS['lengthofstay']"
   ]
  },
  {
   "cell_type": "code",
   "execution_count": 16,
   "metadata": {
    "hidden": true
   },
   "outputs": [],
   "source": [
    "X_train, X_test, y_train, y_test = train_test_split(X, y, stratify=y, test_size=0.2, random_state=42)"
   ]
  },
  {
   "cell_type": "markdown",
   "metadata": {
    "heading_collapsed": true,
    "hidden": true
   },
   "source": [
    "## Test a random forest"
   ]
  },
  {
   "cell_type": "markdown",
   "metadata": {
    "hidden": true
   },
   "source": [
    "Just to make sure that things work, we train a random forest model on the data and measure its performance using average absolute error."
   ]
  },
  {
   "cell_type": "code",
   "execution_count": 17,
   "metadata": {
    "hidden": true
   },
   "outputs": [],
   "source": [
    "from sklearn.ensemble import RandomForestRegressor"
   ]
  },
  {
   "cell_type": "code",
   "execution_count": 18,
   "metadata": {
    "hidden": true
   },
   "outputs": [],
   "source": [
    "rf_reg = RandomForestRegressor(n_estimators=100, random_state=42, n_jobs=-1)"
   ]
  },
  {
   "cell_type": "code",
   "execution_count": 19,
   "metadata": {
    "hidden": true
   },
   "outputs": [
    {
     "data": {
      "text/plain": [
       "RandomForestRegressor(bootstrap=True, criterion='mse', max_depth=None,\n",
       "           max_features='auto', max_leaf_nodes=None,\n",
       "           min_impurity_decrease=0.0, min_impurity_split=None,\n",
       "           min_samples_leaf=1, min_samples_split=2,\n",
       "           min_weight_fraction_leaf=0.0, n_estimators=100, n_jobs=-1,\n",
       "           oob_score=False, random_state=42, verbose=0, warm_start=False)"
      ]
     },
     "execution_count": 19,
     "metadata": {},
     "output_type": "execute_result"
    }
   ],
   "source": [
    "rf_reg.fit(X_train, y_train)"
   ]
  },
  {
   "cell_type": "code",
   "execution_count": 20,
   "metadata": {
    "hidden": true
   },
   "outputs": [],
   "source": [
    "y_pred = rf_reg.predict(X_test)"
   ]
  },
  {
   "cell_type": "code",
   "execution_count": 21,
   "metadata": {
    "hidden": true
   },
   "outputs": [],
   "source": [
    "from sklearn.metrics import mean_absolute_error"
   ]
  },
  {
   "cell_type": "code",
   "execution_count": 22,
   "metadata": {
    "hidden": true
   },
   "outputs": [
    {
     "data": {
      "text/plain": [
       "0.388839"
      ]
     },
     "execution_count": 22,
     "metadata": {},
     "output_type": "execute_result"
    }
   ],
   "source": [
    "mean_absolute_error(y_test, y_pred)"
   ]
  },
  {
   "cell_type": "markdown",
   "metadata": {
    "heading_collapsed": true
   },
   "source": [
    "# XGBoost"
   ]
  },
  {
   "cell_type": "code",
   "execution_count": 23,
   "metadata": {
    "hidden": true
   },
   "outputs": [],
   "source": [
    "import xgboost as xgb\n",
    "from xgboost import XGBRegressor"
   ]
  },
  {
   "cell_type": "markdown",
   "metadata": {
    "hidden": true
   },
   "source": [
    "From the previous notebook we know that it is very simple to use the scikit-learn-like interface of XGBoost:"
   ]
  },
  {
   "cell_type": "code",
   "execution_count": 24,
   "metadata": {
    "hidden": true
   },
   "outputs": [
    {
     "data": {
      "text/plain": [
       "XGBRegressor(base_score=0.5, booster='gbtree', colsample_bylevel=1,\n",
       "       colsample_bytree=1, gamma=0, learning_rate=0.1, max_delta_step=0,\n",
       "       max_depth=3, min_child_weight=1, missing=None, n_estimators=100,\n",
       "       n_jobs=-1, nthread=None, objective='reg:linear', random_state=0,\n",
       "       reg_alpha=0, reg_lambda=1, scale_pos_weight=1, seed=None,\n",
       "       silent=True, subsample=1)"
      ]
     },
     "execution_count": 24,
     "metadata": {},
     "output_type": "execute_result"
    }
   ],
   "source": [
    "xgb_reg = XGBRegressor(n_jobs=-1)\n",
    "xgb_reg.fit(X_train, y_train)"
   ]
  },
  {
   "cell_type": "code",
   "execution_count": 25,
   "metadata": {
    "hidden": true
   },
   "outputs": [],
   "source": [
    "y_pred = xgb_reg.predict(X_test)"
   ]
  },
  {
   "cell_type": "code",
   "execution_count": 26,
   "metadata": {
    "hidden": true
   },
   "outputs": [
    {
     "data": {
      "text/plain": [
       "0.43210167"
      ]
     },
     "execution_count": 26,
     "metadata": {},
     "output_type": "execute_result"
    }
   ],
   "source": [
    "mean_absolute_error(y_test, y_pred)"
   ]
  },
  {
   "cell_type": "markdown",
   "metadata": {
    "hidden": true
   },
   "source": [
    "This gives us a worse score than the random forest above. **That is typical**: \n",
    "> to unlock XGBoost's potential you must tune its hyperparameters."
   ]
  },
  {
   "cell_type": "markdown",
   "metadata": {
    "heading_collapsed": true
   },
   "source": [
    "# Tuning XGBoost: the simple way\n",
    "...which rarely works well in practice"
   ]
  },
  {
   "cell_type": "markdown",
   "metadata": {
    "hidden": true
   },
   "source": [
    "All scikit-learn compatible models can be tuned by using `GridSearchCV` or `RandomizedSearchCV` over a specified parameter grid. "
   ]
  },
  {
   "cell_type": "code",
   "execution_count": 27,
   "metadata": {
    "hidden": true
   },
   "outputs": [],
   "source": [
    "from sklearn.model_selection import GridSearchCV, RandomizedSearchCV"
   ]
  },
  {
   "cell_type": "markdown",
   "metadata": {
    "hidden": true
   },
   "source": [
    "We'll look more into the parameters of XGBoost below. For now, let's just list two parameter grids that often work okay-ish:"
   ]
  },
  {
   "cell_type": "code",
   "execution_count": 28,
   "metadata": {
    "hidden": true
   },
   "outputs": [],
   "source": [
    "xgb_param_grid = {\n",
    "        'min_child_weight': [1, 5, 10],\n",
    "        'gamma': [0.0, 1.0, 1.5],\n",
    "        'subsample': [0.6, 1.0],\n",
    "        'colsample_bytree': [0.6, 0.8, 1.0],\n",
    "        'max_depth': [5, 6, 7, 8, 10]\n",
    "        }\n",
    "\n",
    "\n",
    "xgb_param_grid_large = {\n",
    "        'learning_rate': [0.1, 0.05, 0.2],\n",
    "        'n_estimators': [50, 100, 500, 600],\n",
    "        'min_child_weight': [1, 5, 10],\n",
    "        'gamma': [0.0, 1.0, 1.5],\n",
    "        'subsample': [0.6, 1.0],\n",
    "        'colsample_bytree': [0.5, 0.6, 0.8],\n",
    "        'max_depth': [3, 4, 5, 6, 7, 8, 9, 10],\n",
    "        }"
   ]
  },
  {
   "cell_type": "markdown",
   "metadata": {
    "hidden": true
   },
   "source": [
    "A complete grid search over all of these combinations only works if you either have a small data set or a lot of time available. \n",
    "\n",
    "A random search, where you simply try a set number of different combinations at random, can sometimes produce improved models, depending on how many iterations you have time for. \n",
    "\n",
    "Let's try it out:"
   ]
  },
  {
   "cell_type": "code",
   "execution_count": 29,
   "metadata": {
    "hidden": true
   },
   "outputs": [],
   "source": [
    "xgb_reg = XGBRegressor(random_state=42)"
   ]
  },
  {
   "cell_type": "code",
   "execution_count": 30,
   "metadata": {
    "hidden": true
   },
   "outputs": [],
   "source": [
    "r_xgb_reg = RandomizedSearchCV(xgb_reg, xgb_param_grid, n_iter=50, verbose=1, n_jobs=-1, cv=3, random_state=42)"
   ]
  },
  {
   "cell_type": "code",
   "execution_count": 31,
   "metadata": {
    "hidden": true
   },
   "outputs": [
    {
     "name": "stdout",
     "output_type": "stream",
     "text": [
      "Fitting 3 folds for each of 50 candidates, totalling 150 fits\n"
     ]
    },
    {
     "name": "stderr",
     "output_type": "stream",
     "text": [
      "[Parallel(n_jobs=-1)]: Using backend LokyBackend with 8 concurrent workers.\n",
      "[Parallel(n_jobs=-1)]: Done  34 tasks      | elapsed:  1.9min\n",
      "[Parallel(n_jobs=-1)]: Done 150 out of 150 | elapsed:  7.9min finished\n"
     ]
    },
    {
     "name": "stdout",
     "output_type": "stream",
     "text": [
      "Wall time: 8min 7s\n"
     ]
    },
    {
     "data": {
      "text/plain": [
       "RandomizedSearchCV(cv=3, error_score='raise-deprecating',\n",
       "          estimator=XGBRegressor(base_score=0.5, booster='gbtree', colsample_bylevel=1,\n",
       "       colsample_bytree=1, gamma=0, learning_rate=0.1, max_delta_step=0,\n",
       "       max_depth=3, min_child_weight=1, missing=None, n_estimators=100,\n",
       "       n_jobs=1, nthread=None, objective='reg:linear', random_state=42,\n",
       "       reg_alpha=0, reg_lambda=1, scale_pos_weight=1, seed=None,\n",
       "       silent=True, subsample=1),\n",
       "          fit_params=None, iid='warn', n_iter=50, n_jobs=-1,\n",
       "          param_distributions={'min_child_weight': [1, 5, 10], 'gamma': [0.0, 1.0, 1.5], 'subsample': [0.6, 1.0], 'colsample_bytree': [0.6, 0.8, 1.0], 'max_depth': [5, 6, 7, 8, 10]},\n",
       "          pre_dispatch='2*n_jobs', random_state=42, refit=True,\n",
       "          return_train_score='warn', scoring=None, verbose=1)"
      ]
     },
     "execution_count": 31,
     "metadata": {},
     "output_type": "execute_result"
    }
   ],
   "source": [
    "%%time\n",
    "r_xgb_reg.fit(X_train, y_train)"
   ]
  },
  {
   "cell_type": "code",
   "execution_count": 32,
   "metadata": {
    "hidden": true
   },
   "outputs": [
    {
     "data": {
      "text/plain": [
       "XGBRegressor(base_score=0.5, booster='gbtree', colsample_bylevel=1,\n",
       "       colsample_bytree=0.8, gamma=0.0, learning_rate=0.1,\n",
       "       max_delta_step=0, max_depth=8, min_child_weight=10, missing=None,\n",
       "       n_estimators=100, n_jobs=1, nthread=None, objective='reg:linear',\n",
       "       random_state=42, reg_alpha=0, reg_lambda=1, scale_pos_weight=1,\n",
       "       seed=None, silent=True, subsample=1.0)"
      ]
     },
     "execution_count": 32,
     "metadata": {},
     "output_type": "execute_result"
    }
   ],
   "source": [
    "r_xgb_reg.best_estimator_"
   ]
  },
  {
   "cell_type": "code",
   "execution_count": 33,
   "metadata": {
    "hidden": true
   },
   "outputs": [],
   "source": [
    "y_pred = r_xgb_reg.predict(X_test)"
   ]
  },
  {
   "cell_type": "code",
   "execution_count": 34,
   "metadata": {
    "hidden": true
   },
   "outputs": [
    {
     "data": {
      "text/plain": [
       "0.3309693"
      ]
     },
     "execution_count": 34,
     "metadata": {},
     "output_type": "execute_result"
    }
   ],
   "source": [
    "mean_absolute_error(y_test, y_pred)"
   ]
  },
  {
   "cell_type": "markdown",
   "metadata": {
    "hidden": true
   },
   "source": [
    "If you set `n_iter=50` you'll get about 0.33, a nice improvement over the baseline of 0.432."
   ]
  },
  {
   "cell_type": "markdown",
   "metadata": {
    "heading_collapsed": true
   },
   "source": [
    "# Tuning XGBoost the XGBoost way"
   ]
  },
  {
   "cell_type": "markdown",
   "metadata": {
    "hidden": true
   },
   "source": [
    "Since you rarely have the time to grid search through a large set of parameters, and random search is pretty unpredictable, it's typically better to go about things in a more careful manner. "
   ]
  },
  {
   "cell_type": "markdown",
   "metadata": {
    "heading_collapsed": true,
    "hidden": true
   },
   "source": [
    "## DMatrix"
   ]
  },
  {
   "cell_type": "markdown",
   "metadata": {
    "hidden": true
   },
   "source": [
    "When using the native XGBoost API we have to convert our data to the **DMatrix** format, an <a href=\"https://xgboost.readthedocs.io/en/latest/python/python_api.html#module-xgboost.core\">internal data structure</a> in XGBoost that is optimized for both memory efficiency and training speed. "
   ]
  },
  {
   "cell_type": "code",
   "execution_count": 31,
   "metadata": {
    "hidden": true
   },
   "outputs": [],
   "source": [
    "dtrain = xgb.DMatrix(X_train, label=y_train)\n",
    "dtest = xgb.DMatrix(X_test, label=y_test)"
   ]
  },
  {
   "cell_type": "markdown",
   "metadata": {
    "heading_collapsed": true,
    "hidden": true
   },
   "source": [
    "## A quick overview of XGBoost parameters"
   ]
  },
  {
   "cell_type": "markdown",
   "metadata": {
    "hidden": true
   },
   "source": [
    "We'll only look at some of the basics. For more details about XGBoost and its parameters I recommend \n",
    "\n",
    "1. https://blog.cambridgespark.com/hyperparameter-tuning-in-xgboost-4ff9100a3b2f\n",
    "2. https://www.slideshare.net/ShangxuanZhang/kaggle-winning-solution-xgboost-algorithm-let-us-learn-from-its-author\n",
    "3. https://xgboost.readthedocs.io/en/latest/parameter.html"
   ]
  },
  {
   "cell_type": "markdown",
   "metadata": {
    "hidden": true
   },
   "source": [
    "We'll follow the first reference quite closely below."
   ]
  },
  {
   "cell_type": "code",
   "execution_count": 32,
   "metadata": {
    "hidden": true
   },
   "outputs": [],
   "source": [
    "#?XGBRegressor"
   ]
  },
  {
   "cell_type": "markdown",
   "metadata": {
    "hidden": true
   },
   "source": [
    "The main parameters to consider are:"
   ]
  },
  {
   "cell_type": "markdown",
   "metadata": {
    "hidden": true
   },
   "source": [
    "- `num_boost_round`, which controls the number of trees to build, and `early_stopping_rounds`, a parameter that enables us to stop adding trees once we've reached a good number. \n",
    "\n",
    "XGBoost provides and automatic way of finding these parameters by monitoring the performance during training. You simply test whether each tree added to the ensemble improves performance. Once `early_stopping_rounds` number of trees have been added without performance increase, you stop training and store the best number of trees in `num_boost_rounds`. \n",
    "\n",
    "This value depends on all the other hyperparameter settings so it's best to calculate it every time a parameter is updated."
   ]
  },
  {
   "cell_type": "markdown",
   "metadata": {
    "hidden": true
   },
   "source": [
    "Other parameters can be found using the **cross-validation** function of XGBoost:"
   ]
  },
  {
   "cell_type": "markdown",
   "metadata": {
    "hidden": true
   },
   "source": [
    "- `max_depth`, `min_child_weigth` and `gamma`, which control the **model complexity** by constraining it. The first two are similar to the ones in random forests, while `gamma` is the minimum loss reduction we allow to further partition a leaf node. The default value 0.0 for `gamma` is usually okay, which let's the algorithm split a node as long as it gives any reduction in the loss function. \n",
    "\n",
    "\n",
    "- `subsample`, `colsample_bytree`, which controls how the model samples the training data each round. What fraction of training examples to sample from, and what fraction of features to use. If both are set to 0.5, for example, then XGBoost will randomly sample half the training data and half the features before growing trees. The randomness introduced by this helps make the model more robust to noise in the data, reducing overfitting. \n",
    "\n",
    "\n",
    "- `learning_rate` controls how much each round corrects the errors of the previous round (\"residual learning\"). It's usually okay to use the default 0.1. "
   ]
  },
  {
   "cell_type": "markdown",
   "metadata": {
    "hidden": true
   },
   "source": [
    "There are other typically less influental parameters as well (have a look at the documentation for a complete list). For example `lambda`, which controls the amount of L2 regularization, and `alpha`, which controls the amount of L1 regularization. We won't tune these."
   ]
  },
  {
   "cell_type": "markdown",
   "metadata": {
    "heading_collapsed": true,
    "hidden": true
   },
   "source": [
    "## `xgb.cv`"
   ]
  },
  {
   "cell_type": "markdown",
   "metadata": {
    "hidden": true
   },
   "source": [
    "Cross validation the native XGBoost way:"
   ]
  },
  {
   "cell_type": "markdown",
   "metadata": {
    "hidden": true
   },
   "source": [
    "<img src=\"assets/K-fold_cross_validation_EN.jpg\">"
   ]
  },
  {
   "cell_type": "markdown",
   "metadata": {
    "hidden": true
   },
   "source": [
    "We start by setting up a parameter dictionary with some starting values for the parameters we want to tune:"
   ]
  },
  {
   "cell_type": "code",
   "execution_count": 34,
   "metadata": {
    "hidden": true
   },
   "outputs": [],
   "source": [
    "params = {\n",
    "    'max_depth': 8,\n",
    "    'min_child_weight': 10,\n",
    "    'subsample': 1,\n",
    "    'colsample_bytree': 0.8,\n",
    "}"
   ]
  },
  {
   "cell_type": "markdown",
   "metadata": {
    "hidden": true
   },
   "source": [
    "...and add the evaluation metric we'll use to decide on the optimal number of trees:"
   ]
  },
  {
   "cell_type": "code",
   "execution_count": 35,
   "metadata": {
    "hidden": true
   },
   "outputs": [],
   "source": [
    "params['eval_metric'] = 'mae' # Mean absolute error"
   ]
  },
  {
   "cell_type": "markdown",
   "metadata": {
    "hidden": true
   },
   "source": [
    "... and a high number for the trees, which we'll reduce using early stopping:"
   ]
  },
  {
   "cell_type": "code",
   "execution_count": 36,
   "metadata": {
    "hidden": true
   },
   "outputs": [],
   "source": [
    "num_boost_round = 1500"
   ]
  },
  {
   "cell_type": "markdown",
   "metadata": {
    "hidden": true
   },
   "source": [
    "We'll stop training the model after 10 rounds with no decrease in the validation error. This is to combat overfitting. "
   ]
  },
  {
   "cell_type": "code",
   "execution_count": 37,
   "metadata": {
    "hidden": true
   },
   "outputs": [],
   "source": [
    "early_stopping_rounds = 10"
   ]
  },
  {
   "cell_type": "markdown",
   "metadata": {
    "hidden": true
   },
   "source": [
    "Let's check how our current parameters perform in cross-validation. **WARNING**: This takes a while..."
   ]
  },
  {
   "cell_type": "code",
   "execution_count": 38,
   "metadata": {
    "hidden": true
   },
   "outputs": [],
   "source": [
    "%%capture\n",
    "# Added capture to suppress the output (try without to see what happens)\n",
    "cv_results = xgb.cv(params, dtrain, num_boost_round=num_boost_round, \n",
    "                    early_stopping_rounds=early_stopping_rounds, nfold=3, metrics='mae', \n",
    "                    stratified=True, seed=42)"
   ]
  },
  {
   "cell_type": "markdown",
   "metadata": {
    "hidden": true
   },
   "source": [
    "Here are the last few scores:"
   ]
  },
  {
   "cell_type": "code",
   "execution_count": 39,
   "metadata": {
    "hidden": true
   },
   "outputs": [
    {
     "data": {
      "text/html": [
       "<div>\n",
       "<style scoped>\n",
       "    .dataframe tbody tr th:only-of-type {\n",
       "        vertical-align: middle;\n",
       "    }\n",
       "\n",
       "    .dataframe tbody tr th {\n",
       "        vertical-align: top;\n",
       "    }\n",
       "\n",
       "    .dataframe thead th {\n",
       "        text-align: right;\n",
       "    }\n",
       "</style>\n",
       "<table border=\"1\" class=\"dataframe\">\n",
       "  <thead>\n",
       "    <tr style=\"text-align: right;\">\n",
       "      <th></th>\n",
       "      <th>train-mae-mean</th>\n",
       "      <th>train-mae-std</th>\n",
       "      <th>test-mae-mean</th>\n",
       "      <th>test-mae-std</th>\n",
       "    </tr>\n",
       "  </thead>\n",
       "  <tbody>\n",
       "    <tr>\n",
       "      <th>110</th>\n",
       "      <td>0.231178</td>\n",
       "      <td>0.000860</td>\n",
       "      <td>0.340381</td>\n",
       "      <td>0.002103</td>\n",
       "    </tr>\n",
       "    <tr>\n",
       "      <th>111</th>\n",
       "      <td>0.230374</td>\n",
       "      <td>0.000879</td>\n",
       "      <td>0.340140</td>\n",
       "      <td>0.002463</td>\n",
       "    </tr>\n",
       "    <tr>\n",
       "      <th>112</th>\n",
       "      <td>0.230011</td>\n",
       "      <td>0.000890</td>\n",
       "      <td>0.340082</td>\n",
       "      <td>0.002387</td>\n",
       "    </tr>\n",
       "    <tr>\n",
       "      <th>113</th>\n",
       "      <td>0.229455</td>\n",
       "      <td>0.000989</td>\n",
       "      <td>0.340019</td>\n",
       "      <td>0.002491</td>\n",
       "    </tr>\n",
       "    <tr>\n",
       "      <th>114</th>\n",
       "      <td>0.228843</td>\n",
       "      <td>0.001090</td>\n",
       "      <td>0.340008</td>\n",
       "      <td>0.002516</td>\n",
       "    </tr>\n",
       "    <tr>\n",
       "      <th>115</th>\n",
       "      <td>0.228295</td>\n",
       "      <td>0.001156</td>\n",
       "      <td>0.339989</td>\n",
       "      <td>0.002504</td>\n",
       "    </tr>\n",
       "    <tr>\n",
       "      <th>116</th>\n",
       "      <td>0.227607</td>\n",
       "      <td>0.001209</td>\n",
       "      <td>0.339904</td>\n",
       "      <td>0.002415</td>\n",
       "    </tr>\n",
       "    <tr>\n",
       "      <th>117</th>\n",
       "      <td>0.226926</td>\n",
       "      <td>0.001145</td>\n",
       "      <td>0.339919</td>\n",
       "      <td>0.002529</td>\n",
       "    </tr>\n",
       "    <tr>\n",
       "      <th>118</th>\n",
       "      <td>0.226208</td>\n",
       "      <td>0.001229</td>\n",
       "      <td>0.339753</td>\n",
       "      <td>0.002462</td>\n",
       "    </tr>\n",
       "    <tr>\n",
       "      <th>119</th>\n",
       "      <td>0.225745</td>\n",
       "      <td>0.001226</td>\n",
       "      <td>0.339814</td>\n",
       "      <td>0.002426</td>\n",
       "    </tr>\n",
       "    <tr>\n",
       "      <th>120</th>\n",
       "      <td>0.225291</td>\n",
       "      <td>0.001283</td>\n",
       "      <td>0.339816</td>\n",
       "      <td>0.002418</td>\n",
       "    </tr>\n",
       "    <tr>\n",
       "      <th>121</th>\n",
       "      <td>0.224850</td>\n",
       "      <td>0.000896</td>\n",
       "      <td>0.339760</td>\n",
       "      <td>0.002363</td>\n",
       "    </tr>\n",
       "    <tr>\n",
       "      <th>122</th>\n",
       "      <td>0.224490</td>\n",
       "      <td>0.000851</td>\n",
       "      <td>0.339800</td>\n",
       "      <td>0.002407</td>\n",
       "    </tr>\n",
       "    <tr>\n",
       "      <th>123</th>\n",
       "      <td>0.224048</td>\n",
       "      <td>0.000919</td>\n",
       "      <td>0.339753</td>\n",
       "      <td>0.002389</td>\n",
       "    </tr>\n",
       "    <tr>\n",
       "      <th>124</th>\n",
       "      <td>0.223617</td>\n",
       "      <td>0.000813</td>\n",
       "      <td>0.339753</td>\n",
       "      <td>0.002382</td>\n",
       "    </tr>\n",
       "    <tr>\n",
       "      <th>125</th>\n",
       "      <td>0.223166</td>\n",
       "      <td>0.000869</td>\n",
       "      <td>0.339775</td>\n",
       "      <td>0.002402</td>\n",
       "    </tr>\n",
       "    <tr>\n",
       "      <th>126</th>\n",
       "      <td>0.222700</td>\n",
       "      <td>0.000714</td>\n",
       "      <td>0.339763</td>\n",
       "      <td>0.002389</td>\n",
       "    </tr>\n",
       "    <tr>\n",
       "      <th>127</th>\n",
       "      <td>0.222387</td>\n",
       "      <td>0.000676</td>\n",
       "      <td>0.339731</td>\n",
       "      <td>0.002424</td>\n",
       "    </tr>\n",
       "    <tr>\n",
       "      <th>128</th>\n",
       "      <td>0.222131</td>\n",
       "      <td>0.000562</td>\n",
       "      <td>0.339741</td>\n",
       "      <td>0.002428</td>\n",
       "    </tr>\n",
       "    <tr>\n",
       "      <th>129</th>\n",
       "      <td>0.221850</td>\n",
       "      <td>0.000532</td>\n",
       "      <td>0.339722</td>\n",
       "      <td>0.002429</td>\n",
       "    </tr>\n",
       "    <tr>\n",
       "      <th>130</th>\n",
       "      <td>0.221678</td>\n",
       "      <td>0.000549</td>\n",
       "      <td>0.339739</td>\n",
       "      <td>0.002427</td>\n",
       "    </tr>\n",
       "    <tr>\n",
       "      <th>131</th>\n",
       "      <td>0.221471</td>\n",
       "      <td>0.000541</td>\n",
       "      <td>0.339756</td>\n",
       "      <td>0.002442</td>\n",
       "    </tr>\n",
       "    <tr>\n",
       "      <th>132</th>\n",
       "      <td>0.220781</td>\n",
       "      <td>0.001009</td>\n",
       "      <td>0.339553</td>\n",
       "      <td>0.002268</td>\n",
       "    </tr>\n",
       "    <tr>\n",
       "      <th>133</th>\n",
       "      <td>0.220543</td>\n",
       "      <td>0.000973</td>\n",
       "      <td>0.339594</td>\n",
       "      <td>0.002253</td>\n",
       "    </tr>\n",
       "    <tr>\n",
       "      <th>134</th>\n",
       "      <td>0.219893</td>\n",
       "      <td>0.000733</td>\n",
       "      <td>0.339504</td>\n",
       "      <td>0.002410</td>\n",
       "    </tr>\n",
       "  </tbody>\n",
       "</table>\n",
       "</div>"
      ],
      "text/plain": [
       "     train-mae-mean  train-mae-std  test-mae-mean  test-mae-std\n",
       "110        0.231178       0.000860       0.340381      0.002103\n",
       "111        0.230374       0.000879       0.340140      0.002463\n",
       "112        0.230011       0.000890       0.340082      0.002387\n",
       "113        0.229455       0.000989       0.340019      0.002491\n",
       "114        0.228843       0.001090       0.340008      0.002516\n",
       "115        0.228295       0.001156       0.339989      0.002504\n",
       "116        0.227607       0.001209       0.339904      0.002415\n",
       "117        0.226926       0.001145       0.339919      0.002529\n",
       "118        0.226208       0.001229       0.339753      0.002462\n",
       "119        0.225745       0.001226       0.339814      0.002426\n",
       "120        0.225291       0.001283       0.339816      0.002418\n",
       "121        0.224850       0.000896       0.339760      0.002363\n",
       "122        0.224490       0.000851       0.339800      0.002407\n",
       "123        0.224048       0.000919       0.339753      0.002389\n",
       "124        0.223617       0.000813       0.339753      0.002382\n",
       "125        0.223166       0.000869       0.339775      0.002402\n",
       "126        0.222700       0.000714       0.339763      0.002389\n",
       "127        0.222387       0.000676       0.339731      0.002424\n",
       "128        0.222131       0.000562       0.339741      0.002428\n",
       "129        0.221850       0.000532       0.339722      0.002429\n",
       "130        0.221678       0.000549       0.339739      0.002427\n",
       "131        0.221471       0.000541       0.339756      0.002442\n",
       "132        0.220781       0.001009       0.339553      0.002268\n",
       "133        0.220543       0.000973       0.339594      0.002253\n",
       "134        0.219893       0.000733       0.339504      0.002410"
      ]
     },
     "execution_count": 39,
     "metadata": {},
     "output_type": "execute_result"
    }
   ],
   "source": [
    "cv_results[-25:]"
   ]
  },
  {
   "cell_type": "markdown",
   "metadata": {
    "hidden": true
   },
   "source": [
    "The best score is:"
   ]
  },
  {
   "cell_type": "code",
   "execution_count": 40,
   "metadata": {
    "hidden": true
   },
   "outputs": [
    {
     "data": {
      "text/plain": [
       "0.33950433333333335"
      ]
     },
     "execution_count": 40,
     "metadata": {},
     "output_type": "execute_result"
    }
   ],
   "source": [
    "cv_results['test-mae-mean'].min()"
   ]
  },
  {
   "cell_type": "markdown",
   "metadata": {
    "hidden": true
   },
   "source": [
    "in round "
   ]
  },
  {
   "cell_type": "code",
   "execution_count": 41,
   "metadata": {
    "hidden": true
   },
   "outputs": [
    {
     "data": {
      "text/plain": [
       "134"
      ]
     },
     "execution_count": 41,
     "metadata": {},
     "output_type": "execute_result"
    }
   ],
   "source": [
    "cv_results['test-mae-mean'].values.argmin()"
   ]
  },
  {
   "cell_type": "markdown",
   "metadata": {
    "hidden": true
   },
   "source": [
    "This is the score we can get with our baseline parameters and an optimal number of trees added. \n",
    "\n",
    "The next step is to find a good setting for `max_depth` and `min_child_length`. Then, using these values, find good settings for `subsample` and `colsample_by_tree`."
   ]
  },
  {
   "cell_type": "markdown",
   "metadata": {
    "heading_collapsed": true,
    "hidden": true
   },
   "source": [
    "## Finding `max_depth` and `min_child_weight`:"
   ]
  },
  {
   "cell_type": "markdown",
   "metadata": {
    "hidden": true
   },
   "source": [
    "Remember that we stored the default parameters in `params`:"
   ]
  },
  {
   "cell_type": "code",
   "execution_count": 42,
   "metadata": {
    "hidden": true
   },
   "outputs": [
    {
     "data": {
      "text/plain": [
       "{'max_depth': 8,\n",
       " 'min_child_weight': 10,\n",
       " 'subsample': 1,\n",
       " 'colsample_bytree': 0.8,\n",
       " 'eval_metric': 'mae'}"
      ]
     },
     "execution_count": 42,
     "metadata": {},
     "output_type": "execute_result"
    }
   ],
   "source": [
    "params"
   ]
  },
  {
   "cell_type": "markdown",
   "metadata": {
    "hidden": true
   },
   "source": [
    "We'll update these parameters until we get something better. "
   ]
  },
  {
   "cell_type": "markdown",
   "metadata": {
    "hidden": true
   },
   "source": [
    "We'll set up a small parameter grid for `max_depth` and `min_child_weight` in which we expect to find some good settings. **Note:** The values you should choose here depends on the data. I recommend using a larger grid if possible, but I kept it relatively small here to reduce computation time. "
   ]
  },
  {
   "cell_type": "code",
   "execution_count": 43,
   "metadata": {
    "hidden": true
   },
   "outputs": [],
   "source": [
    "complexity_params = {\n",
    "    'max_depth': range(5,8),\n",
    "    'min_child_weight': range(3,7)\n",
    "}"
   ]
  },
  {
   "cell_type": "markdown",
   "metadata": {
    "hidden": true
   },
   "source": [
    "We turn it into a scikit-learn parameter grid, for convenience:"
   ]
  },
  {
   "cell_type": "code",
   "execution_count": 44,
   "metadata": {
    "hidden": true
   },
   "outputs": [],
   "source": [
    "from sklearn.model_selection import ParameterGrid\n",
    "\n",
    "complexity_param_grid = ParameterGrid(complexity_params)"
   ]
  },
  {
   "cell_type": "markdown",
   "metadata": {
    "hidden": true
   },
   "source": [
    "We're going to search through all these combinations looking for the best one, all the time using early stopping to get the best number of trees (boosting rounds) automatically:"
   ]
  },
  {
   "cell_type": "code",
   "execution_count": 45,
   "metadata": {
    "hidden": true
   },
   "outputs": [],
   "source": [
    "# Intial best parameters\n",
    "min_mae = float(\"Inf\")\n",
    "best_params = None"
   ]
  },
  {
   "cell_type": "markdown",
   "metadata": {
    "hidden": true
   },
   "source": [
    "This will take a while.."
   ]
  },
  {
   "cell_type": "code",
   "execution_count": 46,
   "metadata": {
    "hidden": true,
    "scrolled": true
   },
   "outputs": [],
   "source": [
    "%%capture\n",
    "# Code based on https://blog.cambridgespark.com/hyperparameter-tuning-in-xgboost-4ff9100a3b2f\n",
    "for current_params in complexity_param_grid:\n",
    "    \n",
    "    # Current settings\n",
    "    md = current_params['max_depth']\n",
    "    mcw = current_params['min_child_weight']\n",
    "    \n",
    "    \n",
    "    # Use the current parameter settings\n",
    "    params['max_depth'] = md\n",
    "    params['min_child_weight'] = mcw\n",
    "    \n",
    "    # And evaluate them using cross-validation\n",
    "    cv_results = xgb.cv(\n",
    "        params, dtrain, num_boost_round=num_boost_round, early_stopping_rounds=early_stopping_rounds, \n",
    "        stratified=True, seed=42, nfold=3, metrics='mae'\n",
    "    )\n",
    "    \n",
    "    # If the score improved, we update the current best parameters:\n",
    "    mean_mae = cv_results['test-mae-mean'].min()\n",
    "    \n",
    "    if mean_mae < min_mae:\n",
    "        min_mae = mean_mae\n",
    "        best_params = (md, mcw)"
   ]
  },
  {
   "cell_type": "code",
   "execution_count": 47,
   "metadata": {
    "hidden": true
   },
   "outputs": [
    {
     "name": "stdout",
     "output_type": "stream",
     "text": [
      "Best parameters are: (5, 5), which gave a MAE of 0.33018366666666665\n"
     ]
    }
   ],
   "source": [
    "print(f'Best parameters are: {best_params}, which gave a MAE of {min_mae}')"
   ]
  },
  {
   "cell_type": "markdown",
   "metadata": {
    "hidden": true
   },
   "source": [
    "Let's update our parameter settings to reflect this:"
   ]
  },
  {
   "cell_type": "code",
   "execution_count": 48,
   "metadata": {
    "hidden": true
   },
   "outputs": [],
   "source": [
    "params['max_depth'] = 5\n",
    "params['min_child_weight'] = 5"
   ]
  },
  {
   "cell_type": "markdown",
   "metadata": {
    "hidden": true
   },
   "source": [
    "...and continue to the next stage"
   ]
  },
  {
   "cell_type": "markdown",
   "metadata": {
    "heading_collapsed": true,
    "hidden": true
   },
   "source": [
    "## Finding `subsample` and `colsample_bytree`"
   ]
  },
  {
   "cell_type": "code",
   "execution_count": 49,
   "metadata": {
    "hidden": true
   },
   "outputs": [],
   "source": [
    "sampling_params = {\n",
    "    'subsample': [i/10. for i in range(8,11)],\n",
    "    'colsample_bytree': [i/10. for i in range(3,7)]\n",
    "}"
   ]
  },
  {
   "cell_type": "code",
   "execution_count": 50,
   "metadata": {
    "hidden": true
   },
   "outputs": [],
   "source": [
    "sampling_param_grid = ParameterGrid(sampling_params)"
   ]
  },
  {
   "cell_type": "code",
   "execution_count": 51,
   "metadata": {
    "hidden": true
   },
   "outputs": [],
   "source": [
    "min_mae = float(\"Inf\")\n",
    "best_params = None"
   ]
  },
  {
   "cell_type": "code",
   "execution_count": 52,
   "metadata": {
    "hidden": true,
    "scrolled": true
   },
   "outputs": [],
   "source": [
    "%%capture\n",
    "for current_params in sampling_param_grid:\n",
    "    \n",
    "    # Current settings\n",
    "    ss = current_params['subsample']\n",
    "    csbt = current_params['colsample_bytree']\n",
    "    \n",
    "    # Use the current parameter settings\n",
    "    params['subsample'] = ss\n",
    "    params['colsample_bytree'] = csbt\n",
    "    \n",
    "    # And evaluate them using cross-validation\n",
    "    cv_results = xgb.cv(\n",
    "        params, dtrain, num_boost_round=num_boost_round, early_stopping_rounds=early_stopping_rounds, \n",
    "        stratified=True, seed=42, nfold=3, metrics='mae'\n",
    "    )\n",
    "    \n",
    "    # If the score improved, we update the current best parameters:\n",
    "    mean_mae = cv_results['test-mae-mean'].min()\n",
    "    \n",
    "    if mean_mae < min_mae:\n",
    "        min_mae = mean_mae\n",
    "        best_params = (ss, csbt)"
   ]
  },
  {
   "cell_type": "code",
   "execution_count": 53,
   "metadata": {
    "hidden": true
   },
   "outputs": [
    {
     "name": "stdout",
     "output_type": "stream",
     "text": [
      "Best parameters are: (1.0, 0.4), which gave a MAE of 0.3291076666666667\n"
     ]
    }
   ],
   "source": [
    "print(f'Best parameters are: {best_params}, which gave a MAE of {min_mae}')"
   ]
  },
  {
   "cell_type": "markdown",
   "metadata": {
    "hidden": true
   },
   "source": [
    "We update our current best parameter settings:"
   ]
  },
  {
   "cell_type": "code",
   "execution_count": 54,
   "metadata": {
    "hidden": true
   },
   "outputs": [],
   "source": [
    "params['subsample'] = 1.0\n",
    "params['colsample_bytree'] = 0.4"
   ]
  },
  {
   "cell_type": "markdown",
   "metadata": {
    "hidden": true
   },
   "source": [
    "...and continue to the final stage with our current best parameters:"
   ]
  },
  {
   "cell_type": "code",
   "execution_count": 55,
   "metadata": {
    "hidden": true
   },
   "outputs": [
    {
     "data": {
      "text/plain": [
       "{'max_depth': 5,\n",
       " 'min_child_weight': 5,\n",
       " 'subsample': 1.0,\n",
       " 'colsample_bytree': 0.4,\n",
       " 'eval_metric': 'mae'}"
      ]
     },
     "execution_count": 55,
     "metadata": {},
     "output_type": "execute_result"
    }
   ],
   "source": [
    "params"
   ]
  },
  {
   "cell_type": "markdown",
   "metadata": {
    "heading_collapsed": true,
    "hidden": true
   },
   "source": [
    "## Finding `num_boost_rounds`"
   ]
  },
  {
   "cell_type": "markdown",
   "metadata": {
    "hidden": true
   },
   "source": [
    "The final step is to decide on a good number of trees to use, given our current parameters."
   ]
  },
  {
   "cell_type": "markdown",
   "metadata": {
    "hidden": true
   },
   "source": [
    "As this is not done using cross-validation, we need a validation set for this:"
   ]
  },
  {
   "cell_type": "code",
   "execution_count": 56,
   "metadata": {
    "hidden": true
   },
   "outputs": [],
   "source": [
    "X_train_num_boost, X_val_num_boost, y_train_num_boost, y_val_num_boost = train_test_split(X_train, \n",
    "                                                                                           y_train, \n",
    "                                                                                           stratify=y_train, \n",
    "                                                                                           random_state=42)"
   ]
  },
  {
   "cell_type": "code",
   "execution_count": 57,
   "metadata": {
    "hidden": true
   },
   "outputs": [],
   "source": [
    "dtrain_num_boost = xgb.DMatrix(X_train_num_boost, label=y_train_num_boost)\n",
    "dval_num_boost = xgb.DMatrix(X_val_num_boost, label=y_val_num_boost)"
   ]
  },
  {
   "cell_type": "code",
   "execution_count": 58,
   "metadata": {
    "hidden": true
   },
   "outputs": [],
   "source": [
    "early_stopping_rounds=10"
   ]
  },
  {
   "cell_type": "code",
   "execution_count": 59,
   "metadata": {
    "hidden": true
   },
   "outputs": [],
   "source": [
    "%%capture\n",
    "model = xgb.train(\n",
    "    params,\n",
    "    dtrain_num_boost,\n",
    "    num_boost_round=num_boost_round,\n",
    "    evals=[(dval_num_boost, \"Validation\")],\n",
    "    early_stopping_rounds=early_stopping_rounds\n",
    ")"
   ]
  },
  {
   "cell_type": "markdown",
   "metadata": {
    "hidden": true
   },
   "source": [
    "The best iteration and test score is: "
   ]
  },
  {
   "cell_type": "code",
   "execution_count": 60,
   "metadata": {
    "hidden": true
   },
   "outputs": [
    {
     "name": "stdout",
     "output_type": "stream",
     "text": [
      "Best iteration: 297, Best score: 0.330336\n"
     ]
    }
   ],
   "source": [
    "print(f'Best iteration: {model.best_iteration}, Best score: {model.best_score}')"
   ]
  },
  {
   "cell_type": "markdown",
   "metadata": {
    "hidden": true
   },
   "source": [
    "`num_boost_round = 297` therefore seems like a good choice. "
   ]
  },
  {
   "cell_type": "code",
   "execution_count": 61,
   "metadata": {
    "hidden": true
   },
   "outputs": [],
   "source": [
    "num_boost_round = model.best_iteration"
   ]
  },
  {
   "cell_type": "markdown",
   "metadata": {
    "heading_collapsed": true,
    "hidden": true
   },
   "source": [
    "## Summary"
   ]
  },
  {
   "cell_type": "markdown",
   "metadata": {
    "hidden": true
   },
   "source": [
    "The final parameter settings that gave us the best result are:"
   ]
  },
  {
   "cell_type": "code",
   "execution_count": 62,
   "metadata": {
    "hidden": true
   },
   "outputs": [
    {
     "data": {
      "text/plain": [
       "{'max_depth': 5,\n",
       " 'min_child_weight': 5,\n",
       " 'subsample': 1.0,\n",
       " 'colsample_bytree': 0.4,\n",
       " 'eval_metric': 'mae'}"
      ]
     },
     "execution_count": 62,
     "metadata": {},
     "output_type": "execute_result"
    }
   ],
   "source": [
    "params"
   ]
  },
  {
   "cell_type": "code",
   "execution_count": 63,
   "metadata": {
    "hidden": true
   },
   "outputs": [
    {
     "data": {
      "text/plain": [
       "297"
      ]
     },
     "execution_count": 63,
     "metadata": {},
     "output_type": "execute_result"
    }
   ],
   "source": [
    "num_boost_round"
   ]
  },
  {
   "cell_type": "markdown",
   "metadata": {
    "hidden": true
   },
   "source": [
    "We can train a model using these parameter and test it on the test set:"
   ]
  },
  {
   "cell_type": "code",
   "execution_count": 64,
   "metadata": {
    "hidden": true,
    "scrolled": true
   },
   "outputs": [],
   "source": [
    "%%capture\n",
    "model = xgb.train(\n",
    "    params,\n",
    "    dtrain,\n",
    "    num_boost_round=num_boost_round,\n",
    "    evals=[(dtest, \"Test\")],\n",
    ")"
   ]
  },
  {
   "cell_type": "code",
   "execution_count": 65,
   "metadata": {
    "hidden": true
   },
   "outputs": [],
   "source": [
    "y_pred = model.predict(dtest)"
   ]
  },
  {
   "cell_type": "code",
   "execution_count": 66,
   "metadata": {
    "hidden": true
   },
   "outputs": [
    {
     "data": {
      "text/plain": [
       "0.32609785"
      ]
     },
     "execution_count": 66,
     "metadata": {},
     "output_type": "execute_result"
    }
   ],
   "source": [
    "mean_absolute_error(y_test, y_pred)"
   ]
  },
  {
   "cell_type": "markdown",
   "metadata": {
    "hidden": true
   },
   "source": [
    "Our hyperparameter optimization for XGBoost took us from 0.43 to 0.32, not bad. "
   ]
  },
  {
   "cell_type": "markdown",
   "metadata": {
    "heading_collapsed": true,
    "hidden": true
   },
   "source": [
    "## Feature importances"
   ]
  },
  {
   "cell_type": "code",
   "execution_count": 67,
   "metadata": {
    "hidden": true
   },
   "outputs": [
    {
     "data": {
      "image/png": "[encoded data removed]",
      "text/plain": [
       "<Figure size 1152x720 with 1 Axes>"
      ]
     },
     "metadata": {
      "needs_background": "light"
     },
     "output_type": "display_data"
    }
   ],
   "source": [
    "fig, ax = plt.subplots(figsize=(16,10))\n",
    "xgb.plot_importance(model, ax=ax)\n",
    "plt.show()"
   ]
  },
  {
   "cell_type": "markdown",
   "metadata": {
    "heading_collapsed": true
   },
   "source": [
    "# How to improve this"
   ]
  },
  {
   "cell_type": "markdown",
   "metadata": {
    "hidden": true
   },
   "source": [
    "There are many practical introductions to hyperparameter optimization for XGBoost that goes into more details. For example:"
   ]
  },
  {
   "cell_type": "markdown",
   "metadata": {
    "hidden": true
   },
   "source": [
    "- https://www.slideshare.net/odsc/owen-zhangopen-sourcetoolsanddscompetitions1\n",
    "- https://towardsdatascience.com/fine-tuning-xgboost-in-python-like-a-boss-b4543ed8b1e\n",
    "- https://www.analyticsvidhya.com/blog/2016/03/complete-guide-parameter-tuning-xgboost-with-codes-python/\n",
    "- https://www.datacamp.com/courses/extreme-gradient-boosting-with-xgboost\n",
    "- https://www.slideshare.net/ShangxuanZhang/kaggle-winning-solution-xgboost-algorithm-let-us-learn-from-its-author\n",
    "- https://blog.cambridgespark.com/hyperparameter-tuning-in-xgboost-4ff9100a3b2f\n",
    "- https://stats.stackexchange.com/questions/243908/tuning-order-xgboost"
   ]
  },
  {
   "cell_type": "markdown",
   "metadata": {
    "heading_collapsed": true
   },
   "source": [
    "# Your turn!"
   ]
  },
  {
   "cell_type": "markdown",
   "metadata": {
    "heading_collapsed": true,
    "hidden": true
   },
   "source": [
    "## Your turn #1:"
   ]
  },
  {
   "cell_type": "markdown",
   "metadata": {
    "hidden": true
   },
   "source": [
    "Try optimizing the `gamma` as well. This should be done after `max_depth` and `min_child_weight`, and before `subsample` and `colsample_bytree`.\n",
    "\n",
    "Some good values to try are:"
   ]
  },
  {
   "cell_type": "code",
   "execution_count": 71,
   "metadata": {
    "hidden": true
   },
   "outputs": [],
   "source": [
    "gamma_params = {\n",
    "    'gamma': [i/10. for i in range(0,5)]\n",
    "}"
   ]
  },
  {
   "cell_type": "markdown",
   "metadata": {
    "heading_collapsed": true,
    "hidden": true
   },
   "source": [
    "## Your turn #2:\n",
    "Try this out on a different data set! For example the one you used in Assignment 2, or the housing prices data set from Assignment 1. \n",
    "\n",
    "If you follow the steps above carefully, making some slight changes to the values tested if necessary, you should be able to get a model that outperforms your previous models. "
   ]
  }
 ],
 "metadata": {
  "kernelspec": {
   "display_name": "DAT158",
   "language": "python",
   "name": "dat158"
  },
  "language_info": {
   "codemirror_mode": {
    "name": "ipython",
    "version": 3
   },
   "file_extension": ".py",
   "mimetype": "text/x-python",
   "name": "python",
   "nbconvert_exporter": "python",
   "pygments_lexer": "ipython3",
   "version": "3.6.6"
  },
  "toc": {
   "base_numbering": 1,
   "nav_menu": {},
   "number_sections": true,
   "sideBar": true,
   "skip_h1_title": false,
   "title_cell": "Table of Contents",
   "title_sidebar": "Contents",
   "toc_cell": false,
   "toc_position": {},
   "toc_section_display": true,
   "toc_window_display": false
  }
 },
 "nbformat": 4,
 "nbformat_minor": 2
}
